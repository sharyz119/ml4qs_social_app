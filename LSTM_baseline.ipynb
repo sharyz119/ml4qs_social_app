{
  "nbformat": 4,
  "nbformat_minor": 0,
  "metadata": {
    "colab": {
      "provenance": [],
      "machine_shape": "hm",
      "gpuType": "T4"
    },
    "kernelspec": {
      "name": "python3",
      "display_name": "Python 3"
    },
    "language_info": {
      "name": "python"
    },
    "accelerator": "GPU"
  },
  "cells": [
    {
      "cell_type": "code",
      "execution_count": 1,
      "metadata": {
        "colab": {
          "base_uri": "https://localhost:8080/"
        },
        "id": "XZmT5JWhGlXh",
        "outputId": "20aace2f-daba-4027-a7e5-7ded888fd81a"
      },
      "outputs": [
        {
          "output_type": "stream",
          "name": "stdout",
          "text": [
            "Mounted at /content/drive/\n"
          ]
        }
      ],
      "source": [
        "from google.colab import drive\n",
        "drive.mount('/content/drive/')"
      ]
    },
    {
      "cell_type": "code",
      "source": [
        "import os\n",
        "os.chdir('/content/drive/MyDrive/ml4qs/')"
      ],
      "metadata": {
        "id": "o_7DNlCyGq9y"
      },
      "execution_count": 2,
      "outputs": []
    },
    {
      "cell_type": "code",
      "source": [
        "!pip install optuna\n",
        "!pip install tensorflow\n"
      ],
      "metadata": {
        "colab": {
          "base_uri": "https://localhost:8080/"
        },
        "id": "_kTo2OCdG8Mn",
        "outputId": "e0904453-ad02-4993-ce1b-4708fb26f035"
      },
      "execution_count": 3,
      "outputs": [
        {
          "output_type": "stream",
          "name": "stdout",
          "text": [
            "Collecting optuna\n",
            "  Downloading optuna-3.6.1-py3-none-any.whl (380 kB)\n",
            "\u001b[2K     \u001b[90m━━━━━━━━━━━━━━━━━━━━━━━━━━━━━━━━━━━━━━━━\u001b[0m \u001b[32m380.1/380.1 kB\u001b[0m \u001b[31m7.4 MB/s\u001b[0m eta \u001b[36m0:00:00\u001b[0m\n",
            "\u001b[?25hCollecting alembic>=1.5.0 (from optuna)\n",
            "  Downloading alembic-1.13.1-py3-none-any.whl (233 kB)\n",
            "\u001b[2K     \u001b[90m━━━━━━━━━━━━━━━━━━━━━━━━━━━━━━━━━━━━━━━━\u001b[0m \u001b[32m233.4/233.4 kB\u001b[0m \u001b[31m10.2 MB/s\u001b[0m eta \u001b[36m0:00:00\u001b[0m\n",
            "\u001b[?25hCollecting colorlog (from optuna)\n",
            "  Downloading colorlog-6.8.2-py3-none-any.whl (11 kB)\n",
            "Requirement already satisfied: numpy in /usr/local/lib/python3.10/dist-packages (from optuna) (1.25.2)\n",
            "Requirement already satisfied: packaging>=20.0 in /usr/local/lib/python3.10/dist-packages (from optuna) (24.1)\n",
            "Requirement already satisfied: sqlalchemy>=1.3.0 in /usr/local/lib/python3.10/dist-packages (from optuna) (2.0.30)\n",
            "Requirement already satisfied: tqdm in /usr/local/lib/python3.10/dist-packages (from optuna) (4.66.4)\n",
            "Requirement already satisfied: PyYAML in /usr/local/lib/python3.10/dist-packages (from optuna) (6.0.1)\n",
            "Collecting Mako (from alembic>=1.5.0->optuna)\n",
            "  Downloading Mako-1.3.5-py3-none-any.whl (78 kB)\n",
            "\u001b[2K     \u001b[90m━━━━━━━━━━━━━━━━━━━━━━━━━━━━━━━━━━━━━━━━\u001b[0m \u001b[32m78.6/78.6 kB\u001b[0m \u001b[31m8.0 MB/s\u001b[0m eta \u001b[36m0:00:00\u001b[0m\n",
            "\u001b[?25hRequirement already satisfied: typing-extensions>=4 in /usr/local/lib/python3.10/dist-packages (from alembic>=1.5.0->optuna) (4.12.2)\n",
            "Requirement already satisfied: greenlet!=0.4.17 in /usr/local/lib/python3.10/dist-packages (from sqlalchemy>=1.3.0->optuna) (3.0.3)\n",
            "Requirement already satisfied: MarkupSafe>=0.9.2 in /usr/local/lib/python3.10/dist-packages (from Mako->alembic>=1.5.0->optuna) (2.1.5)\n",
            "Installing collected packages: Mako, colorlog, alembic, optuna\n",
            "Successfully installed Mako-1.3.5 alembic-1.13.1 colorlog-6.8.2 optuna-3.6.1\n",
            "Requirement already satisfied: tensorflow in /usr/local/lib/python3.10/dist-packages (2.15.0)\n",
            "Requirement already satisfied: absl-py>=1.0.0 in /usr/local/lib/python3.10/dist-packages (from tensorflow) (1.4.0)\n",
            "Requirement already satisfied: astunparse>=1.6.0 in /usr/local/lib/python3.10/dist-packages (from tensorflow) (1.6.3)\n",
            "Requirement already satisfied: flatbuffers>=23.5.26 in /usr/local/lib/python3.10/dist-packages (from tensorflow) (24.3.25)\n",
            "Requirement already satisfied: gast!=0.5.0,!=0.5.1,!=0.5.2,>=0.2.1 in /usr/local/lib/python3.10/dist-packages (from tensorflow) (0.5.4)\n",
            "Requirement already satisfied: google-pasta>=0.1.1 in /usr/local/lib/python3.10/dist-packages (from tensorflow) (0.2.0)\n",
            "Requirement already satisfied: h5py>=2.9.0 in /usr/local/lib/python3.10/dist-packages (from tensorflow) (3.9.0)\n",
            "Requirement already satisfied: libclang>=13.0.0 in /usr/local/lib/python3.10/dist-packages (from tensorflow) (18.1.1)\n",
            "Requirement already satisfied: ml-dtypes~=0.2.0 in /usr/local/lib/python3.10/dist-packages (from tensorflow) (0.2.0)\n",
            "Requirement already satisfied: numpy<2.0.0,>=1.23.5 in /usr/local/lib/python3.10/dist-packages (from tensorflow) (1.25.2)\n",
            "Requirement already satisfied: opt-einsum>=2.3.2 in /usr/local/lib/python3.10/dist-packages (from tensorflow) (3.3.0)\n",
            "Requirement already satisfied: packaging in /usr/local/lib/python3.10/dist-packages (from tensorflow) (24.1)\n",
            "Requirement already satisfied: protobuf!=4.21.0,!=4.21.1,!=4.21.2,!=4.21.3,!=4.21.4,!=4.21.5,<5.0.0dev,>=3.20.3 in /usr/local/lib/python3.10/dist-packages (from tensorflow) (3.20.3)\n",
            "Requirement already satisfied: setuptools in /usr/local/lib/python3.10/dist-packages (from tensorflow) (67.7.2)\n",
            "Requirement already satisfied: six>=1.12.0 in /usr/local/lib/python3.10/dist-packages (from tensorflow) (1.16.0)\n",
            "Requirement already satisfied: termcolor>=1.1.0 in /usr/local/lib/python3.10/dist-packages (from tensorflow) (2.4.0)\n",
            "Requirement already satisfied: typing-extensions>=3.6.6 in /usr/local/lib/python3.10/dist-packages (from tensorflow) (4.12.2)\n",
            "Requirement already satisfied: wrapt<1.15,>=1.11.0 in /usr/local/lib/python3.10/dist-packages (from tensorflow) (1.14.1)\n",
            "Requirement already satisfied: tensorflow-io-gcs-filesystem>=0.23.1 in /usr/local/lib/python3.10/dist-packages (from tensorflow) (0.37.0)\n",
            "Requirement already satisfied: grpcio<2.0,>=1.24.3 in /usr/local/lib/python3.10/dist-packages (from tensorflow) (1.64.1)\n",
            "Requirement already satisfied: tensorboard<2.16,>=2.15 in /usr/local/lib/python3.10/dist-packages (from tensorflow) (2.15.2)\n",
            "Requirement already satisfied: tensorflow-estimator<2.16,>=2.15.0 in /usr/local/lib/python3.10/dist-packages (from tensorflow) (2.15.0)\n",
            "Requirement already satisfied: keras<2.16,>=2.15.0 in /usr/local/lib/python3.10/dist-packages (from tensorflow) (2.15.0)\n",
            "Requirement already satisfied: wheel<1.0,>=0.23.0 in /usr/local/lib/python3.10/dist-packages (from astunparse>=1.6.0->tensorflow) (0.43.0)\n",
            "Requirement already satisfied: google-auth<3,>=1.6.3 in /usr/local/lib/python3.10/dist-packages (from tensorboard<2.16,>=2.15->tensorflow) (2.27.0)\n",
            "Requirement already satisfied: google-auth-oauthlib<2,>=0.5 in /usr/local/lib/python3.10/dist-packages (from tensorboard<2.16,>=2.15->tensorflow) (1.2.0)\n",
            "Requirement already satisfied: markdown>=2.6.8 in /usr/local/lib/python3.10/dist-packages (from tensorboard<2.16,>=2.15->tensorflow) (3.6)\n",
            "Requirement already satisfied: requests<3,>=2.21.0 in /usr/local/lib/python3.10/dist-packages (from tensorboard<2.16,>=2.15->tensorflow) (2.31.0)\n",
            "Requirement already satisfied: tensorboard-data-server<0.8.0,>=0.7.0 in /usr/local/lib/python3.10/dist-packages (from tensorboard<2.16,>=2.15->tensorflow) (0.7.2)\n",
            "Requirement already satisfied: werkzeug>=1.0.1 in /usr/local/lib/python3.10/dist-packages (from tensorboard<2.16,>=2.15->tensorflow) (3.0.3)\n",
            "Requirement already satisfied: cachetools<6.0,>=2.0.0 in /usr/local/lib/python3.10/dist-packages (from google-auth<3,>=1.6.3->tensorboard<2.16,>=2.15->tensorflow) (5.3.3)\n",
            "Requirement already satisfied: pyasn1-modules>=0.2.1 in /usr/local/lib/python3.10/dist-packages (from google-auth<3,>=1.6.3->tensorboard<2.16,>=2.15->tensorflow) (0.4.0)\n",
            "Requirement already satisfied: rsa<5,>=3.1.4 in /usr/local/lib/python3.10/dist-packages (from google-auth<3,>=1.6.3->tensorboard<2.16,>=2.15->tensorflow) (4.9)\n",
            "Requirement already satisfied: requests-oauthlib>=0.7.0 in /usr/local/lib/python3.10/dist-packages (from google-auth-oauthlib<2,>=0.5->tensorboard<2.16,>=2.15->tensorflow) (1.3.1)\n",
            "Requirement already satisfied: charset-normalizer<4,>=2 in /usr/local/lib/python3.10/dist-packages (from requests<3,>=2.21.0->tensorboard<2.16,>=2.15->tensorflow) (3.3.2)\n",
            "Requirement already satisfied: idna<4,>=2.5 in /usr/local/lib/python3.10/dist-packages (from requests<3,>=2.21.0->tensorboard<2.16,>=2.15->tensorflow) (3.7)\n",
            "Requirement already satisfied: urllib3<3,>=1.21.1 in /usr/local/lib/python3.10/dist-packages (from requests<3,>=2.21.0->tensorboard<2.16,>=2.15->tensorflow) (2.0.7)\n",
            "Requirement already satisfied: certifi>=2017.4.17 in /usr/local/lib/python3.10/dist-packages (from requests<3,>=2.21.0->tensorboard<2.16,>=2.15->tensorflow) (2024.6.2)\n",
            "Requirement already satisfied: MarkupSafe>=2.1.1 in /usr/local/lib/python3.10/dist-packages (from werkzeug>=1.0.1->tensorboard<2.16,>=2.15->tensorflow) (2.1.5)\n",
            "Requirement already satisfied: pyasn1<0.7.0,>=0.4.6 in /usr/local/lib/python3.10/dist-packages (from pyasn1-modules>=0.2.1->google-auth<3,>=1.6.3->tensorboard<2.16,>=2.15->tensorflow) (0.6.0)\n",
            "Requirement already satisfied: oauthlib>=3.0.0 in /usr/local/lib/python3.10/dist-packages (from requests-oauthlib>=0.7.0->google-auth-oauthlib<2,>=0.5->tensorboard<2.16,>=2.15->tensorflow) (3.2.2)\n"
          ]
        }
      ]
    },
    {
      "cell_type": "code",
      "source": [
        "import numpy as np\n",
        "import pandas as pd\n",
        "import matplotlib.pyplot as plt\n",
        "import seaborn as sns\n",
        "import random\n",
        "from sklearn.model_selection import train_test_split\n",
        "from sklearn.metrics import classification_report, confusion_matrix, accuracy_score\n",
        "from sklearn.preprocessing import StandardScaler, LabelEncoder\n",
        "import tensorflow as tf\n",
        "from tensorflow.keras.models import Sequential\n",
        "from tensorflow.keras.layers import LSTM, Dense, Dropout\n",
        "from tensorflow.keras.optimizers import Adam\n",
        "import optuna"
      ],
      "metadata": {
        "id": "Xy46LHI7HkBc"
      },
      "execution_count": 5,
      "outputs": []
    },
    {
      "cell_type": "code",
      "source": [
        "# Load the dataset\n",
        "full_data = pd.read_parquet(\"full_dataset.parquet.gzip\")"
      ],
      "metadata": {
        "id": "ZDV-GiTRJ7ah"
      },
      "execution_count": 6,
      "outputs": []
    },
    {
      "cell_type": "code",
      "source": [
        "# Split the dataset into training and testing sets\n",
        "random.seed(51)\n",
        "testing_categories = [1, 2, 3, 4, 5, 6]\n",
        "random.shuffle(testing_categories)\n",
        "\n",
        "testing_set = [f\"{platform}{number}\" for platform, number in zip(full_data[\"SM_platform\"].unique(), testing_categories)]\n",
        "testing_df = full_data[full_data[\"source_name\"].isin(testing_set)]\n",
        "training_df = full_data[~full_data[\"source_name\"].isin(testing_set)]\n"
      ],
      "metadata": {
        "id": "0fIizKhFJ_c2"
      },
      "execution_count": 7,
      "outputs": []
    },
    {
      "cell_type": "code",
      "source": [
        "# Only select standardized columns\n",
        "columns_to_select = [col for col in full_data.columns if 'zscore' in col] + [\"SM_platform\", \"index\"] + [col for col in\n",
        "                                                                                                        full_data.columns\n",
        "                                                                                                        if 'pc' in col]\n",
        "training_df = training_df.loc[:, columns_to_select]\n",
        "testing_df = testing_df.loc[:, columns_to_select]\n"
      ],
      "metadata": {
        "id": "m2bxR8xFKGqm"
      },
      "execution_count": 8,
      "outputs": []
    },
    {
      "cell_type": "code",
      "source": [
        "# Separate features and target\n",
        "X_train = training_df.drop(columns=[\"SM_platform\"])\n",
        "y_train = training_df[\"SM_platform\"]\n",
        "X_test = testing_df.drop(columns=[\"SM_platform\"])\n",
        "y_test = testing_df[\"SM_platform\"]\n",
        "\n",
        "# Encode the target variable\n",
        "label_encoder = LabelEncoder()\n",
        "y_train_encoded = label_encoder.fit_transform(y_train)\n",
        "y_test_encoded = label_encoder.transform(y_test)\n",
        "\n",
        "# Normalize features\n",
        "scaler = StandardScaler()\n",
        "X_train_scaled = scaler.fit_transform(X_train)\n",
        "X_test_scaled = scaler.transform(X_test)\n"
      ],
      "metadata": {
        "id": "HOpM46_6KJpo"
      },
      "execution_count": 9,
      "outputs": []
    },
    {
      "cell_type": "code",
      "source": [
        "# Create sequences for LSTM\n",
        "def create_sequences(data, target, sequence_length):\n",
        "    sequences = []\n",
        "    labels = []\n",
        "    for i in range(len(data) - sequence_length):\n",
        "        sequences.append(data[i:i + sequence_length])\n",
        "        labels.append(target[i + sequence_length])\n",
        "    return np.array(sequences), np.array(labels)\n",
        "\n",
        "\n",
        "sequence_length = 10  # Example sequence length\n",
        "X_train_seq, y_train_seq = create_sequences(X_train_scaled, y_train_encoded, sequence_length)\n",
        "X_test_seq, y_test_seq = create_sequences(X_test_scaled, y_test_encoded, sequence_length)\n"
      ],
      "metadata": {
        "id": "osolKvpRKRA0"
      },
      "execution_count": 10,
      "outputs": []
    },
    {
      "cell_type": "code",
      "source": [
        "# Define the LSTM model\n",
        "def create_model(trial):\n",
        "    units = trial.suggest_int('units', 50, 200)\n",
        "    dropout_rate = trial.suggest_float('dropout_rate', 0.2, 0.5)\n",
        "    learning_rate = trial.suggest_float('learning_rate', 1e-4, 1e-2)\n",
        "\n",
        "    model = Sequential()\n",
        "    model.add(LSTM(units=units, return_sequences=True, input_shape=(X_train_seq.shape[1], X_train_seq.shape[2])))\n",
        "    model.add(Dropout(dropout_rate))\n",
        "    model.add(LSTM(units=units, return_sequences=False))\n",
        "    model.add(Dropout(dropout_rate))\n",
        "    model.add(Dense(units=25, activation='relu'))\n",
        "    model.add(Dense(units=len(label_encoder.classes_), activation='softmax'))\n",
        "\n",
        "    optimizer = Adam(learning_rate=learning_rate)\n",
        "    model.compile(optimizer=optimizer, loss='sparse_categorical_crossentropy', metrics=['accuracy'])\n",
        "\n",
        "    return model\n"
      ],
      "metadata": {
        "id": "nwT8PxFPKVPk"
      },
      "execution_count": 11,
      "outputs": []
    },
    {
      "cell_type": "code",
      "source": [
        "# define Optuna objective function\n",
        "def objective(trial):\n",
        "    model = create_model(trial)\n",
        "    model.fit(X_train_seq, y_train_seq, epochs=10, batch_size=32, validation_split=0.2, verbose=0)\n",
        "    score = model.evaluate(X_test_seq, y_test_seq, verbose=0)\n",
        "    return score[1]\n"
      ],
      "metadata": {
        "id": "XW78JknCKYvR"
      },
      "execution_count": 12,
      "outputs": []
    },
    {
      "cell_type": "markdown",
      "source": [
        "default training"
      ],
      "metadata": {
        "id": "IyXP79EoLUdV"
      }
    },
    {
      "cell_type": "code",
      "source": [
        "# Define the LSTM model with default hyperparameters\n",
        "def create_default_model():\n",
        "    model = Sequential()\n",
        "    model.add(LSTM(units=100, return_sequences=True, input_shape=(X_train_seq.shape[1], X_train_seq.shape[2])))\n",
        "    model.add(Dropout(0.2))\n",
        "    model.add(LSTM(units=100, return_sequences=False))\n",
        "    model.add(Dropout(0.2))\n",
        "    model.add(Dense(units=25, activation='relu'))\n",
        "    model.add(Dense(units=len(label_encoder.classes_), activation='softmax'))\n",
        "\n",
        "    optimizer = Adam(learning_rate=1e-3)\n",
        "    model.compile(optimizer=optimizer, loss='sparse_categorical_crossentropy', metrics=['accuracy'])\n",
        "\n",
        "    return model"
      ],
      "metadata": {
        "id": "YHOctxRAL99q"
      },
      "execution_count": 14,
      "outputs": []
    },
    {
      "cell_type": "code",
      "source": [
        "# Train the model with default hyperparameters\n",
        "default_model = create_default_model()\n",
        "history = default_model.fit(X_train_seq, y_train_seq, epochs=50, batch_size=32, validation_split=0.2, verbose=1)\n"
      ],
      "metadata": {
        "colab": {
          "base_uri": "https://localhost:8080/"
        },
        "id": "Zq85jXjZLaMQ",
        "outputId": "6450b53e-6160-42b8-da2c-f812d652f1f6"
      },
      "execution_count": 15,
      "outputs": [
        {
          "output_type": "stream",
          "name": "stdout",
          "text": [
            "Epoch 1/50\n",
            "4425/4425 [==============================] - 31s 6ms/step - loss: 0.0270 - accuracy: 0.9921 - val_loss: 11.9349 - val_accuracy: 0.0529\n",
            "Epoch 2/50\n",
            "4425/4425 [==============================] - 25s 6ms/step - loss: 0.0065 - accuracy: 0.9982 - val_loss: 13.8987 - val_accuracy: 0.0293\n",
            "Epoch 3/50\n",
            "4425/4425 [==============================] - 25s 6ms/step - loss: 0.0041 - accuracy: 0.9991 - val_loss: 18.6766 - val_accuracy: 0.0426\n",
            "Epoch 4/50\n",
            "4425/4425 [==============================] - 25s 6ms/step - loss: 0.0039 - accuracy: 0.9992 - val_loss: 22.0848 - val_accuracy: 0.0117\n",
            "Epoch 5/50\n",
            "4425/4425 [==============================] - 25s 6ms/step - loss: 0.0033 - accuracy: 0.9992 - val_loss: 27.8058 - val_accuracy: 0.0282\n",
            "Epoch 6/50\n",
            "4425/4425 [==============================] - 25s 6ms/step - loss: 0.0028 - accuracy: 0.9993 - val_loss: 30.3497 - val_accuracy: 0.0218\n",
            "Epoch 7/50\n",
            "4425/4425 [==============================] - 25s 6ms/step - loss: 0.0019 - accuracy: 0.9996 - val_loss: 31.3043 - val_accuracy: 0.0177\n",
            "Epoch 8/50\n",
            "4425/4425 [==============================] - 25s 6ms/step - loss: 0.0015 - accuracy: 0.9997 - val_loss: 35.4086 - val_accuracy: 0.0315\n",
            "Epoch 9/50\n",
            "4425/4425 [==============================] - 25s 6ms/step - loss: 0.0019 - accuracy: 0.9996 - val_loss: 36.0390 - val_accuracy: 0.0264\n",
            "Epoch 10/50\n",
            "4425/4425 [==============================] - 25s 6ms/step - loss: 0.0013 - accuracy: 0.9997 - val_loss: 34.8198 - val_accuracy: 0.0421\n",
            "Epoch 11/50\n",
            "4425/4425 [==============================] - 25s 6ms/step - loss: 0.0014 - accuracy: 0.9997 - val_loss: 35.0062 - val_accuracy: 0.0315\n",
            "Epoch 12/50\n",
            "4425/4425 [==============================] - 25s 6ms/step - loss: 0.0016 - accuracy: 0.9997 - val_loss: 35.8785 - val_accuracy: 0.0218\n",
            "Epoch 13/50\n",
            "4425/4425 [==============================] - 25s 6ms/step - loss: 0.0016 - accuracy: 0.9997 - val_loss: 39.6662 - val_accuracy: 0.0240\n",
            "Epoch 14/50\n",
            "4425/4425 [==============================] - 25s 6ms/step - loss: 6.0820e-04 - accuracy: 0.9998 - val_loss: 41.0702 - val_accuracy: 0.0225\n",
            "Epoch 15/50\n",
            "4425/4425 [==============================] - 25s 6ms/step - loss: 0.0015 - accuracy: 0.9997 - val_loss: 36.8552 - val_accuracy: 0.0472\n",
            "Epoch 16/50\n",
            "4425/4425 [==============================] - 24s 6ms/step - loss: 6.7689e-04 - accuracy: 0.9998 - val_loss: 37.8813 - val_accuracy: 0.0309\n",
            "Epoch 17/50\n",
            "4425/4425 [==============================] - 24s 6ms/step - loss: 5.8006e-04 - accuracy: 0.9999 - val_loss: 42.1289 - val_accuracy: 0.0252\n",
            "Epoch 18/50\n",
            "4425/4425 [==============================] - 25s 6ms/step - loss: 0.0013 - accuracy: 0.9998 - val_loss: 43.8547 - val_accuracy: 0.0304\n",
            "Epoch 19/50\n",
            "4425/4425 [==============================] - 24s 5ms/step - loss: 6.1591e-04 - accuracy: 0.9999 - val_loss: 42.4106 - val_accuracy: 0.0235\n",
            "Epoch 20/50\n",
            "4425/4425 [==============================] - 25s 6ms/step - loss: 4.5613e-04 - accuracy: 0.9999 - val_loss: 46.0223 - val_accuracy: 0.0406\n",
            "Epoch 21/50\n",
            "4425/4425 [==============================] - 25s 6ms/step - loss: 0.0011 - accuracy: 0.9998 - val_loss: 39.7692 - val_accuracy: 0.0312\n",
            "Epoch 22/50\n",
            "4425/4425 [==============================] - 24s 5ms/step - loss: 5.2426e-04 - accuracy: 0.9998 - val_loss: 45.7445 - val_accuracy: 0.0201\n",
            "Epoch 23/50\n",
            "4425/4425 [==============================] - 25s 6ms/step - loss: 8.1529e-04 - accuracy: 0.9999 - val_loss: 40.6933 - val_accuracy: 0.0359\n",
            "Epoch 24/50\n",
            "4425/4425 [==============================] - 25s 6ms/step - loss: 4.0503e-04 - accuracy: 0.9999 - val_loss: 42.7429 - val_accuracy: 0.0277\n",
            "Epoch 25/50\n",
            "4425/4425 [==============================] - 25s 6ms/step - loss: 7.3394e-04 - accuracy: 0.9998 - val_loss: 37.2210 - val_accuracy: 0.0307\n",
            "Epoch 26/50\n",
            "4425/4425 [==============================] - 25s 6ms/step - loss: 6.6710e-04 - accuracy: 0.9999 - val_loss: 44.4639 - val_accuracy: 0.0352\n",
            "Epoch 27/50\n",
            "4425/4425 [==============================] - 24s 6ms/step - loss: 6.5027e-04 - accuracy: 0.9999 - val_loss: 33.9476 - val_accuracy: 0.0307\n",
            "Epoch 28/50\n",
            "4425/4425 [==============================] - 24s 6ms/step - loss: 6.5420e-04 - accuracy: 0.9999 - val_loss: 38.8369 - val_accuracy: 0.0209\n",
            "Epoch 29/50\n",
            "4425/4425 [==============================] - 25s 6ms/step - loss: 8.5721e-05 - accuracy: 1.0000 - val_loss: 44.3076 - val_accuracy: 0.0266\n",
            "Epoch 30/50\n",
            "4425/4425 [==============================] - 25s 6ms/step - loss: 9.6360e-04 - accuracy: 0.9998 - val_loss: 39.4742 - val_accuracy: 0.0222\n",
            "Epoch 31/50\n",
            "4425/4425 [==============================] - 25s 6ms/step - loss: 4.3961e-04 - accuracy: 0.9999 - val_loss: 39.4541 - val_accuracy: 0.0263\n",
            "Epoch 32/50\n",
            "4425/4425 [==============================] - 25s 6ms/step - loss: 3.4275e-04 - accuracy: 0.9999 - val_loss: 40.1044 - val_accuracy: 0.0235\n",
            "Epoch 33/50\n",
            "4425/4425 [==============================] - 25s 6ms/step - loss: 4.9121e-04 - accuracy: 0.9999 - val_loss: 49.1307 - val_accuracy: 0.0169\n",
            "Epoch 34/50\n",
            "4425/4425 [==============================] - 25s 6ms/step - loss: 8.6857e-04 - accuracy: 0.9999 - val_loss: 41.8087 - val_accuracy: 0.0298\n",
            "Epoch 35/50\n",
            "4425/4425 [==============================] - 25s 6ms/step - loss: 5.7481e-04 - accuracy: 0.9999 - val_loss: 41.9219 - val_accuracy: 0.0427\n",
            "Epoch 36/50\n",
            "4425/4425 [==============================] - 25s 6ms/step - loss: 3.3349e-04 - accuracy: 1.0000 - val_loss: 42.3473 - val_accuracy: 0.0339\n",
            "Epoch 37/50\n",
            "4425/4425 [==============================] - 25s 6ms/step - loss: 4.3802e-04 - accuracy: 0.9999 - val_loss: 47.4756 - val_accuracy: 0.0199\n",
            "Epoch 38/50\n",
            "4425/4425 [==============================] - 25s 6ms/step - loss: 0.0012 - accuracy: 0.9998 - val_loss: 40.7879 - val_accuracy: 0.0290\n",
            "Epoch 39/50\n",
            "4425/4425 [==============================] - 25s 6ms/step - loss: 1.8900e-04 - accuracy: 1.0000 - val_loss: 43.2510 - val_accuracy: 0.0198\n",
            "Epoch 40/50\n",
            "4425/4425 [==============================] - 25s 6ms/step - loss: 5.2825e-04 - accuracy: 0.9999 - val_loss: 46.5353 - val_accuracy: 0.0322\n",
            "Epoch 41/50\n",
            "4425/4425 [==============================] - 25s 6ms/step - loss: 0.0012 - accuracy: 0.9999 - val_loss: 44.0902 - val_accuracy: 0.0292\n",
            "Epoch 42/50\n",
            "4425/4425 [==============================] - 25s 6ms/step - loss: 9.5154e-06 - accuracy: 1.0000 - val_loss: 46.1787 - val_accuracy: 0.0311\n",
            "Epoch 43/50\n",
            "4425/4425 [==============================] - 25s 6ms/step - loss: 8.2868e-04 - accuracy: 0.9999 - val_loss: 44.0365 - val_accuracy: 0.0382\n",
            "Epoch 44/50\n",
            "4425/4425 [==============================] - 25s 6ms/step - loss: 2.2950e-04 - accuracy: 0.9999 - val_loss: 47.6730 - val_accuracy: 0.0421\n",
            "Epoch 45/50\n",
            "4425/4425 [==============================] - 25s 6ms/step - loss: 3.1920e-04 - accuracy: 0.9999 - val_loss: 49.4925 - val_accuracy: 0.0459\n",
            "Epoch 46/50\n",
            "4425/4425 [==============================] - 25s 6ms/step - loss: 4.6640e-04 - accuracy: 1.0000 - val_loss: 56.2654 - val_accuracy: 0.0438\n",
            "Epoch 47/50\n",
            "4425/4425 [==============================] - 24s 6ms/step - loss: 8.3353e-04 - accuracy: 0.9999 - val_loss: 48.8737 - val_accuracy: 0.0326\n",
            "Epoch 48/50\n",
            "4425/4425 [==============================] - 24s 5ms/step - loss: 9.0173e-05 - accuracy: 1.0000 - val_loss: 49.2889 - val_accuracy: 0.0333\n",
            "Epoch 49/50\n",
            "4425/4425 [==============================] - 25s 6ms/step - loss: 6.2774e-04 - accuracy: 0.9999 - val_loss: 52.4408 - val_accuracy: 0.0440\n",
            "Epoch 50/50\n",
            "4425/4425 [==============================] - 25s 6ms/step - loss: 5.5911e-05 - accuracy: 1.0000 - val_loss: 48.9647 - val_accuracy: 0.0509\n"
          ]
        }
      ]
    },
    {
      "cell_type": "code",
      "source": [
        "# Evaluate the model\n",
        "test_loss, test_accuracy = default_model.evaluate(X_test_seq, y_test_seq)\n",
        "print(f'Test Accuracy: {test_accuracy:.4f}')\n"
      ],
      "metadata": {
        "colab": {
          "base_uri": "https://localhost:8080/"
        },
        "id": "HK1isRx6LrM9",
        "outputId": "d86f8df0-0ba9-4f57-d2d8-f2448ab98ed5"
      },
      "execution_count": 16,
      "outputs": [
        {
          "output_type": "stream",
          "name": "stdout",
          "text": [
            "1118/1118 [==============================] - 3s 3ms/step - loss: 15.5960 - accuracy: 0.5352\n",
            "Test Accuracy: 0.5352\n"
          ]
        }
      ]
    },
    {
      "cell_type": "code",
      "source": [
        "# Predict and generate confusion matrix\n",
        "y_pred = default_model.predict(X_test_seq)\n",
        "y_pred_classes = np.argmax(y_pred, axis=1)"
      ],
      "metadata": {
        "colab": {
          "base_uri": "https://localhost:8080/"
        },
        "id": "IntqjXXgLtyl",
        "outputId": "15a72856-965e-49ee-eb72-e6f71dedfeeb"
      },
      "execution_count": 17,
      "outputs": [
        {
          "output_type": "stream",
          "name": "stdout",
          "text": [
            "1118/1118 [==============================] - 3s 2ms/step\n"
          ]
        }
      ]
    },
    {
      "cell_type": "code",
      "source": [
        "# Confusion Matrix\n",
        "conf_matrix = confusion_matrix(y_test_seq, y_pred_classes)\n",
        "print('Confusion Matrix:')\n",
        "print(conf_matrix)\n",
        "\n"
      ],
      "metadata": {
        "colab": {
          "base_uri": "https://localhost:8080/"
        },
        "id": "5zG_q7jhLwk3",
        "outputId": "7844b5ef-a10e-4ad7-c4e9-02b3a156986e"
      },
      "execution_count": 18,
      "outputs": [
        {
          "output_type": "stream",
          "name": "stdout",
          "text": [
            "Confusion Matrix:\n",
            "[[5985    1    0    0    0    0]\n",
            " [   9 5942    0    0    0    0]\n",
            " [   1 5951    3    0    0    0]\n",
            " [   0    7    0 5947    1    0]\n",
            " [   0    0    1 4695 1259    0]\n",
            " [   0    0 5952    3    0    0]]\n"
          ]
        }
      ]
    },
    {
      "cell_type": "code",
      "source": [
        "# Classification Report\n",
        "class_report = classification_report(y_test_seq, y_pred_classes, target_names=label_encoder.classes_)\n",
        "print('Classification Report:')\n",
        "print(class_report)"
      ],
      "metadata": {
        "colab": {
          "base_uri": "https://localhost:8080/"
        },
        "id": "50jX06JFLzfH",
        "outputId": "aad5b750-096d-4e70-c867-cfd83a33edc4"
      },
      "execution_count": 19,
      "outputs": [
        {
          "output_type": "stream",
          "name": "stdout",
          "text": [
            "Classification Report:\n",
            "              precision    recall  f1-score   support\n",
            "\n",
            "          FB       1.00      1.00      1.00      5986\n",
            "       Insta       0.50      1.00      0.67      5951\n",
            "         Red       0.00      0.00      0.00      5955\n",
            "      Reddit       0.56      1.00      0.72      5955\n",
            "      TikTok       1.00      0.21      0.35      5955\n",
            "           X       0.00      0.00      0.00      5955\n",
            "\n",
            "    accuracy                           0.54     35757\n",
            "   macro avg       0.51      0.53      0.46     35757\n",
            "weighted avg       0.51      0.54      0.46     35757\n",
            "\n"
          ]
        },
        {
          "output_type": "stream",
          "name": "stderr",
          "text": [
            "/usr/local/lib/python3.10/dist-packages/sklearn/metrics/_classification.py:1344: UndefinedMetricWarning: Precision and F-score are ill-defined and being set to 0.0 in labels with no predicted samples. Use `zero_division` parameter to control this behavior.\n",
            "  _warn_prf(average, modifier, msg_start, len(result))\n",
            "/usr/local/lib/python3.10/dist-packages/sklearn/metrics/_classification.py:1344: UndefinedMetricWarning: Precision and F-score are ill-defined and being set to 0.0 in labels with no predicted samples. Use `zero_division` parameter to control this behavior.\n",
            "  _warn_prf(average, modifier, msg_start, len(result))\n",
            "/usr/local/lib/python3.10/dist-packages/sklearn/metrics/_classification.py:1344: UndefinedMetricWarning: Precision and F-score are ill-defined and being set to 0.0 in labels with no predicted samples. Use `zero_division` parameter to control this behavior.\n",
            "  _warn_prf(average, modifier, msg_start, len(result))\n"
          ]
        }
      ]
    },
    {
      "cell_type": "code",
      "source": [
        "# Plot the confusion matrix\n",
        "plt.figure(figsize=(10, 8))\n",
        "sns.heatmap(conf_matrix, annot=True, fmt='d', cmap='Blues', xticklabels=label_encoder.classes_, yticklabels=label_encoder.classes_)\n",
        "plt.xlabel('Predicted')\n",
        "plt.ylabel('Actual')\n",
        "plt.title('Confusion Matrix')\n",
        "plt.show()"
      ],
      "metadata": {
        "colab": {
          "base_uri": "https://localhost:8080/",
          "height": 718
        },
        "id": "EVZcIBTnL18c",
        "outputId": "a291f45d-c52f-4767-d4a7-5695a18afd2a"
      },
      "execution_count": 20,
      "outputs": [
        {
          "output_type": "display_data",
          "data": {
            "text/plain": [
              "<Figure size 1000x800 with 2 Axes>"
            ],
            "image/png": "[encoded data removed]"
          },
          "metadata": {}
        }
      ]
    },
    {
      "cell_type": "markdown",
      "source": [
        "hyperparameter tuning with optuna"
      ],
      "metadata": {
        "id": "VqGn3B4pLWHx"
      }
    },
    {
      "cell_type": "code",
      "source": [
        "# Run Optuna optimization\n",
        "study = optuna.create_study(direction='maximize')\n",
        "study.optimize(objective, n_trials=50)"
      ],
      "metadata": {
        "colab": {
          "base_uri": "https://localhost:8080/"
        },
        "id": "V_8YyJH2Kgjo",
        "outputId": "d1cda0c8-cd9c-48d0-c2ef-37631b68abd6"
      },
      "execution_count": 21,
      "outputs": [
        {
          "output_type": "stream",
          "name": "stderr",
          "text": [
            "[I 2024-06-16 22:55:21,367] A new study created in memory with name: no-name-d09c9bda-590f-4ab1-8e80-67df46c9011b\n",
            "[I 2024-06-16 22:59:16,723] Trial 0 finished with value: 0.5194507241249084 and parameters: {'units': 85, 'dropout_rate': 0.32503231800869714, 'learning_rate': 0.007505961237819798}. Best is trial 0 with value: 0.5194507241249084.\n",
            "[I 2024-06-16 23:03:14,853] Trial 1 finished with value: 0.4679643213748932 and parameters: {'units': 141, 'dropout_rate': 0.4876115515472854, 'learning_rate': 0.009332357233078304}. Best is trial 0 with value: 0.5194507241249084.\n",
            "[I 2024-06-16 23:07:14,688] Trial 2 finished with value: 0.5334619879722595 and parameters: {'units': 149, 'dropout_rate': 0.4786666681263532, 'learning_rate': 0.005989520070976265}. Best is trial 2 with value: 0.5334619879722595.\n",
            "[I 2024-06-16 23:11:11,950] Trial 3 finished with value: 0.523310124874115 and parameters: {'units': 193, 'dropout_rate': 0.42611975758605714, 'learning_rate': 0.0030119854108813316}. Best is trial 2 with value: 0.5334619879722595.\n",
            "[I 2024-06-16 23:15:05,778] Trial 4 finished with value: 0.5201778411865234 and parameters: {'units': 73, 'dropout_rate': 0.2585366786860326, 'learning_rate': 0.0009523744544706215}. Best is trial 2 with value: 0.5334619879722595.\n",
            "[I 2024-06-16 23:19:04,286] Trial 5 finished with value: 0.5364264249801636 and parameters: {'units': 149, 'dropout_rate': 0.29145994590385127, 'learning_rate': 0.007670177671956629}. Best is trial 5 with value: 0.5364264249801636.\n",
            "[I 2024-06-16 23:23:02,219] Trial 6 finished with value: 0.5199261903762817 and parameters: {'units': 145, 'dropout_rate': 0.23808302670359083, 'learning_rate': 0.007618891717294423}. Best is trial 5 with value: 0.5364264249801636.\n",
            "[I 2024-06-16 23:26:57,263] Trial 7 finished with value: 0.5247364044189453 and parameters: {'units': 74, 'dropout_rate': 0.36311809162450037, 'learning_rate': 0.0015423239080759818}. Best is trial 5 with value: 0.5364264249801636.\n",
            "[I 2024-06-16 23:31:01,094] Trial 8 finished with value: 0.5402858257293701 and parameters: {'units': 198, 'dropout_rate': 0.21974390049988957, 'learning_rate': 0.006942102321483447}. Best is trial 8 with value: 0.5402858257293701.\n",
            "[I 2024-06-16 23:34:58,497] Trial 9 finished with value: 0.5176329016685486 and parameters: {'units': 143, 'dropout_rate': 0.4982421151741035, 'learning_rate': 0.007546837642582725}. Best is trial 8 with value: 0.5402858257293701.\n",
            "[I 2024-06-16 23:38:54,341] Trial 10 finished with value: 0.5289873480796814 and parameters: {'units': 199, 'dropout_rate': 0.21007781226608557, 'learning_rate': 0.004277703077239969}. Best is trial 8 with value: 0.5402858257293701.\n",
            "[I 2024-06-16 23:42:50,589] Trial 11 finished with value: 0.4596862196922302 and parameters: {'units': 174, 'dropout_rate': 0.2950428887747682, 'learning_rate': 0.00951920757592489}. Best is trial 8 with value: 0.5402858257293701.\n",
            "[I 2024-06-16 23:46:50,701] Trial 12 finished with value: 0.5307492017745972 and parameters: {'units': 106, 'dropout_rate': 0.28239488783786293, 'learning_rate': 0.005715860361370769}. Best is trial 8 with value: 0.5402858257293701.\n",
            "[I 2024-06-16 23:50:50,942] Trial 13 finished with value: 0.5241211652755737 and parameters: {'units': 174, 'dropout_rate': 0.20596922468213982, 'learning_rate': 0.006853974405192468}. Best is trial 8 with value: 0.5402858257293701.\n",
            "[I 2024-06-16 23:54:47,402] Trial 14 finished with value: 0.5299661755561829 and parameters: {'units': 119, 'dropout_rate': 0.34027733373408303, 'learning_rate': 0.004219716174706201}. Best is trial 8 with value: 0.5402858257293701.\n",
            "[I 2024-06-16 23:58:46,611] Trial 15 finished with value: 0.530329704284668 and parameters: {'units': 174, 'dropout_rate': 0.3837311603359427, 'learning_rate': 0.008593180241355096}. Best is trial 8 with value: 0.5402858257293701.\n",
            "[I 2024-06-17 00:02:52,281] Trial 16 finished with value: 0.5290992259979248 and parameters: {'units': 51, 'dropout_rate': 0.2516056386209179, 'learning_rate': 0.006175461826646793}. Best is trial 8 with value: 0.5402858257293701.\n",
            "[I 2024-06-17 00:07:11,244] Trial 17 finished with value: 0.5084878206253052 and parameters: {'units': 171, 'dropout_rate': 0.2977262593314889, 'learning_rate': 0.008549358214472188}. Best is trial 8 with value: 0.5402858257293701.\n",
            "[I 2024-06-17 00:11:27,831] Trial 18 finished with value: 0.5357272624969482 and parameters: {'units': 116, 'dropout_rate': 0.23069826709204083, 'learning_rate': 0.004584735250371041}. Best is trial 8 with value: 0.5402858257293701.\n",
            "[I 2024-06-17 00:15:47,488] Trial 19 finished with value: 0.5323712825775146 and parameters: {'units': 159, 'dropout_rate': 0.4001404426803317, 'learning_rate': 0.003331256744170498}. Best is trial 8 with value: 0.5402858257293701.\n",
            "[I 2024-06-17 00:20:01,473] Trial 20 finished with value: 0.4714880883693695 and parameters: {'units': 187, 'dropout_rate': 0.2801741429478918, 'learning_rate': 0.009911219873601168}. Best is trial 8 with value: 0.5402858257293701.\n",
            "[I 2024-06-17 00:24:08,335] Trial 21 finished with value: 0.5323992371559143 and parameters: {'units': 121, 'dropout_rate': 0.22886777221488003, 'learning_rate': 0.004799775416260855}. Best is trial 8 with value: 0.5402858257293701.\n",
            "[I 2024-06-17 00:28:15,476] Trial 22 finished with value: 0.5228906273841858 and parameters: {'units': 108, 'dropout_rate': 0.2620401458354719, 'learning_rate': 0.0053741475764919975}. Best is trial 8 with value: 0.5402858257293701.\n",
            "[I 2024-06-17 00:32:23,747] Trial 23 finished with value: 0.5360628962516785 and parameters: {'units': 132, 'dropout_rate': 0.20002287254994613, 'learning_rate': 0.0066462487008362384}. Best is trial 8 with value: 0.5402858257293701.\n",
            "[I 2024-06-17 00:36:34,307] Trial 24 finished with value: 0.5325950384140015 and parameters: {'units': 135, 'dropout_rate': 0.20172210898985823, 'learning_rate': 0.006457614903122841}. Best is trial 8 with value: 0.5402858257293701.\n",
            "[I 2024-06-17 00:40:34,530] Trial 25 finished with value: 0.5548843741416931 and parameters: {'units': 160, 'dropout_rate': 0.22990240347315333, 'learning_rate': 0.008263590309715931}. Best is trial 25 with value: 0.5548843741416931.\n",
            "[I 2024-06-17 00:44:34,738] Trial 26 finished with value: 0.5181083679199219 and parameters: {'units': 160, 'dropout_rate': 0.32370942805289105, 'learning_rate': 0.008204155395285292}. Best is trial 25 with value: 0.5548843741416931.\n",
            "[I 2024-06-17 00:48:37,445] Trial 27 finished with value: 0.4811924993991852 and parameters: {'units': 186, 'dropout_rate': 0.3093572010693968, 'learning_rate': 0.008905779911565236}. Best is trial 25 with value: 0.5548843741416931.\n",
            "[I 2024-06-17 00:52:44,061] Trial 28 finished with value: 0.5266381502151489 and parameters: {'units': 158, 'dropout_rate': 0.26365503067370477, 'learning_rate': 0.007176882165463989}. Best is trial 25 with value: 0.5548843741416931.\n",
            "[I 2024-06-17 00:56:47,847] Trial 29 finished with value: 0.529742419719696 and parameters: {'units': 184, 'dropout_rate': 0.22808741543609778, 'learning_rate': 0.007933547753904454}. Best is trial 25 with value: 0.5548843741416931.\n",
            "[I 2024-06-17 01:00:51,353] Trial 30 finished with value: 0.5448723435401917 and parameters: {'units': 164, 'dropout_rate': 0.31898999698011193, 'learning_rate': 0.007143816260714397}. Best is trial 25 with value: 0.5548843741416931.\n",
            "[I 2024-06-17 01:04:56,286] Trial 31 finished with value: 0.5389434099197388 and parameters: {'units': 163, 'dropout_rate': 0.32577443228615033, 'learning_rate': 0.007120089116302037}. Best is trial 25 with value: 0.5548843741416931.\n",
            "[I 2024-06-17 01:08:58,423] Trial 32 finished with value: 0.5236456990242004 and parameters: {'units': 164, 'dropout_rate': 0.3421831683380719, 'learning_rate': 0.007025044690161445}. Best is trial 25 with value: 0.5548843741416931.\n",
            "[I 2024-06-17 01:13:01,368] Trial 33 finished with value: 0.5218838453292847 and parameters: {'units': 182, 'dropout_rate': 0.32288079559250216, 'learning_rate': 0.0091374011275207}. Best is trial 25 with value: 0.5548843741416931.\n",
            "[I 2024-06-17 01:17:04,295] Trial 34 finished with value: 0.5308890342712402 and parameters: {'units': 151, 'dropout_rate': 0.4475103440161736, 'learning_rate': 0.00558565743106229}. Best is trial 25 with value: 0.5548843741416931.\n",
            "[I 2024-06-17 01:21:10,486] Trial 35 finished with value: 0.5370976328849792 and parameters: {'units': 198, 'dropout_rate': 0.36698954245133936, 'learning_rate': 0.00827573598028358}. Best is trial 25 with value: 0.5548843741416931.\n",
            "[I 2024-06-17 01:25:15,082] Trial 36 finished with value: 0.5336856842041016 and parameters: {'units': 132, 'dropout_rate': 0.40497841658779105, 'learning_rate': 0.006227951348975833}. Best is trial 25 with value: 0.5548843741416931.\n",
            "[I 2024-06-17 01:29:16,746] Trial 37 finished with value: 0.5254915356636047 and parameters: {'units': 92, 'dropout_rate': 0.24779315490636633, 'learning_rate': 0.007157037055160763}. Best is trial 25 with value: 0.5548843741416931.\n",
            "[I 2024-06-17 01:33:23,784] Trial 38 finished with value: 0.5277568101882935 and parameters: {'units': 167, 'dropout_rate': 0.27330432290019163, 'learning_rate': 0.007902346587642118}. Best is trial 25 with value: 0.5548843741416931.\n",
            "[I 2024-06-17 01:37:28,475] Trial 39 finished with value: 0.5281763076782227 and parameters: {'units': 153, 'dropout_rate': 0.45099840607510167, 'learning_rate': 0.007304967937716046}. Best is trial 25 with value: 0.5548843741416931.\n",
            "[I 2024-06-17 01:41:31,496] Trial 40 finished with value: 0.40666162967681885 and parameters: {'units': 181, 'dropout_rate': 0.35805222777063106, 'learning_rate': 0.00950128621374218}. Best is trial 25 with value: 0.5548843741416931.\n",
            "[I 2024-06-17 01:45:34,355] Trial 41 finished with value: 0.49867159128189087 and parameters: {'units': 199, 'dropout_rate': 0.3725275279602519, 'learning_rate': 0.008248817208149383}. Best is trial 25 with value: 0.5548843741416931.\n",
            "[I 2024-06-17 01:49:36,838] Trial 42 finished with value: 0.48474425077438354 and parameters: {'units': 195, 'dropout_rate': 0.3113654897200098, 'learning_rate': 0.008722801027763705}. Best is trial 25 with value: 0.5548843741416931.\n",
            "[I 2024-06-17 01:53:35,720] Trial 43 finished with value: 0.5306093692779541 and parameters: {'units': 200, 'dropout_rate': 0.340551304951013, 'learning_rate': 0.0076833691704514834}. Best is trial 25 with value: 0.5548843741416931.\n",
            "[I 2024-06-17 01:57:43,528] Trial 44 finished with value: 0.49741309881210327 and parameters: {'units': 191, 'dropout_rate': 0.39514900890787164, 'learning_rate': 0.008244468916985931}. Best is trial 25 with value: 0.5548843741416931.\n",
            "[I 2024-06-17 02:01:47,880] Trial 45 finished with value: 0.554828405380249 and parameters: {'units': 141, 'dropout_rate': 0.41810270465648214, 'learning_rate': 0.006760006824203968}. Best is trial 25 with value: 0.5548843741416931.\n",
            "[I 2024-06-17 02:05:49,595] Trial 46 finished with value: 0.5348882675170898 and parameters: {'units': 140, 'dropout_rate': 0.42441174243965235, 'learning_rate': 0.005985443933524482}. Best is trial 25 with value: 0.5548843741416931.\n",
            "[I 2024-06-17 02:09:53,412] Trial 47 finished with value: 0.5308331251144409 and parameters: {'units': 146, 'dropout_rate': 0.2168282342180828, 'learning_rate': 0.00668867894270122}. Best is trial 25 with value: 0.5548843741416931.\n",
            "[I 2024-06-17 02:13:55,172] Trial 48 finished with value: 0.5325390696525574 and parameters: {'units': 139, 'dropout_rate': 0.44842120507291094, 'learning_rate': 0.005334624270362246}. Best is trial 25 with value: 0.5548843741416931.\n",
            "[I 2024-06-17 02:17:56,362] Trial 49 finished with value: 0.5245127081871033 and parameters: {'units': 153, 'dropout_rate': 0.24024529650632662, 'learning_rate': 0.002117258959337369}. Best is trial 25 with value: 0.5548843741416931.\n"
          ]
        }
      ]
    },
    {
      "cell_type": "code",
      "source": [
        "# Train the model with the best hyperparameters\n",
        "best_params = study.best_params\n",
        "best_model = create_model(optuna.trial.FixedTrial(best_params))\n",
        "history = best_model.fit(X_train_seq, y_train_seq, epochs=50, batch_size=32, validation_split=0.2, verbose=1)\n"
      ],
      "metadata": {
        "colab": {
          "base_uri": "https://localhost:8080/"
        },
        "id": "PEHTku4DKjKK",
        "outputId": "6e3859a1-7186-45cd-9f33-0dfb7e2a0f74"
      },
      "execution_count": 22,
      "outputs": [
        {
          "output_type": "stream",
          "name": "stdout",
          "text": [
            "Epoch 1/50\n",
            "4425/4425 [==============================] - 29s 6ms/step - loss: 0.0665 - accuracy: 0.9792 - val_loss: 36.8887 - val_accuracy: 0.0162\n",
            "Epoch 2/50\n",
            "4425/4425 [==============================] - 25s 6ms/step - loss: 0.0324 - accuracy: 0.9907 - val_loss: 38.0349 - val_accuracy: 0.0373\n",
            "Epoch 3/50\n",
            "4425/4425 [==============================] - 25s 6ms/step - loss: 0.0334 - accuracy: 0.9904 - val_loss: 42.8138 - val_accuracy: 0.0264\n",
            "Epoch 4/50\n",
            "4425/4425 [==============================] - 25s 6ms/step - loss: 0.0357 - accuracy: 0.9893 - val_loss: 55.4409 - val_accuracy: 0.0435\n",
            "Epoch 5/50\n",
            "4425/4425 [==============================] - 25s 6ms/step - loss: 0.0502 - accuracy: 0.9849 - val_loss: 72.7824 - val_accuracy: 0.0429\n",
            "Epoch 6/50\n",
            "4425/4425 [==============================] - 25s 6ms/step - loss: 0.0445 - accuracy: 0.9860 - val_loss: 76.4809 - val_accuracy: 0.0497\n",
            "Epoch 7/50\n",
            "4425/4425 [==============================] - 25s 6ms/step - loss: 0.0512 - accuracy: 0.9839 - val_loss: 78.0191 - val_accuracy: 0.0490\n",
            "Epoch 8/50\n",
            "4425/4425 [==============================] - 25s 6ms/step - loss: 0.0854 - accuracy: 0.9723 - val_loss: 75.6836 - val_accuracy: 0.0653\n",
            "Epoch 9/50\n",
            "4425/4425 [==============================] - 25s 6ms/step - loss: 0.1124 - accuracy: 0.9621 - val_loss: 74.9922 - val_accuracy: 0.0441\n",
            "Epoch 10/50\n",
            "4425/4425 [==============================] - 25s 6ms/step - loss: 0.1380 - accuracy: 0.9512 - val_loss: 83.1737 - val_accuracy: 0.0589\n",
            "Epoch 11/50\n",
            "4425/4425 [==============================] - 26s 6ms/step - loss: 0.1365 - accuracy: 0.9538 - val_loss: 75.9883 - val_accuracy: 0.0444\n",
            "Epoch 12/50\n",
            "4425/4425 [==============================] - 25s 6ms/step - loss: 0.1755 - accuracy: 0.9383 - val_loss: 74.5320 - val_accuracy: 0.0453\n",
            "Epoch 13/50\n",
            "4425/4425 [==============================] - 25s 6ms/step - loss: 0.1937 - accuracy: 0.9310 - val_loss: 80.9112 - val_accuracy: 0.0473\n",
            "Epoch 14/50\n",
            "4425/4425 [==============================] - 25s 6ms/step - loss: 0.2143 - accuracy: 0.9233 - val_loss: 74.6228 - val_accuracy: 0.0428\n",
            "Epoch 15/50\n",
            "4425/4425 [==============================] - 25s 6ms/step - loss: 0.2812 - accuracy: 0.8977 - val_loss: 78.3241 - val_accuracy: 0.0463\n",
            "Epoch 16/50\n",
            "4425/4425 [==============================] - 25s 6ms/step - loss: 0.2928 - accuracy: 0.8917 - val_loss: 73.9038 - val_accuracy: 0.0474\n",
            "Epoch 17/50\n",
            "4425/4425 [==============================] - 25s 6ms/step - loss: 0.3081 - accuracy: 0.8835 - val_loss: 67.6913 - val_accuracy: 0.0380\n",
            "Epoch 18/50\n",
            "4425/4425 [==============================] - 25s 6ms/step - loss: 0.3675 - accuracy: 0.8583 - val_loss: 68.7171 - val_accuracy: 0.0475\n",
            "Epoch 19/50\n",
            "4425/4425 [==============================] - 25s 6ms/step - loss: 0.3787 - accuracy: 0.8557 - val_loss: 69.9287 - val_accuracy: 0.0510\n",
            "Epoch 20/50\n",
            "4425/4425 [==============================] - 25s 6ms/step - loss: 0.4606 - accuracy: 0.8241 - val_loss: 72.9798 - val_accuracy: 0.0378\n",
            "Epoch 21/50\n",
            "4425/4425 [==============================] - 25s 6ms/step - loss: 0.4852 - accuracy: 0.8125 - val_loss: 75.8206 - val_accuracy: 0.0445\n",
            "Epoch 22/50\n",
            "4425/4425 [==============================] - 25s 6ms/step - loss: 0.5284 - accuracy: 0.7937 - val_loss: 75.2179 - val_accuracy: 0.0325\n",
            "Epoch 23/50\n",
            "4425/4425 [==============================] - 26s 6ms/step - loss: 0.5226 - accuracy: 0.7964 - val_loss: 71.8617 - val_accuracy: 0.0420\n",
            "Epoch 24/50\n",
            "4425/4425 [==============================] - 25s 6ms/step - loss: 0.5131 - accuracy: 0.8007 - val_loss: 69.8831 - val_accuracy: 0.0523\n",
            "Epoch 25/50\n",
            "4425/4425 [==============================] - 25s 6ms/step - loss: 0.5360 - accuracy: 0.7933 - val_loss: 71.2959 - val_accuracy: 0.0402\n",
            "Epoch 26/50\n",
            "4425/4425 [==============================] - 25s 6ms/step - loss: 0.5621 - accuracy: 0.7823 - val_loss: 70.0225 - val_accuracy: 0.0585\n",
            "Epoch 27/50\n",
            "4425/4425 [==============================] - 26s 6ms/step - loss: 0.5874 - accuracy: 0.7688 - val_loss: 66.7723 - val_accuracy: 0.0589\n",
            "Epoch 28/50\n",
            "4425/4425 [==============================] - 26s 6ms/step - loss: 0.6320 - accuracy: 0.7499 - val_loss: 66.2921 - val_accuracy: 0.0462\n",
            "Epoch 29/50\n",
            "4425/4425 [==============================] - 25s 6ms/step - loss: 0.6583 - accuracy: 0.7369 - val_loss: 69.5695 - val_accuracy: 0.0673\n",
            "Epoch 30/50\n",
            "4425/4425 [==============================] - 25s 6ms/step - loss: 0.6945 - accuracy: 0.7245 - val_loss: 69.0468 - val_accuracy: 0.0499\n",
            "Epoch 31/50\n",
            "4425/4425 [==============================] - 25s 6ms/step - loss: 0.7380 - accuracy: 0.7047 - val_loss: 65.1986 - val_accuracy: 0.0209\n",
            "Epoch 32/50\n",
            "4425/4425 [==============================] - 25s 6ms/step - loss: 0.7549 - accuracy: 0.6973 - val_loss: 64.7675 - val_accuracy: 0.0518\n",
            "Epoch 33/50\n",
            "4425/4425 [==============================] - 25s 6ms/step - loss: 0.8098 - accuracy: 0.6762 - val_loss: 64.2403 - val_accuracy: 0.0428\n",
            "Epoch 34/50\n",
            "4425/4425 [==============================] - 25s 6ms/step - loss: 0.8408 - accuracy: 0.6644 - val_loss: 61.9544 - val_accuracy: 0.0345\n",
            "Epoch 35/50\n",
            "4425/4425 [==============================] - 25s 6ms/step - loss: 0.8677 - accuracy: 0.6544 - val_loss: 62.9166 - val_accuracy: 0.0472\n",
            "Epoch 36/50\n",
            "4425/4425 [==============================] - 26s 6ms/step - loss: 0.8906 - accuracy: 0.6455 - val_loss: 57.1867 - val_accuracy: 0.0555\n",
            "Epoch 37/50\n",
            "4425/4425 [==============================] - 25s 6ms/step - loss: 0.9301 - accuracy: 0.6326 - val_loss: 54.0086 - val_accuracy: 0.0314\n",
            "Epoch 38/50\n",
            "4425/4425 [==============================] - 25s 6ms/step - loss: 0.9483 - accuracy: 0.6251 - val_loss: 57.2084 - val_accuracy: 0.0354\n",
            "Epoch 39/50\n",
            "4425/4425 [==============================] - 26s 6ms/step - loss: 0.9960 - accuracy: 0.6042 - val_loss: 55.1819 - val_accuracy: 0.0386\n",
            "Epoch 40/50\n",
            "4425/4425 [==============================] - 26s 6ms/step - loss: 1.0233 - accuracy: 0.5918 - val_loss: 62.8915 - val_accuracy: 0.0461\n",
            "Epoch 41/50\n",
            "4425/4425 [==============================] - 25s 6ms/step - loss: 1.0240 - accuracy: 0.5902 - val_loss: 57.9840 - val_accuracy: 0.0320\n",
            "Epoch 42/50\n",
            "4425/4425 [==============================] - 25s 6ms/step - loss: 1.0269 - accuracy: 0.5876 - val_loss: 58.5259 - val_accuracy: 0.0317\n",
            "Epoch 43/50\n",
            "4425/4425 [==============================] - 25s 6ms/step - loss: 1.0336 - accuracy: 0.5827 - val_loss: 53.8410 - val_accuracy: 0.0340\n",
            "Epoch 44/50\n",
            "4425/4425 [==============================] - 25s 6ms/step - loss: 1.0353 - accuracy: 0.5845 - val_loss: 54.1615 - val_accuracy: 0.0490\n",
            "Epoch 45/50\n",
            "4425/4425 [==============================] - 25s 6ms/step - loss: 1.0336 - accuracy: 0.5804 - val_loss: 48.4656 - val_accuracy: 0.0397\n",
            "Epoch 46/50\n",
            "4425/4425 [==============================] - 25s 6ms/step - loss: 1.0309 - accuracy: 0.5838 - val_loss: 53.6324 - val_accuracy: 0.0362\n",
            "Epoch 47/50\n",
            "4425/4425 [==============================] - 25s 6ms/step - loss: 1.0431 - accuracy: 0.5804 - val_loss: 51.1626 - val_accuracy: 0.0411\n",
            "Epoch 48/50\n",
            "4425/4425 [==============================] - 26s 6ms/step - loss: 1.0741 - accuracy: 0.5696 - val_loss: 52.1996 - val_accuracy: 0.0416\n",
            "Epoch 49/50\n",
            "4425/4425 [==============================] - 25s 6ms/step - loss: 1.0918 - accuracy: 0.5646 - val_loss: 55.1760 - val_accuracy: 0.0209\n",
            "Epoch 50/50\n",
            "4425/4425 [==============================] - 25s 6ms/step - loss: 1.0887 - accuracy: 0.5639 - val_loss: 52.8236 - val_accuracy: 0.0220\n"
          ]
        }
      ]
    },
    {
      "cell_type": "code",
      "source": [
        "# Evaluate the model\n",
        "test_loss, test_accuracy = best_model.evaluate(X_test_seq, y_test_seq)\n",
        "print(f'Test Accuracy: {test_accuracy:.4f}')"
      ],
      "metadata": {
        "colab": {
          "base_uri": "https://localhost:8080/"
        },
        "id": "HVmGFwnUKmCB",
        "outputId": "c8eedca1-f97a-404f-cea0-bcdfab3d790b"
      },
      "execution_count": 23,
      "outputs": [
        {
          "output_type": "stream",
          "name": "stdout",
          "text": [
            "1118/1118 [==============================] - 3s 3ms/step - loss: 10.8990 - accuracy: 0.3528\n",
            "Test Accuracy: 0.3528\n"
          ]
        }
      ]
    },
    {
      "cell_type": "code",
      "source": [
        "# Predict and generate confusion matrix\n",
        "y_pred = best_model.predict(X_test_seq)\n",
        "y_pred_classes = np.argmax(y_pred, axis=1)\n",
        "\n",
        "# Confusion Matrix\n",
        "conf_matrix = confusion_matrix(y_test_seq, y_pred_classes)\n",
        "print('Confusion Matrix:')\n",
        "print(conf_matrix)"
      ],
      "metadata": {
        "colab": {
          "base_uri": "https://localhost:8080/"
        },
        "id": "aGDpUkTuKpBa",
        "outputId": "a40c9224-e65b-4b12-b3a5-360ed8c5746b"
      },
      "execution_count": 24,
      "outputs": [
        {
          "output_type": "stream",
          "name": "stdout",
          "text": [
            "1118/1118 [==============================] - 3s 2ms/step\n",
            "Confusion Matrix:\n",
            "[[4689  576  511  195   15    0]\n",
            " [1503 2808  519  976  145    0]\n",
            " [ 860 3923  271  400  501    0]\n",
            " [ 179  249  640 3497 1390    0]\n",
            " [ 265 1106  443 2790 1351    0]\n",
            " [ 557  477 2722  784 1415    0]]\n"
          ]
        }
      ]
    },
    {
      "cell_type": "code",
      "source": [
        "# Classification Report\n",
        "class_report = classification_report(y_test_seq, y_pred_classes, target_names=label_encoder.classes_)\n",
        "print('Classification Report:')\n",
        "print(class_report)\n"
      ],
      "metadata": {
        "colab": {
          "base_uri": "https://localhost:8080/"
        },
        "id": "uRcYnYwiKrtH",
        "outputId": "c82ff4c5-c144-434d-f618-e9ab2ad6a17b"
      },
      "execution_count": 25,
      "outputs": [
        {
          "output_type": "stream",
          "name": "stdout",
          "text": [
            "Classification Report:\n",
            "              precision    recall  f1-score   support\n",
            "\n",
            "          FB       0.58      0.78      0.67      5986\n",
            "       Insta       0.31      0.47      0.37      5951\n",
            "         Red       0.05      0.05      0.05      5955\n",
            "      Reddit       0.40      0.59      0.48      5955\n",
            "      TikTok       0.28      0.23      0.25      5955\n",
            "           X       0.00      0.00      0.00      5955\n",
            "\n",
            "    accuracy                           0.35     35757\n",
            "   macro avg       0.27      0.35      0.30     35757\n",
            "weighted avg       0.27      0.35      0.30     35757\n",
            "\n"
          ]
        },
        {
          "output_type": "stream",
          "name": "stderr",
          "text": [
            "/usr/local/lib/python3.10/dist-packages/sklearn/metrics/_classification.py:1344: UndefinedMetricWarning: Precision and F-score are ill-defined and being set to 0.0 in labels with no predicted samples. Use `zero_division` parameter to control this behavior.\n",
            "  _warn_prf(average, modifier, msg_start, len(result))\n",
            "/usr/local/lib/python3.10/dist-packages/sklearn/metrics/_classification.py:1344: UndefinedMetricWarning: Precision and F-score are ill-defined and being set to 0.0 in labels with no predicted samples. Use `zero_division` parameter to control this behavior.\n",
            "  _warn_prf(average, modifier, msg_start, len(result))\n",
            "/usr/local/lib/python3.10/dist-packages/sklearn/metrics/_classification.py:1344: UndefinedMetricWarning: Precision and F-score are ill-defined and being set to 0.0 in labels with no predicted samples. Use `zero_division` parameter to control this behavior.\n",
            "  _warn_prf(average, modifier, msg_start, len(result))\n"
          ]
        }
      ]
    },
    {
      "cell_type": "code",
      "source": [
        "# Plot the confusion matrix\n",
        "plt.figure(figsize=(10, 8))\n",
        "sns.heatmap(conf_matrix, annot=True, fmt='d', cmap='Blues', xticklabels=label_encoder.classes_,\n",
        "            yticklabels=label_encoder.classes_)\n",
        "plt.xlabel('Predicted')\n",
        "plt.ylabel('Actual')\n",
        "plt.title('Confusion Matrix')\n",
        "plt.show()"
      ],
      "metadata": {
        "colab": {
          "base_uri": "https://localhost:8080/",
          "height": 718
        },
        "id": "Nk8dfMNXKv1_",
        "outputId": "6f376e50-9bbe-4e0c-a9d0-9660b51c1158"
      },
      "execution_count": 26,
      "outputs": [
        {
          "output_type": "display_data",
          "data": {
            "text/plain": [
              "<Figure size 1000x800 with 2 Axes>"
            ],
            "image/png": "[encoded data removed]"
          },
          "metadata": {}
        }
      ]
    },
    {
      "cell_type": "code",
      "source": [],
      "metadata": {
        "id": "0ToAxF6CH5iZ"
      },
      "execution_count": null,
      "outputs": []
    }
  ]
}