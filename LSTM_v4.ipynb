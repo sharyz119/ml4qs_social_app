{
  "nbformat": 4,
  "nbformat_minor": 0,
  "metadata": {
    "colab": {
      "provenance": [],
      "machine_shape": "hm",
      "gpuType": "T4"
    },
    "kernelspec": {
      "name": "python3",
      "display_name": "Python 3"
    },
    "language_info": {
      "name": "python"
    },
    "accelerator": "GPU"
  },
  "cells": [
    {
      "cell_type": "code",
      "execution_count": 1,
      "metadata": {
        "colab": {
          "base_uri": "https://localhost:8080/"
        },
        "id": "XZmT5JWhGlXh",
        "outputId": "5001cf77-d9a2-4116-cacb-3af853a72a98"
      },
      "outputs": [
        {
          "output_type": "stream",
          "name": "stdout",
          "text": [
            "Mounted at /content/drive/\n"
          ]
        }
      ],
      "source": [
        "from google.colab import drive\n",
        "drive.mount('/content/drive/')"
      ]
    },
    {
      "cell_type": "code",
      "source": [
        "import os\n",
        "os.chdir('/content/drive/MyDrive/ml4qs/')"
      ],
      "metadata": {
        "id": "o_7DNlCyGq9y"
      },
      "execution_count": 2,
      "outputs": []
    },
    {
      "cell_type": "code",
      "source": [
        "!pip install optuna\n",
        "!pip install tensorflow\n"
      ],
      "metadata": {
        "colab": {
          "base_uri": "https://localhost:8080/"
        },
        "id": "_kTo2OCdG8Mn",
        "outputId": "db4782ab-0011-4616-a367-9bacc0c672ae"
      },
      "execution_count": 3,
      "outputs": [
        {
          "output_type": "stream",
          "name": "stdout",
          "text": [
            "Collecting optuna\n",
            "  Downloading optuna-3.6.1-py3-none-any.whl (380 kB)\n",
            "\u001b[2K     \u001b[90m━━━━━━━━━━━━━━━━━━━━━━━━━━━━━━━━━━━━━━━━\u001b[0m \u001b[32m380.1/380.1 kB\u001b[0m \u001b[31m6.3 MB/s\u001b[0m eta \u001b[36m0:00:00\u001b[0m\n",
            "\u001b[?25hCollecting alembic>=1.5.0 (from optuna)\n",
            "  Downloading alembic-1.13.1-py3-none-any.whl (233 kB)\n",
            "\u001b[2K     \u001b[90m━━━━━━━━━━━━━━━━━━━━━━━━━━━━━━━━━━━━━━━━\u001b[0m \u001b[32m233.4/233.4 kB\u001b[0m \u001b[31m25.6 MB/s\u001b[0m eta \u001b[36m0:00:00\u001b[0m\n",
            "\u001b[?25hCollecting colorlog (from optuna)\n",
            "  Downloading colorlog-6.8.2-py3-none-any.whl (11 kB)\n",
            "Requirement already satisfied: numpy in /usr/local/lib/python3.10/dist-packages (from optuna) (1.25.2)\n",
            "Requirement already satisfied: packaging>=20.0 in /usr/local/lib/python3.10/dist-packages (from optuna) (24.1)\n",
            "Requirement already satisfied: sqlalchemy>=1.3.0 in /usr/local/lib/python3.10/dist-packages (from optuna) (2.0.30)\n",
            "Requirement already satisfied: tqdm in /usr/local/lib/python3.10/dist-packages (from optuna) (4.66.4)\n",
            "Requirement already satisfied: PyYAML in /usr/local/lib/python3.10/dist-packages (from optuna) (6.0.1)\n",
            "Collecting Mako (from alembic>=1.5.0->optuna)\n",
            "  Downloading Mako-1.3.5-py3-none-any.whl (78 kB)\n",
            "\u001b[2K     \u001b[90m━━━━━━━━━━━━━━━━━━━━━━━━━━━━━━━━━━━━━━━━\u001b[0m \u001b[32m78.6/78.6 kB\u001b[0m \u001b[31m10.0 MB/s\u001b[0m eta \u001b[36m0:00:00\u001b[0m\n",
            "\u001b[?25hRequirement already satisfied: typing-extensions>=4 in /usr/local/lib/python3.10/dist-packages (from alembic>=1.5.0->optuna) (4.12.2)\n",
            "Requirement already satisfied: greenlet!=0.4.17 in /usr/local/lib/python3.10/dist-packages (from sqlalchemy>=1.3.0->optuna) (3.0.3)\n",
            "Requirement already satisfied: MarkupSafe>=0.9.2 in /usr/local/lib/python3.10/dist-packages (from Mako->alembic>=1.5.0->optuna) (2.1.5)\n",
            "Installing collected packages: Mako, colorlog, alembic, optuna\n",
            "Successfully installed Mako-1.3.5 alembic-1.13.1 colorlog-6.8.2 optuna-3.6.1\n",
            "Requirement already satisfied: tensorflow in /usr/local/lib/python3.10/dist-packages (2.15.0)\n",
            "Requirement already satisfied: absl-py>=1.0.0 in /usr/local/lib/python3.10/dist-packages (from tensorflow) (1.4.0)\n",
            "Requirement already satisfied: astunparse>=1.6.0 in /usr/local/lib/python3.10/dist-packages (from tensorflow) (1.6.3)\n",
            "Requirement already satisfied: flatbuffers>=23.5.26 in /usr/local/lib/python3.10/dist-packages (from tensorflow) (24.3.25)\n",
            "Requirement already satisfied: gast!=0.5.0,!=0.5.1,!=0.5.2,>=0.2.1 in /usr/local/lib/python3.10/dist-packages (from tensorflow) (0.5.4)\n",
            "Requirement already satisfied: google-pasta>=0.1.1 in /usr/local/lib/python3.10/dist-packages (from tensorflow) (0.2.0)\n",
            "Requirement already satisfied: h5py>=2.9.0 in /usr/local/lib/python3.10/dist-packages (from tensorflow) (3.9.0)\n",
            "Requirement already satisfied: libclang>=13.0.0 in /usr/local/lib/python3.10/dist-packages (from tensorflow) (18.1.1)\n",
            "Requirement already satisfied: ml-dtypes~=0.2.0 in /usr/local/lib/python3.10/dist-packages (from tensorflow) (0.2.0)\n",
            "Requirement already satisfied: numpy<2.0.0,>=1.23.5 in /usr/local/lib/python3.10/dist-packages (from tensorflow) (1.25.2)\n",
            "Requirement already satisfied: opt-einsum>=2.3.2 in /usr/local/lib/python3.10/dist-packages (from tensorflow) (3.3.0)\n",
            "Requirement already satisfied: packaging in /usr/local/lib/python3.10/dist-packages (from tensorflow) (24.1)\n",
            "Requirement already satisfied: protobuf!=4.21.0,!=4.21.1,!=4.21.2,!=4.21.3,!=4.21.4,!=4.21.5,<5.0.0dev,>=3.20.3 in /usr/local/lib/python3.10/dist-packages (from tensorflow) (3.20.3)\n",
            "Requirement already satisfied: setuptools in /usr/local/lib/python3.10/dist-packages (from tensorflow) (67.7.2)\n",
            "Requirement already satisfied: six>=1.12.0 in /usr/local/lib/python3.10/dist-packages (from tensorflow) (1.16.0)\n",
            "Requirement already satisfied: termcolor>=1.1.0 in /usr/local/lib/python3.10/dist-packages (from tensorflow) (2.4.0)\n",
            "Requirement already satisfied: typing-extensions>=3.6.6 in /usr/local/lib/python3.10/dist-packages (from tensorflow) (4.12.2)\n",
            "Requirement already satisfied: wrapt<1.15,>=1.11.0 in /usr/local/lib/python3.10/dist-packages (from tensorflow) (1.14.1)\n",
            "Requirement already satisfied: tensorflow-io-gcs-filesystem>=0.23.1 in /usr/local/lib/python3.10/dist-packages (from tensorflow) (0.37.0)\n",
            "Requirement already satisfied: grpcio<2.0,>=1.24.3 in /usr/local/lib/python3.10/dist-packages (from tensorflow) (1.64.1)\n",
            "Requirement already satisfied: tensorboard<2.16,>=2.15 in /usr/local/lib/python3.10/dist-packages (from tensorflow) (2.15.2)\n",
            "Requirement already satisfied: tensorflow-estimator<2.16,>=2.15.0 in /usr/local/lib/python3.10/dist-packages (from tensorflow) (2.15.0)\n",
            "Requirement already satisfied: keras<2.16,>=2.15.0 in /usr/local/lib/python3.10/dist-packages (from tensorflow) (2.15.0)\n",
            "Requirement already satisfied: wheel<1.0,>=0.23.0 in /usr/local/lib/python3.10/dist-packages (from astunparse>=1.6.0->tensorflow) (0.43.0)\n",
            "Requirement already satisfied: google-auth<3,>=1.6.3 in /usr/local/lib/python3.10/dist-packages (from tensorboard<2.16,>=2.15->tensorflow) (2.27.0)\n",
            "Requirement already satisfied: google-auth-oauthlib<2,>=0.5 in /usr/local/lib/python3.10/dist-packages (from tensorboard<2.16,>=2.15->tensorflow) (1.2.0)\n",
            "Requirement already satisfied: markdown>=2.6.8 in /usr/local/lib/python3.10/dist-packages (from tensorboard<2.16,>=2.15->tensorflow) (3.6)\n",
            "Requirement already satisfied: requests<3,>=2.21.0 in /usr/local/lib/python3.10/dist-packages (from tensorboard<2.16,>=2.15->tensorflow) (2.31.0)\n",
            "Requirement already satisfied: tensorboard-data-server<0.8.0,>=0.7.0 in /usr/local/lib/python3.10/dist-packages (from tensorboard<2.16,>=2.15->tensorflow) (0.7.2)\n",
            "Requirement already satisfied: werkzeug>=1.0.1 in /usr/local/lib/python3.10/dist-packages (from tensorboard<2.16,>=2.15->tensorflow) (3.0.3)\n",
            "Requirement already satisfied: cachetools<6.0,>=2.0.0 in /usr/local/lib/python3.10/dist-packages (from google-auth<3,>=1.6.3->tensorboard<2.16,>=2.15->tensorflow) (5.3.3)\n",
            "Requirement already satisfied: pyasn1-modules>=0.2.1 in /usr/local/lib/python3.10/dist-packages (from google-auth<3,>=1.6.3->tensorboard<2.16,>=2.15->tensorflow) (0.4.0)\n",
            "Requirement already satisfied: rsa<5,>=3.1.4 in /usr/local/lib/python3.10/dist-packages (from google-auth<3,>=1.6.3->tensorboard<2.16,>=2.15->tensorflow) (4.9)\n",
            "Requirement already satisfied: requests-oauthlib>=0.7.0 in /usr/local/lib/python3.10/dist-packages (from google-auth-oauthlib<2,>=0.5->tensorboard<2.16,>=2.15->tensorflow) (1.3.1)\n",
            "Requirement already satisfied: charset-normalizer<4,>=2 in /usr/local/lib/python3.10/dist-packages (from requests<3,>=2.21.0->tensorboard<2.16,>=2.15->tensorflow) (3.3.2)\n",
            "Requirement already satisfied: idna<4,>=2.5 in /usr/local/lib/python3.10/dist-packages (from requests<3,>=2.21.0->tensorboard<2.16,>=2.15->tensorflow) (3.7)\n",
            "Requirement already satisfied: urllib3<3,>=1.21.1 in /usr/local/lib/python3.10/dist-packages (from requests<3,>=2.21.0->tensorboard<2.16,>=2.15->tensorflow) (2.0.7)\n",
            "Requirement already satisfied: certifi>=2017.4.17 in /usr/local/lib/python3.10/dist-packages (from requests<3,>=2.21.0->tensorboard<2.16,>=2.15->tensorflow) (2024.6.2)\n",
            "Requirement already satisfied: MarkupSafe>=2.1.1 in /usr/local/lib/python3.10/dist-packages (from werkzeug>=1.0.1->tensorboard<2.16,>=2.15->tensorflow) (2.1.5)\n",
            "Requirement already satisfied: pyasn1<0.7.0,>=0.4.6 in /usr/local/lib/python3.10/dist-packages (from pyasn1-modules>=0.2.1->google-auth<3,>=1.6.3->tensorboard<2.16,>=2.15->tensorflow) (0.6.0)\n",
            "Requirement already satisfied: oauthlib>=3.0.0 in /usr/local/lib/python3.10/dist-packages (from requests-oauthlib>=0.7.0->google-auth-oauthlib<2,>=0.5->tensorboard<2.16,>=2.15->tensorflow) (3.2.2)\n"
          ]
        }
      ]
    },
    {
      "cell_type": "code",
      "source": [
        "import numpy as np\n",
        "import pandas as pd\n",
        "import matplotlib.pyplot as plt\n",
        "import seaborn as sns\n",
        "import random\n",
        "from sklearn.model_selection import train_test_split\n",
        "from sklearn.metrics import classification_report, confusion_matrix, accuracy_score\n",
        "from sklearn.preprocessing import StandardScaler, LabelEncoder\n",
        "import tensorflow as tf\n",
        "from tensorflow.keras.models import Sequential\n",
        "from tensorflow.keras.layers import Embedding, LSTM, Dense, Dropout\n",
        "from tensorflow.keras.optimizers import Adam\n",
        "import optuna"
      ],
      "metadata": {
        "id": "Xy46LHI7HkBc"
      },
      "execution_count": 4,
      "outputs": []
    },
    {
      "cell_type": "code",
      "source": [
        "# Load the dataset\n",
        "full_data = pd.read_parquet(\"full_dataset.parquet.gzip\")\n",
        "full_data = full_data[full_data[\"SM_platform\"] != \"Red\"]"
      ],
      "metadata": {
        "id": "ZDV-GiTRJ7ah"
      },
      "execution_count": 5,
      "outputs": []
    },
    {
      "cell_type": "code",
      "source": [
        "# Split the dataset into training and testing sets\n",
        "random.seed(51)\n",
        "testing_categories = [1, 2, 3, 4, 5, 6]\n",
        "random.shuffle(testing_categories)\n",
        "\n",
        "testing_set = [f\"{platform}{number}\" for platform, number in zip(full_data[\"SM_platform\"].unique(), testing_categories)]\n",
        "testing_df = full_data[full_data[\"source_name\"].isin(testing_set)]\n",
        "training_df = full_data[~full_data[\"source_name\"].isin(testing_set)]"
      ],
      "metadata": {
        "id": "0fIizKhFJ_c2"
      },
      "execution_count": 6,
      "outputs": []
    },
    {
      "cell_type": "code",
      "source": [
        "# Only select standardized columns\n",
        "columns_to_select = [col for col in full_data.columns if 'zscore' in col] + [\"SM_platform\", \"index\"] + [col for col in\n",
        "                                                                                                        full_data.columns\n",
        "                                                                                                        if 'pc' in col]\n",
        "training_df = training_df.loc[:, columns_to_select]\n",
        "testing_df = testing_df.loc[:, columns_to_select]"
      ],
      "metadata": {
        "id": "m2bxR8xFKGqm"
      },
      "execution_count": 7,
      "outputs": []
    },
    {
      "cell_type": "code",
      "source": [
        "# Separate features and target\n",
        "X_train = training_df.drop(columns=[\"SM_platform\"])\n",
        "y_train = training_df[\"SM_platform\"]\n",
        "X_test = testing_df.drop(columns=[\"SM_platform\"])\n",
        "y_test = testing_df[\"SM_platform\"]\n",
        "\n",
        "# Encode the target variable\n",
        "label_encoder = LabelEncoder()\n",
        "y_train_encoded = label_encoder.fit_transform(y_train)\n",
        "y_test_encoded = label_encoder.transform(y_test)\n",
        "\n",
        "# # Normalize features\n",
        "scaler = StandardScaler()\n",
        "X_train_scaled = scaler.fit_transform(X_train)\n",
        "X_test_scaled = scaler.transform(X_test)\n",
        "\n",
        "# reshape data for LSTM (samples, time_steps, features)\n",
        "X_train = np.expand_dims(X_train.values, axis=2)\n",
        "X_test = np.expand_dims(X_test.values, axis=2)"
      ],
      "metadata": {
        "id": "HOpM46_6KJpo"
      },
      "execution_count": 8,
      "outputs": []
    },
    {
      "cell_type": "code",
      "source": [
        "# Create sequences for LSTM\n",
        "def create_sequences(data, target, sequence_length):\n",
        "    sequences = []\n",
        "    labels = []\n",
        "    for i in range(len(data) - sequence_length):\n",
        "        sequences.append(data[i:i + sequence_length])\n",
        "        labels.append(target[i + sequence_length])\n",
        "    return np.array(sequences), np.array(labels)\n",
        "\n",
        "\n",
        "sequence_length = 10  # Example sequence length\n",
        "X_train_seq, y_train_seq = create_sequences(X_train_scaled, y_train_encoded, sequence_length)\n",
        "X_test_seq, y_test_seq = create_sequences(X_test_scaled, y_test_encoded, sequence_length)"
      ],
      "metadata": {
        "id": "osolKvpRKRA0"
      },
      "execution_count": 9,
      "outputs": []
    },
    {
      "cell_type": "code",
      "source": [
        "# Define the LSTM model\n",
        "def create_model(trial):\n",
        "    model = Sequential()\n",
        "    model.add(LSTM(units=trial.suggest_int('units_1', 32, 128), return_sequences=True, input_shape=(X_train.shape[1], X_train.shape[2])))\n",
        "    model.add(Dropout(trial.suggest_float('dropout_1', 0.2, 0.5)))\n",
        "    model.add(LSTM(units=trial.suggest_int('units_2', 16, 64)))\n",
        "    model.add(Dropout(trial.suggest_float('dropout_2', 0.2, 0.5)))\n",
        "    model.add(Dense(units=trial.suggest_int('dense_units', 32, 128), activation='relu'))\n",
        "    model.add(Dense(units=len(label_encoder.classes_), activation='softmax'))\n",
        "\n",
        "    # Compile the model\n",
        "    model.compile(optimizer=Adam(learning_rate=trial.suggest_float('learning_rate', 1e-4, 1e-2)),\n",
        "                  loss='sparse_categorical_crossentropy',\n",
        "                  metrics=['accuracy'])\n",
        "    return model"
      ],
      "metadata": {
        "id": "nwT8PxFPKVPk"
      },
      "execution_count": 10,
      "outputs": []
    },
    {
      "cell_type": "code",
      "source": [
        "def objective(trial):\n",
        "    model = create_model(trial)\n",
        "    history = model.fit(X_train, y_train_encoded, validation_data=(X_test, y_test_encoded),\n",
        "                        epochs=10, batch_size=trial.suggest_int('batch_size', 32, 128), verbose=0)\n",
        "\n",
        "    y_pred_prob = model.predict(X_test)\n",
        "    y_pred = np.argmax(y_pred_prob, axis=1)\n",
        "    accuracy = accuracy_score(y_test_encoded, y_pred)\n",
        "\n",
        "    return accuracy"
      ],
      "metadata": {
        "id": "XW78JknCKYvR"
      },
      "execution_count": 11,
      "outputs": []
    },
    {
      "cell_type": "markdown",
      "source": [
        "default training"
      ],
      "metadata": {
        "id": "IyXP79EoLUdV"
      }
    },
    {
      "cell_type": "code",
      "source": [
        "# Define the LSTM model with default hyperparameters\n",
        "def create_default_model():\n",
        "    model = Sequential()\n",
        "    model.add(LSTM(units=100, return_sequences=True, input_shape=(X_train_seq.shape[1], X_train_seq.shape[2])))\n",
        "    model.add(Dropout(0.2))\n",
        "    model.add(LSTM(units=100, return_sequences=False))\n",
        "    model.add(Dropout(0.2))\n",
        "    model.add(Dense(units=25, activation='relu'))\n",
        "    model.add(Dense(units=len(label_encoder.classes_), activation='softmax'))\n",
        "\n",
        "    optimizer = Adam(learning_rate=1e-3)\n",
        "    model.compile(optimizer=optimizer, loss='sparse_categorical_crossentropy', metrics=['accuracy'])\n",
        "\n",
        "    return model"
      ],
      "metadata": {
        "id": "YHOctxRAL99q"
      },
      "execution_count": 12,
      "outputs": []
    },
    {
      "cell_type": "code",
      "source": [
        "# Train the model with default hyperparameters\n",
        "default_model = create_default_model()\n",
        "history = default_model.fit(X_train_seq, y_train_seq, epochs=50, batch_size=32, validation_split=0.2, verbose=1)"
      ],
      "metadata": {
        "colab": {
          "base_uri": "https://localhost:8080/"
        },
        "id": "Zq85jXjZLaMQ",
        "outputId": "1d03f625-5fd4-4e78-b1ff-cf61f1a59d8d"
      },
      "execution_count": 13,
      "outputs": [
        {
          "output_type": "stream",
          "name": "stdout",
          "text": [
            "Epoch 1/50\n",
            "3727/3727 [==============================] - 27s 6ms/step - loss: 0.0212 - accuracy: 0.9937 - val_loss: 9.9175 - val_accuracy: 0.0012\n",
            "Epoch 2/50\n",
            "3727/3727 [==============================] - 21s 6ms/step - loss: 0.0037 - accuracy: 0.9991 - val_loss: 16.5558 - val_accuracy: 0.0012\n",
            "Epoch 3/50\n",
            "3727/3727 [==============================] - 21s 6ms/step - loss: 0.0043 - accuracy: 0.9990 - val_loss: 14.5484 - val_accuracy: 0.0012\n",
            "Epoch 4/50\n",
            "3727/3727 [==============================] - 21s 6ms/step - loss: 0.0025 - accuracy: 0.9994 - val_loss: 16.6237 - val_accuracy: 0.0012\n",
            "Epoch 5/50\n",
            "3727/3727 [==============================] - 21s 6ms/step - loss: 4.2279e-04 - accuracy: 1.0000 - val_loss: 21.5056 - val_accuracy: 0.0012\n",
            "Epoch 6/50\n",
            "3727/3727 [==============================] - 21s 6ms/step - loss: 0.0024 - accuracy: 0.9994 - val_loss: 26.5830 - val_accuracy: 0.0012\n",
            "Epoch 7/50\n",
            "3727/3727 [==============================] - 21s 6ms/step - loss: 0.0011 - accuracy: 0.9997 - val_loss: 31.4174 - val_accuracy: 0.0012\n",
            "Epoch 8/50\n",
            "3727/3727 [==============================] - 21s 6ms/step - loss: 1.5415e-04 - accuracy: 1.0000 - val_loss: 33.9760 - val_accuracy: 0.0012\n",
            "Epoch 9/50\n",
            "3727/3727 [==============================] - 21s 6ms/step - loss: 0.0018 - accuracy: 0.9996 - val_loss: 30.8448 - val_accuracy: 0.0012\n",
            "Epoch 10/50\n",
            "3727/3727 [==============================] - 21s 6ms/step - loss: 0.0015 - accuracy: 0.9997 - val_loss: 30.3406 - val_accuracy: 0.0012\n",
            "Epoch 11/50\n",
            "3727/3727 [==============================] - 21s 6ms/step - loss: 0.0010 - accuracy: 0.9997 - val_loss: 35.3832 - val_accuracy: 0.0012\n",
            "Epoch 12/50\n",
            "3727/3727 [==============================] - 21s 6ms/step - loss: 5.6943e-04 - accuracy: 0.9999 - val_loss: 38.1411 - val_accuracy: 0.0012\n",
            "Epoch 13/50\n",
            "3727/3727 [==============================] - 21s 6ms/step - loss: 6.8921e-04 - accuracy: 0.9999 - val_loss: 35.3559 - val_accuracy: 0.0012\n",
            "Epoch 14/50\n",
            "3727/3727 [==============================] - 21s 6ms/step - loss: 0.0011 - accuracy: 0.9998 - val_loss: 45.0895 - val_accuracy: 0.0012\n",
            "Epoch 15/50\n",
            "3727/3727 [==============================] - 21s 6ms/step - loss: 8.7249e-04 - accuracy: 0.9998 - val_loss: 46.9566 - val_accuracy: 0.0012\n",
            "Epoch 16/50\n",
            "3727/3727 [==============================] - 21s 6ms/step - loss: 9.9321e-04 - accuracy: 0.9998 - val_loss: 50.0615 - val_accuracy: 0.0012\n",
            "Epoch 17/50\n",
            "3727/3727 [==============================] - 21s 6ms/step - loss: 4.7197e-04 - accuracy: 0.9999 - val_loss: 49.5376 - val_accuracy: 0.0012\n",
            "Epoch 18/50\n",
            "3727/3727 [==============================] - 21s 6ms/step - loss: 9.8753e-04 - accuracy: 0.9998 - val_loss: 44.3487 - val_accuracy: 0.0012\n",
            "Epoch 19/50\n",
            "3727/3727 [==============================] - 21s 6ms/step - loss: 4.1725e-04 - accuracy: 1.0000 - val_loss: 48.8324 - val_accuracy: 0.0012\n",
            "Epoch 20/50\n",
            "3727/3727 [==============================] - 21s 6ms/step - loss: 5.6714e-04 - accuracy: 0.9999 - val_loss: 51.6506 - val_accuracy: 7.3801e-04\n",
            "Epoch 21/50\n",
            "3727/3727 [==============================] - 21s 6ms/step - loss: 7.1054e-04 - accuracy: 0.9999 - val_loss: 52.9492 - val_accuracy: 0.0012\n",
            "Epoch 22/50\n",
            "3727/3727 [==============================] - 21s 6ms/step - loss: 1.2605e-05 - accuracy: 1.0000 - val_loss: 59.3136 - val_accuracy: 0.0012\n",
            "Epoch 23/50\n",
            "3727/3727 [==============================] - 21s 6ms/step - loss: 7.9235e-04 - accuracy: 0.9999 - val_loss: 56.3941 - val_accuracy: 0.0012\n",
            "Epoch 24/50\n",
            "3727/3727 [==============================] - 21s 6ms/step - loss: 2.8619e-04 - accuracy: 0.9999 - val_loss: 56.8017 - val_accuracy: 0.0012\n",
            "Epoch 25/50\n",
            "3727/3727 [==============================] - 21s 6ms/step - loss: 4.7463e-04 - accuracy: 0.9999 - val_loss: 54.5815 - val_accuracy: 0.0012\n",
            "Epoch 26/50\n",
            "3727/3727 [==============================] - 21s 6ms/step - loss: 2.0988e-04 - accuracy: 0.9999 - val_loss: 61.3282 - val_accuracy: 0.0012\n",
            "Epoch 27/50\n",
            "3727/3727 [==============================] - 21s 6ms/step - loss: 3.7698e-05 - accuracy: 1.0000 - val_loss: 66.7703 - val_accuracy: 0.0012\n",
            "Epoch 28/50\n",
            "3727/3727 [==============================] - 21s 6ms/step - loss: 8.7496e-04 - accuracy: 0.9999 - val_loss: 68.4613 - val_accuracy: 0.0012\n",
            "Epoch 29/50\n",
            "3727/3727 [==============================] - 21s 6ms/step - loss: 3.7969e-04 - accuracy: 0.9999 - val_loss: 60.6468 - val_accuracy: 0.0012\n",
            "Epoch 30/50\n",
            "3727/3727 [==============================] - 21s 6ms/step - loss: 6.3583e-04 - accuracy: 0.9999 - val_loss: 60.3260 - val_accuracy: 0.0012\n",
            "Epoch 31/50\n",
            "3727/3727 [==============================] - 21s 6ms/step - loss: 1.5943e-04 - accuracy: 1.0000 - val_loss: 60.0751 - val_accuracy: 0.0012\n",
            "Epoch 32/50\n",
            "3727/3727 [==============================] - 21s 6ms/step - loss: 2.5781e-04 - accuracy: 0.9999 - val_loss: 68.6805 - val_accuracy: 0.0012\n",
            "Epoch 33/50\n",
            "3727/3727 [==============================] - 21s 6ms/step - loss: 2.3552e-04 - accuracy: 0.9999 - val_loss: 61.4222 - val_accuracy: 0.0012\n",
            "Epoch 34/50\n",
            "3727/3727 [==============================] - 21s 6ms/step - loss: 6.2569e-04 - accuracy: 0.9999 - val_loss: 65.9832 - val_accuracy: 0.0012\n",
            "Epoch 35/50\n",
            "3727/3727 [==============================] - 21s 6ms/step - loss: 1.7681e-04 - accuracy: 1.0000 - val_loss: 70.0934 - val_accuracy: 0.0012\n",
            "Epoch 36/50\n",
            "3727/3727 [==============================] - 21s 6ms/step - loss: 4.3824e-04 - accuracy: 0.9999 - val_loss: 66.4405 - val_accuracy: 0.0012\n",
            "Epoch 37/50\n",
            "3727/3727 [==============================] - 21s 6ms/step - loss: 3.8153e-04 - accuracy: 0.9999 - val_loss: 65.1415 - val_accuracy: 0.0012\n",
            "Epoch 38/50\n",
            "3727/3727 [==============================] - 21s 6ms/step - loss: 1.9254e-04 - accuracy: 1.0000 - val_loss: 71.3418 - val_accuracy: 0.0012\n",
            "Epoch 39/50\n",
            "3727/3727 [==============================] - 21s 6ms/step - loss: 2.3656e-06 - accuracy: 1.0000 - val_loss: 76.4750 - val_accuracy: 0.0012\n",
            "Epoch 40/50\n",
            "3727/3727 [==============================] - 21s 6ms/step - loss: 0.0013 - accuracy: 0.9998 - val_loss: 81.0450 - val_accuracy: 0.0012\n",
            "Epoch 41/50\n",
            "3727/3727 [==============================] - 21s 6ms/step - loss: 1.0399e-04 - accuracy: 1.0000 - val_loss: 78.5368 - val_accuracy: 0.0012\n",
            "Epoch 42/50\n",
            "3727/3727 [==============================] - 21s 6ms/step - loss: 1.7522e-04 - accuracy: 1.0000 - val_loss: 75.1579 - val_accuracy: 0.0012\n",
            "Epoch 43/50\n",
            "3727/3727 [==============================] - 21s 6ms/step - loss: 1.5003e-06 - accuracy: 1.0000 - val_loss: 73.0233 - val_accuracy: 0.0012\n",
            "Epoch 44/50\n",
            "3727/3727 [==============================] - 21s 6ms/step - loss: 2.8331e-04 - accuracy: 0.9999 - val_loss: 73.3662 - val_accuracy: 0.0012\n",
            "Epoch 45/50\n",
            "3727/3727 [==============================] - 21s 6ms/step - loss: 6.0809e-04 - accuracy: 0.9999 - val_loss: 77.7932 - val_accuracy: 0.0012\n",
            "Epoch 46/50\n",
            "3727/3727 [==============================] - 21s 6ms/step - loss: 2.2138e-04 - accuracy: 0.9999 - val_loss: 78.2447 - val_accuracy: 0.0012\n",
            "Epoch 47/50\n",
            "3727/3727 [==============================] - 21s 6ms/step - loss: 4.7693e-04 - accuracy: 0.9999 - val_loss: 63.3859 - val_accuracy: 0.0012\n",
            "Epoch 48/50\n",
            "3727/3727 [==============================] - 21s 6ms/step - loss: 9.2110e-05 - accuracy: 1.0000 - val_loss: 62.5317 - val_accuracy: 0.0012\n",
            "Epoch 49/50\n",
            "3727/3727 [==============================] - 21s 6ms/step - loss: 4.7184e-04 - accuracy: 1.0000 - val_loss: 62.4125 - val_accuracy: 0.0012\n",
            "Epoch 50/50\n",
            "3727/3727 [==============================] - 21s 6ms/step - loss: 7.1578e-04 - accuracy: 0.9999 - val_loss: 62.4886 - val_accuracy: 0.0012\n"
          ]
        }
      ]
    },
    {
      "cell_type": "code",
      "source": [
        "# Evaluate the model\n",
        "test_loss, test_accuracy = default_model.evaluate(X_test_seq, y_test_seq)\n",
        "print(f'Test Accuracy: {test_accuracy:.4f}')"
      ],
      "metadata": {
        "colab": {
          "base_uri": "https://localhost:8080/"
        },
        "id": "HK1isRx6LrM9",
        "outputId": "fe205155-3648-430e-8941-4a1a7564fde1"
      },
      "execution_count": 14,
      "outputs": [
        {
          "output_type": "stream",
          "name": "stdout",
          "text": [
            "932/932 [==============================] - 2s 3ms/step - loss: 10.0662 - accuracy: 0.6074\n",
            "Test Accuracy: 0.6074\n"
          ]
        }
      ]
    },
    {
      "cell_type": "code",
      "source": [
        "# Predict and generate confusion matrix\n",
        "y_pred = default_model.predict(X_test_seq)\n",
        "y_pred_classes = np.argmax(y_pred, axis=1)"
      ],
      "metadata": {
        "colab": {
          "base_uri": "https://localhost:8080/"
        },
        "id": "IntqjXXgLtyl",
        "outputId": "de60e2d5-b5b5-4a53-d794-559c4d938733"
      },
      "execution_count": 15,
      "outputs": [
        {
          "output_type": "stream",
          "name": "stdout",
          "text": [
            "932/932 [==============================] - 3s 2ms/step\n"
          ]
        }
      ]
    },
    {
      "cell_type": "code",
      "source": [
        "# Confusion Matrix\n",
        "conf_matrix = confusion_matrix(y_test_seq, y_pred_classes)\n",
        "print('Confusion Matrix:')\n",
        "print(conf_matrix)"
      ],
      "metadata": {
        "colab": {
          "base_uri": "https://localhost:8080/"
        },
        "id": "5zG_q7jhLwk3",
        "outputId": "8ac30ca1-28b3-4ad7-f86e-6438fded2ea0"
      },
      "execution_count": 16,
      "outputs": [
        {
          "output_type": "stream",
          "name": "stdout",
          "text": [
            "Confusion Matrix:\n",
            "[[5986    0    0    0    0]\n",
            " [   7 5944    0    0    0]\n",
            " [   0   14  771 5170    0]\n",
            " [   0    0  554 5401    0]\n",
            " [4677 1138  126   14    0]]\n"
          ]
        }
      ]
    },
    {
      "cell_type": "code",
      "source": [
        "# Classification Report\n",
        "class_report = classification_report(y_test_seq, y_pred_classes, target_names=label_encoder.classes_)\n",
        "print('Classification Report:')\n",
        "print(class_report)"
      ],
      "metadata": {
        "colab": {
          "base_uri": "https://localhost:8080/"
        },
        "id": "50jX06JFLzfH",
        "outputId": "fd56f693-5d4c-4b58-f590-873e5324447c"
      },
      "execution_count": 17,
      "outputs": [
        {
          "output_type": "stream",
          "name": "stdout",
          "text": [
            "Classification Report:\n",
            "              precision    recall  f1-score   support\n",
            "\n",
            "          FB       0.56      1.00      0.72      5986\n",
            "       Insta       0.84      1.00      0.91      5951\n",
            "      Reddit       0.53      0.13      0.21      5955\n",
            "      TikTok       0.51      0.91      0.65      5955\n",
            "           X       0.00      0.00      0.00      5955\n",
            "\n",
            "    accuracy                           0.61     29802\n",
            "   macro avg       0.49      0.61      0.50     29802\n",
            "weighted avg       0.49      0.61      0.50     29802\n",
            "\n"
          ]
        },
        {
          "output_type": "stream",
          "name": "stderr",
          "text": [
            "/usr/local/lib/python3.10/dist-packages/sklearn/metrics/_classification.py:1344: UndefinedMetricWarning: Precision and F-score are ill-defined and being set to 0.0 in labels with no predicted samples. Use `zero_division` parameter to control this behavior.\n",
            "  _warn_prf(average, modifier, msg_start, len(result))\n",
            "/usr/local/lib/python3.10/dist-packages/sklearn/metrics/_classification.py:1344: UndefinedMetricWarning: Precision and F-score are ill-defined and being set to 0.0 in labels with no predicted samples. Use `zero_division` parameter to control this behavior.\n",
            "  _warn_prf(average, modifier, msg_start, len(result))\n",
            "/usr/local/lib/python3.10/dist-packages/sklearn/metrics/_classification.py:1344: UndefinedMetricWarning: Precision and F-score are ill-defined and being set to 0.0 in labels with no predicted samples. Use `zero_division` parameter to control this behavior.\n",
            "  _warn_prf(average, modifier, msg_start, len(result))\n"
          ]
        }
      ]
    },
    {
      "cell_type": "code",
      "source": [
        "# Plot the confusion matrix\n",
        "plt.figure(figsize=(10, 8))\n",
        "sns.heatmap(conf_matrix, annot=True, fmt='d', cmap='Blues', xticklabels=label_encoder.classes_, yticklabels=label_encoder.classes_)\n",
        "plt.xlabel('Predicted')\n",
        "plt.ylabel('Actual')\n",
        "plt.title('Confusion Matrix')\n",
        "plt.show()"
      ],
      "metadata": {
        "colab": {
          "base_uri": "https://localhost:8080/",
          "height": 718
        },
        "id": "EVZcIBTnL18c",
        "outputId": "10448669-058b-40ed-810d-e7fa8caaaf58"
      },
      "execution_count": 18,
      "outputs": [
        {
          "output_type": "display_data",
          "data": {
            "text/plain": [
              "<Figure size 1000x800 with 2 Axes>"
            ],
            "image/png": "[encoded data removed]"
          },
          "metadata": {}
        }
      ]
    },
    {
      "cell_type": "markdown",
      "source": [
        "hyperparameter tuning with optuna"
      ],
      "metadata": {
        "id": "VqGn3B4pLWHx"
      }
    },
    {
      "cell_type": "code",
      "source": [
        "# Run Optuna optimization\n",
        "study = optuna.create_study(direction='maximize')\n",
        "study.optimize(objective, n_trials=50)"
      ],
      "metadata": {
        "colab": {
          "base_uri": "https://localhost:8080/"
        },
        "id": "V_8YyJH2Kgjo",
        "outputId": "5643b4ae-d117-4638-df55-831ab3998184"
      },
      "execution_count": 19,
      "outputs": [
        {
          "metadata": {
            "tags": null
          },
          "name": "stderr",
          "output_type": "stream",
          "text": [
            "[I 2024-06-21 15:32:24,458] A new study created in memory with name: no-name-b6b2ef5d-419c-4350-bb20-a0c82da4a791\n"
          ]
        },
        {
          "metadata": {
            "tags": null
          },
          "name": "stdout",
          "output_type": "stream",
          "text": [
            "932/932 [==============================] - 4s 4ms/step\n"
          ]
        },
        {
          "metadata": {
            "tags": null
          },
          "name": "stderr",
          "output_type": "stream",
          "text": [
            "[I 2024-06-21 15:38:19,281] Trial 0 finished with value: 0.7183013551589964 and parameters: {'units_1': 38, 'dropout_1': 0.37246950302711823, 'units_2': 32, 'dropout_2': 0.35365620972693196, 'dense_units': 82, 'learning_rate': 0.009461159538605522, 'batch_size': 34}. Best is trial 0 with value: 0.7183013551589964.\n"
          ]
        },
        {
          "metadata": {
            "tags": null
          },
          "name": "stdout",
          "output_type": "stream",
          "text": [
            "932/932 [==============================] - 4s 4ms/step\n"
          ]
        },
        {
          "metadata": {
            "tags": null
          },
          "name": "stderr",
          "output_type": "stream",
          "text": [
            "[I 2024-06-21 15:41:19,531] Trial 1 finished with value: 0.7496981081443714 and parameters: {'units_1': 107, 'dropout_1': 0.40786604299942136, 'units_2': 17, 'dropout_2': 0.45284166350310295, 'dense_units': 97, 'learning_rate': 0.0017894135140075278, 'batch_size': 74}. Best is trial 1 with value: 0.7496981081443714.\n"
          ]
        },
        {
          "metadata": {
            "tags": null
          },
          "name": "stdout",
          "output_type": "stream",
          "text": [
            "932/932 [==============================] - 4s 4ms/step\n"
          ]
        },
        {
          "metadata": {
            "tags": null
          },
          "name": "stderr",
          "output_type": "stream",
          "text": [
            "[I 2024-06-21 15:44:24,067] Trial 2 finished with value: 0.8035019455252919 and parameters: {'units_1': 42, 'dropout_1': 0.47743629120281256, 'units_2': 22, 'dropout_2': 0.21732912585274483, 'dense_units': 48, 'learning_rate': 0.005031226965935945, 'batch_size': 71}. Best is trial 2 with value: 0.8035019455252919.\n"
          ]
        },
        {
          "metadata": {
            "tags": null
          },
          "name": "stdout",
          "output_type": "stream",
          "text": [
            "932/932 [==============================] - 4s 4ms/step\n"
          ]
        },
        {
          "metadata": {
            "tags": null
          },
          "name": "stderr",
          "output_type": "stream",
          "text": [
            "[I 2024-06-21 15:46:58,481] Trial 3 finished with value: 0.7539916812022005 and parameters: {'units_1': 77, 'dropout_1': 0.4451315375173272, 'units_2': 25, 'dropout_2': 0.22166835301286025, 'dense_units': 101, 'learning_rate': 0.0005432294005924965, 'batch_size': 86}. Best is trial 2 with value: 0.8035019455252919.\n"
          ]
        },
        {
          "metadata": {
            "tags": null
          },
          "name": "stdout",
          "output_type": "stream",
          "text": [
            "932/932 [==============================] - 4s 4ms/step\n"
          ]
        },
        {
          "metadata": {
            "tags": null
          },
          "name": "stderr",
          "output_type": "stream",
          "text": [
            "[I 2024-06-21 15:50:03,591] Trial 4 finished with value: 0.7621763048436871 and parameters: {'units_1': 108, 'dropout_1': 0.2864139100268909, 'units_2': 23, 'dropout_2': 0.4970628081452521, 'dense_units': 63, 'learning_rate': 0.005060963199066039, 'batch_size': 72}. Best is trial 2 with value: 0.8035019455252919.\n"
          ]
        },
        {
          "metadata": {
            "tags": null
          },
          "name": "stdout",
          "output_type": "stream",
          "text": [
            "932/932 [==============================] - 4s 4ms/step\n"
          ]
        },
        {
          "metadata": {
            "tags": null
          },
          "name": "stderr",
          "output_type": "stream",
          "text": [
            "[I 2024-06-21 15:54:08,926] Trial 5 finished with value: 0.398866228364417 and parameters: {'units_1': 102, 'dropout_1': 0.37547414210680335, 'units_2': 17, 'dropout_2': 0.296139656003091, 'dense_units': 50, 'learning_rate': 0.0073361838166584505, 'batch_size': 54}. Best is trial 2 with value: 0.8035019455252919.\n"
          ]
        },
        {
          "metadata": {
            "tags": null
          },
          "name": "stdout",
          "output_type": "stream",
          "text": [
            "932/932 [==============================] - 4s 4ms/step\n"
          ]
        },
        {
          "metadata": {
            "tags": null
          },
          "name": "stderr",
          "output_type": "stream",
          "text": [
            "[I 2024-06-21 15:56:14,404] Trial 6 finished with value: 0.7916275325372333 and parameters: {'units_1': 50, 'dropout_1': 0.3112645807009918, 'units_2': 30, 'dropout_2': 0.46809754896189215, 'dense_units': 65, 'learning_rate': 0.0033489995313840315, 'batch_size': 106}. Best is trial 2 with value: 0.8035019455252919.\n"
          ]
        },
        {
          "metadata": {
            "tags": null
          },
          "name": "stdout",
          "output_type": "stream",
          "text": [
            "932/932 [==============================] - 4s 4ms/step\n"
          ]
        },
        {
          "metadata": {
            "tags": null
          },
          "name": "stderr",
          "output_type": "stream",
          "text": [
            "[I 2024-06-21 16:00:36,879] Trial 7 finished with value: 0.6884140614517644 and parameters: {'units_1': 117, 'dropout_1': 0.34978452723756603, 'units_2': 45, 'dropout_2': 0.3711238365838101, 'dense_units': 69, 'learning_rate': 0.006829344752096514, 'batch_size': 50}. Best is trial 2 with value: 0.8035019455252919.\n"
          ]
        },
        {
          "metadata": {
            "tags": null
          },
          "name": "stdout",
          "output_type": "stream",
          "text": [
            "932/932 [==============================] - 4s 4ms/step\n"
          ]
        },
        {
          "metadata": {
            "tags": null
          },
          "name": "stderr",
          "output_type": "stream",
          "text": [
            "[I 2024-06-21 16:03:13,658] Trial 8 finished with value: 0.7141419562592245 and parameters: {'units_1': 83, 'dropout_1': 0.24344518939583032, 'units_2': 40, 'dropout_2': 0.34159877725460364, 'dense_units': 81, 'learning_rate': 0.008513328669471831, 'batch_size': 87}. Best is trial 2 with value: 0.8035019455252919.\n"
          ]
        },
        {
          "metadata": {
            "tags": null
          },
          "name": "stdout",
          "output_type": "stream",
          "text": [
            "932/932 [==============================] - 4s 4ms/step\n"
          ]
        },
        {
          "metadata": {
            "tags": null
          },
          "name": "stderr",
          "output_type": "stream",
          "text": [
            "[I 2024-06-21 16:05:04,557] Trial 9 finished with value: 0.7897490943244331 and parameters: {'units_1': 92, 'dropout_1': 0.2592106015423657, 'units_2': 49, 'dropout_2': 0.25773601965987814, 'dense_units': 50, 'learning_rate': 0.007463152385624908, 'batch_size': 127}. Best is trial 2 with value: 0.8035019455252919.\n"
          ]
        },
        {
          "metadata": {
            "tags": null
          },
          "name": "stdout",
          "output_type": "stream",
          "text": [
            "932/932 [==============================] - 4s 4ms/step\n"
          ]
        },
        {
          "metadata": {
            "tags": null
          },
          "name": "stderr",
          "output_type": "stream",
          "text": [
            "[I 2024-06-21 16:07:15,462] Trial 10 finished with value: 0.796457802227291 and parameters: {'units_1': 62, 'dropout_1': 0.4912243540191433, 'units_2': 38, 'dropout_2': 0.2017200494507796, 'dense_units': 35, 'learning_rate': 0.00444732523806445, 'batch_size': 102}. Best is trial 2 with value: 0.8035019455252919.\n"
          ]
        },
        {
          "metadata": {
            "tags": null
          },
          "name": "stdout",
          "output_type": "stream",
          "text": [
            "932/932 [==============================] - 4s 4ms/step\n"
          ]
        },
        {
          "metadata": {
            "tags": null
          },
          "name": "stderr",
          "output_type": "stream",
          "text": [
            "[I 2024-06-21 16:09:14,659] Trial 11 finished with value: 0.7804575338789749 and parameters: {'units_1': 61, 'dropout_1': 0.48647059955206856, 'units_2': 61, 'dropout_2': 0.20120436459411067, 'dense_units': 32, 'learning_rate': 0.004173214965383318, 'batch_size': 113}. Best is trial 2 with value: 0.8035019455252919.\n"
          ]
        },
        {
          "metadata": {
            "tags": null
          },
          "name": "stdout",
          "output_type": "stream",
          "text": [
            "932/932 [==============================] - 4s 4ms/step\n"
          ]
        },
        {
          "metadata": {
            "tags": null
          },
          "name": "stderr",
          "output_type": "stream",
          "text": [
            "[I 2024-06-21 16:11:27,010] Trial 12 finished with value: 0.7449013819938279 and parameters: {'units_1': 62, 'dropout_1': 0.49797020327741187, 'units_2': 37, 'dropout_2': 0.2614810873014678, 'dense_units': 32, 'learning_rate': 0.005191446790267786, 'batch_size': 100}. Best is trial 2 with value: 0.8035019455252919.\n"
          ]
        },
        {
          "metadata": {
            "tags": null
          },
          "name": "stdout",
          "output_type": "stream",
          "text": [
            "932/932 [==============================] - 4s 3ms/step\n"
          ]
        },
        {
          "metadata": {
            "tags": null
          },
          "name": "stderr",
          "output_type": "stream",
          "text": [
            "[I 2024-06-21 16:14:40,216] Trial 13 finished with value: 0.8207433248356366 and parameters: {'units_1': 36, 'dropout_1': 0.4412334015377209, 'units_2': 49, 'dropout_2': 0.24621854278816105, 'dense_units': 123, 'learning_rate': 0.0030470531114485046, 'batch_size': 67}. Best is trial 13 with value: 0.8207433248356366.\n"
          ]
        },
        {
          "metadata": {
            "tags": null
          },
          "name": "stdout",
          "output_type": "stream",
          "text": [
            "932/932 [==============================] - 5s 4ms/step\n"
          ]
        },
        {
          "metadata": {
            "tags": null
          },
          "name": "stderr",
          "output_type": "stream",
          "text": [
            "[I 2024-06-21 16:18:23,858] Trial 14 finished with value: 0.8273178585804374 and parameters: {'units_1': 32, 'dropout_1': 0.43372040369190307, 'units_2': 55, 'dropout_2': 0.2968639463356105, 'dense_units': 125, 'learning_rate': 0.0026907883594303916, 'batch_size': 57}. Best is trial 14 with value: 0.8273178585804374.\n"
          ]
        },
        {
          "metadata": {
            "tags": null
          },
          "name": "stdout",
          "output_type": "stream",
          "text": [
            "932/932 [==============================] - 4s 4ms/step\n"
          ]
        },
        {
          "metadata": {
            "tags": null
          },
          "name": "stderr",
          "output_type": "stream",
          "text": [
            "[I 2024-06-21 16:22:07,736] Trial 15 finished with value: 0.7542264859788005 and parameters: {'units_1': 32, 'dropout_1': 0.41674428673993147, 'units_2': 56, 'dropout_2': 0.30514430848348995, 'dense_units': 128, 'learning_rate': 0.0024324656009068577, 'batch_size': 57}. Best is trial 14 with value: 0.8273178585804374.\n"
          ]
        },
        {
          "metadata": {
            "tags": null
          },
          "name": "stdout",
          "output_type": "stream",
          "text": [
            "932/932 [==============================] - 4s 4ms/step\n"
          ]
        },
        {
          "metadata": {
            "tags": null
          },
          "name": "stderr",
          "output_type": "stream",
          "text": [
            "[I 2024-06-21 16:27:53,697] Trial 16 finished with value: 0.7131356500737958 and parameters: {'units_1': 48, 'dropout_1': 0.20683714400795816, 'units_2': 52, 'dropout_2': 0.4043557778921036, 'dense_units': 128, 'learning_rate': 0.00032943760356963364, 'batch_size': 36}. Best is trial 14 with value: 0.8273178585804374.\n"
          ]
        },
        {
          "metadata": {
            "tags": null
          },
          "name": "stdout",
          "output_type": "stream",
          "text": [
            "932/932 [==============================] - 4s 4ms/step\n"
          ]
        },
        {
          "metadata": {
            "tags": null
          },
          "name": "stderr",
          "output_type": "stream",
          "text": [
            "[I 2024-06-21 16:31:20,214] Trial 17 finished with value: 0.7412786797262847 and parameters: {'units_1': 32, 'dropout_1': 0.4406629319117379, 'units_2': 62, 'dropout_2': 0.2714983230850093, 'dense_units': 117, 'learning_rate': 0.0018842435319554665, 'batch_size': 62}. Best is trial 14 with value: 0.8273178585804374.\n"
          ]
        },
        {
          "metadata": {
            "tags": null
          },
          "name": "stdout",
          "output_type": "stream",
          "text": [
            "932/932 [==============================] - 4s 4ms/step\n"
          ]
        },
        {
          "metadata": {
            "tags": null
          },
          "name": "stderr",
          "output_type": "stream",
          "text": [
            "[I 2024-06-21 16:36:10,249] Trial 18 finished with value: 0.7969944988595197 and parameters: {'units_1': 53, 'dropout_1': 0.4524472122378377, 'units_2': 46, 'dropout_2': 0.31923653780217104, 'dense_units': 111, 'learning_rate': 0.0030637463482836406, 'batch_size': 44}. Best is trial 14 with value: 0.8273178585804374.\n"
          ]
        },
        {
          "metadata": {
            "tags": null
          },
          "name": "stdout",
          "output_type": "stream",
          "text": [
            "932/932 [==============================] - 4s 4ms/step\n"
          ]
        },
        {
          "metadata": {
            "tags": null
          },
          "name": "stderr",
          "output_type": "stream",
          "text": [
            "[I 2024-06-21 16:39:28,245] Trial 19 finished with value: 0.802596269958406 and parameters: {'units_1': 73, 'dropout_1': 0.407356159313201, 'units_2': 53, 'dropout_2': 0.24318004160602638, 'dense_units': 95, 'learning_rate': 0.006203707519148315, 'batch_size': 66}. Best is trial 14 with value: 0.8273178585804374.\n"
          ]
        },
        {
          "metadata": {
            "tags": null
          },
          "name": "stdout",
          "output_type": "stream",
          "text": [
            "932/932 [==============================] - 4s 4ms/step\n"
          ]
        },
        {
          "metadata": {
            "tags": null
          },
          "name": "stderr",
          "output_type": "stream",
          "text": [
            "[I 2024-06-21 16:42:10,825] Trial 20 finished with value: 0.7507379578693144 and parameters: {'units_1': 43, 'dropout_1': 0.3419409588016132, 'units_2': 57, 'dropout_2': 0.2819237589634604, 'dense_units': 115, 'learning_rate': 0.0010252055839912845, 'batch_size': 81}. Best is trial 14 with value: 0.8273178585804374.\n"
          ]
        },
        {
          "output_type": "stream",
          "name": "stdout",
          "text": [
            "932/932 [==============================] - 4s 4ms/step\n"
          ]
        },
        {
          "output_type": "stream",
          "name": "stderr",
          "text": [
            "[I 2024-06-21 16:45:29,022] Trial 21 finished with value: 0.7739165436736885 and parameters: {'units_1': 40, 'dropout_1': 0.4642147735463539, 'units_2': 46, 'dropout_2': 0.24400169097379587, 'dense_units': 108, 'learning_rate': 0.003600326318530028, 'batch_size': 65}. Best is trial 14 with value: 0.8273178585804374.\n"
          ]
        },
        {
          "output_type": "stream",
          "name": "stdout",
          "text": [
            "932/932 [==============================] - 4s 4ms/step\n"
          ]
        },
        {
          "output_type": "stream",
          "name": "stderr",
          "text": [
            "[I 2024-06-21 16:50:04,730] Trial 22 finished with value: 0.7564068160472293 and parameters: {'units_1': 55, 'dropout_1': 0.4264484243951883, 'units_2': 56, 'dropout_2': 0.2298609348437814, 'dense_units': 121, 'learning_rate': 0.006095025368145369, 'batch_size': 46}. Best is trial 14 with value: 0.8273178585804374.\n"
          ]
        },
        {
          "output_type": "stream",
          "name": "stdout",
          "text": [
            "932/932 [==============================] - 4s 4ms/step\n"
          ]
        },
        {
          "output_type": "stream",
          "name": "stderr",
          "text": [
            "[I 2024-06-21 16:52:59,932] Trial 23 finished with value: 0.784516302160204 and parameters: {'units_1': 41, 'dropout_1': 0.47142338595383254, 'units_2': 41, 'dropout_2': 0.32372657634161034, 'dense_units': 92, 'learning_rate': 0.0026809206449150613, 'batch_size': 74}. Best is trial 14 with value: 0.8273178585804374.\n"
          ]
        },
        {
          "output_type": "stream",
          "name": "stdout",
          "text": [
            "932/932 [==============================] - 4s 4ms/step\n"
          ]
        },
        {
          "output_type": "stream",
          "name": "stderr",
          "text": [
            "[I 2024-06-21 16:55:22,416] Trial 24 finished with value: 0.7721387360794311 and parameters: {'units_1': 32, 'dropout_1': 0.3909757426747477, 'units_2': 50, 'dropout_2': 0.28869577059089113, 'dense_units': 44, 'learning_rate': 0.004191925862080681, 'batch_size': 93}. Best is trial 14 with value: 0.8273178585804374.\n"
          ]
        },
        {
          "output_type": "stream",
          "name": "stdout",
          "text": [
            "932/932 [==============================] - 4s 4ms/step\n"
          ]
        },
        {
          "output_type": "stream",
          "name": "stderr",
          "text": [
            "[I 2024-06-21 16:58:57,495] Trial 25 finished with value: 0.7466791895880853 and parameters: {'units_1': 69, 'dropout_1': 0.46637538009344537, 'units_2': 33, 'dropout_2': 0.22832258250420817, 'dense_units': 107, 'learning_rate': 0.0016758402060889552, 'batch_size': 60}. Best is trial 14 with value: 0.8273178585804374.\n"
          ]
        },
        {
          "output_type": "stream",
          "name": "stdout",
          "text": [
            "932/932 [==============================] - 4s 4ms/step\n"
          ]
        },
        {
          "output_type": "stream",
          "name": "stderr",
          "text": [
            "[I 2024-06-21 17:02:00,421] Trial 26 finished with value: 0.8005836575875487 and parameters: {'units_1': 45, 'dropout_1': 0.44101720428387126, 'units_2': 23, 'dropout_2': 0.26291069684408364, 'dense_units': 75, 'learning_rate': 0.005515636424600037, 'batch_size': 71}. Best is trial 14 with value: 0.8273178585804374.\n"
          ]
        },
        {
          "output_type": "stream",
          "name": "stdout",
          "text": [
            "932/932 [==============================] - 4s 4ms/step\n"
          ]
        },
        {
          "output_type": "stream",
          "name": "stderr",
          "text": [
            "[I 2024-06-21 17:07:03,283] Trial 27 finished with value: 0.7621763048436871 and parameters: {'units_1': 128, 'dropout_1': 0.39070422844911284, 'units_2': 64, 'dropout_2': 0.38072288298429424, 'dense_units': 88, 'learning_rate': 0.003734285332024157, 'batch_size': 43}. Best is trial 14 with value: 0.8273178585804374.\n"
          ]
        },
        {
          "output_type": "stream",
          "name": "stdout",
          "text": [
            "932/932 [==============================] - 4s 4ms/step\n"
          ]
        },
        {
          "output_type": "stream",
          "name": "stderr",
          "text": [
            "[I 2024-06-21 17:09:46,205] Trial 28 finished with value: 0.811518851469207 and parameters: {'units_1': 56, 'dropout_1': 0.32996813653405943, 'units_2': 44, 'dropout_2': 0.2138957150419837, 'dense_units': 122, 'learning_rate': 0.004580389481305516, 'batch_size': 80}. Best is trial 14 with value: 0.8273178585804374.\n"
          ]
        },
        {
          "output_type": "stream",
          "name": "stdout",
          "text": [
            "932/932 [==============================] - 5s 4ms/step\n"
          ]
        },
        {
          "output_type": "stream",
          "name": "stderr",
          "text": [
            "[I 2024-06-21 17:16:15,014] Trial 29 finished with value: 0.7743526096873742 and parameters: {'units_1': 56, 'dropout_1': 0.33298485050713167, 'units_2': 43, 'dropout_2': 0.3396391366976028, 'dense_units': 125, 'learning_rate': 0.002780274917605292, 'batch_size': 33}. Best is trial 14 with value: 0.8273178585804374.\n"
          ]
        },
        {
          "output_type": "stream",
          "name": "stdout",
          "text": [
            "932/932 [==============================] - 4s 4ms/step\n"
          ]
        },
        {
          "output_type": "stream",
          "name": "stderr",
          "text": [
            "[I 2024-06-21 17:19:09,221] Trial 30 finished with value: 0.7573795786931437 and parameters: {'units_1': 39, 'dropout_1': 0.3200658334404649, 'units_2': 58, 'dropout_2': 0.24580871111014793, 'dense_units': 119, 'learning_rate': 0.0022247857382034202, 'batch_size': 81}. Best is trial 14 with value: 0.8273178585804374.\n"
          ]
        },
        {
          "output_type": "stream",
          "name": "stdout",
          "text": [
            "932/932 [==============================] - 4s 4ms/step\n"
          ]
        },
        {
          "output_type": "stream",
          "name": "stderr",
          "text": [
            "[I 2024-06-21 17:22:23,534] Trial 31 finished with value: 0.7873339594794043 and parameters: {'units_1': 36, 'dropout_1': 0.36894562142688503, 'units_2': 49, 'dropout_2': 0.2101409141147455, 'dense_units': 104, 'learning_rate': 0.004461694808822195, 'batch_size': 68}. Best is trial 14 with value: 0.8273178585804374.\n"
          ]
        },
        {
          "output_type": "stream",
          "name": "stdout",
          "text": [
            "932/932 [==============================] - 4s 4ms/step\n"
          ]
        },
        {
          "output_type": "stream",
          "name": "stderr",
          "text": [
            "[I 2024-06-21 17:25:31,084] Trial 32 finished with value: 0.772239366697974 and parameters: {'units_1': 47, 'dropout_1': 0.37007587784049417, 'units_2': 32, 'dropout_2': 0.22471940662324938, 'dense_units': 121, 'learning_rate': 0.0012275528245478313, 'batch_size': 78}. Best is trial 14 with value: 0.8273178585804374.\n"
          ]
        },
        {
          "output_type": "stream",
          "name": "stdout",
          "text": [
            "932/932 [==============================] - 4s 4ms/step\n"
          ]
        },
        {
          "output_type": "stream",
          "name": "stderr",
          "text": [
            "[I 2024-06-21 17:29:58,914] Trial 33 finished with value: 0.7728431504092311 and parameters: {'units_1': 38, 'dropout_1': 0.4276432854515862, 'units_2': 53, 'dropout_2': 0.24293975757634584, 'dense_units': 113, 'learning_rate': 0.00587332620751446, 'batch_size': 54}. Best is trial 14 with value: 0.8273178585804374.\n"
          ]
        },
        {
          "output_type": "stream",
          "name": "stdout",
          "text": [
            "932/932 [==============================] - 4s 4ms/step\n"
          ]
        },
        {
          "output_type": "stream",
          "name": "stderr",
          "text": [
            "[I 2024-06-21 17:32:35,858] Trial 34 finished with value: 0.7815644706829464 and parameters: {'units_1': 44, 'dropout_1': 0.29283274842253537, 'units_2': 36, 'dropout_2': 0.22027375112734313, 'dense_units': 57, 'learning_rate': 0.00483646602517354, 'batch_size': 89}. Best is trial 14 with value: 0.8273178585804374.\n"
          ]
        },
        {
          "output_type": "stream",
          "name": "stdout",
          "text": [
            "932/932 [==============================] - 4s 4ms/step\n"
          ]
        },
        {
          "output_type": "stream",
          "name": "stderr",
          "text": [
            "[I 2024-06-21 17:35:39,584] Trial 35 finished with value: 0.76251174023883 and parameters: {'units_1': 66, 'dropout_1': 0.3902171023238123, 'units_2': 18, 'dropout_2': 0.27902931375460216, 'dense_units': 98, 'learning_rate': 0.0033463015789247626, 'batch_size': 77}. Best is trial 14 with value: 0.8273178585804374.\n"
          ]
        },
        {
          "output_type": "stream",
          "name": "stdout",
          "text": [
            "932/932 [==============================] - 4s 4ms/step\n"
          ]
        },
        {
          "output_type": "stream",
          "name": "stderr",
          "text": [
            "[I 2024-06-21 17:38:13,325] Trial 36 finished with value: 0.7590567556688582 and parameters: {'units_1': 50, 'dropout_1': 0.4665053891356338, 'units_2': 29, 'dropout_2': 0.31062815022958057, 'dense_units': 86, 'learning_rate': 0.0038167246602911382, 'batch_size': 94}. Best is trial 14 with value: 0.8273178585804374.\n"
          ]
        },
        {
          "output_type": "stream",
          "name": "stdout",
          "text": [
            "932/932 [==============================] - 4s 4ms/step\n"
          ]
        },
        {
          "output_type": "stream",
          "name": "stderr",
          "text": [
            "[I 2024-06-21 17:41:33,592] Trial 37 finished with value: 0.7410103314101704 and parameters: {'units_1': 85, 'dropout_1': 0.4783455572004826, 'units_2': 44, 'dropout_2': 0.21700773058708497, 'dense_units': 74, 'learning_rate': 0.009480379349746736, 'batch_size': 70}. Best is trial 14 with value: 0.8273178585804374.\n"
          ]
        },
        {
          "output_type": "stream",
          "name": "stdout",
          "text": [
            "932/932 [==============================] - 4s 4ms/step\n"
          ]
        },
        {
          "output_type": "stream",
          "name": "stderr",
          "text": [
            "[I 2024-06-21 17:44:22,748] Trial 38 finished with value: 0.8111498725345498 and parameters: {'units_1': 36, 'dropout_1': 0.2985077285403788, 'units_2': 42, 'dropout_2': 0.2936033433152891, 'dense_units': 102, 'learning_rate': 0.004749323308266078, 'batch_size': 83}. Best is trial 14 with value: 0.8273178585804374.\n"
          ]
        },
        {
          "output_type": "stream",
          "name": "stdout",
          "text": [
            "932/932 [==============================] - 4s 4ms/step\n"
          ]
        },
        {
          "output_type": "stream",
          "name": "stderr",
          "text": [
            "[I 2024-06-21 17:47:04,082] Trial 39 finished with value: 0.75 and parameters: {'units_1': 36, 'dropout_1': 0.2801554985303674, 'units_2': 48, 'dropout_2': 0.3601205530673437, 'dense_units': 102, 'learning_rate': 0.0030514266185542177, 'batch_size': 83}. Best is trial 14 with value: 0.8273178585804374.\n"
          ]
        },
        {
          "output_type": "stream",
          "name": "stdout",
          "text": [
            "932/932 [==============================] - 4s 4ms/step\n"
          ]
        },
        {
          "output_type": "stream",
          "name": "stderr",
          "text": [
            "[I 2024-06-21 17:50:42,490] Trial 40 finished with value: 0.7621427613041728 and parameters: {'units_1': 54, 'dropout_1': 0.2997285246527468, 'units_2': 42, 'dropout_2': 0.29865364031911495, 'dense_units': 123, 'learning_rate': 0.0066819912973294275, 'batch_size': 60}. Best is trial 14 with value: 0.8273178585804374.\n"
          ]
        },
        {
          "output_type": "stream",
          "name": "stdout",
          "text": [
            "932/932 [==============================] - 4s 4ms/step\n"
          ]
        },
        {
          "output_type": "stream",
          "name": "stderr",
          "text": [
            "[I 2024-06-21 17:53:40,448] Trial 41 finished with value: 0.78753522071649 and parameters: {'units_1': 36, 'dropout_1': 0.32595325356176313, 'units_2': 35, 'dropout_2': 0.25319837377222315, 'dense_units': 110, 'learning_rate': 0.005423272725077848, 'batch_size': 75}. Best is trial 14 with value: 0.8273178585804374.\n"
          ]
        },
        {
          "output_type": "stream",
          "name": "stdout",
          "text": [
            "932/932 [==============================] - 4s 4ms/step\n"
          ]
        },
        {
          "output_type": "stream",
          "name": "stderr",
          "text": [
            "[I 2024-06-21 17:57:46,164] Trial 42 finished with value: 0.7465114718905139 and parameters: {'units_1': 45, 'dropout_1': 0.35419935436312666, 'units_2': 29, 'dropout_2': 0.2706033805194544, 'dense_units': 125, 'learning_rate': 0.004797587251019926, 'batch_size': 53}. Best is trial 14 with value: 0.8273178585804374.\n"
          ]
        },
        {
          "output_type": "stream",
          "name": "stdout",
          "text": [
            "932/932 [==============================] - 4s 4ms/step\n"
          ]
        },
        {
          "output_type": "stream",
          "name": "stderr",
          "text": [
            "[I 2024-06-21 18:00:18,603] Trial 43 finished with value: 0.7595263652220582 and parameters: {'units_1': 51, 'dropout_1': 0.2639721887081522, 'units_2': 40, 'dropout_2': 0.42703056205309364, 'dense_units': 116, 'learning_rate': 0.008053981590548362, 'batch_size': 90}. Best is trial 14 with value: 0.8273178585804374.\n"
          ]
        },
        {
          "output_type": "stream",
          "name": "stdout",
          "text": [
            "932/932 [==============================] - 4s 4ms/step\n"
          ]
        },
        {
          "output_type": "stream",
          "name": "stderr",
          "text": [
            "[I 2024-06-21 18:02:59,324] Trial 44 finished with value: 0.7898832684824902 and parameters: {'units_1': 58, 'dropout_1': 0.3090953682392074, 'units_2': 47, 'dropout_2': 0.20005201850291043, 'dense_units': 60, 'learning_rate': 0.0039819428705727255, 'batch_size': 84}. Best is trial 14 with value: 0.8273178585804374.\n"
          ]
        },
        {
          "output_type": "stream",
          "name": "stdout",
          "text": [
            "932/932 [==============================] - 4s 4ms/step\n"
          ]
        },
        {
          "output_type": "stream",
          "name": "stderr",
          "text": [
            "[I 2024-06-21 18:06:21,381] Trial 45 finished with value: 0.7564403595867436 and parameters: {'units_1': 32, 'dropout_1': 0.4536441001439428, 'units_2': 51, 'dropout_2': 0.2316263264997606, 'dense_units': 105, 'learning_rate': 0.004580392499900686, 'batch_size': 65}. Best is trial 14 with value: 0.8273178585804374.\n"
          ]
        },
        {
          "output_type": "stream",
          "name": "stdout",
          "text": [
            "932/932 [==============================] - 4s 4ms/step\n"
          ]
        },
        {
          "output_type": "stream",
          "name": "stderr",
          "text": [
            "[I 2024-06-21 18:08:26,106] Trial 46 finished with value: 0.7760297866630886 and parameters: {'units_1': 98, 'dropout_1': 0.23097463630075027, 'units_2': 54, 'dropout_2': 0.33212246131697903, 'dense_units': 38, 'learning_rate': 0.005109439419978375, 'batch_size': 114}. Best is trial 14 with value: 0.8273178585804374.\n"
          ]
        },
        {
          "output_type": "stream",
          "name": "stdout",
          "text": [
            "932/932 [==============================] - 4s 4ms/step\n"
          ]
        },
        {
          "output_type": "stream",
          "name": "stderr",
          "text": [
            "[I 2024-06-21 18:11:28,400] Trial 47 finished with value: 0.7836441701328324 and parameters: {'units_1': 42, 'dropout_1': 0.27853964034174333, 'units_2': 19, 'dropout_2': 0.29196328123018084, 'dense_units': 128, 'learning_rate': 0.005621419690797987, 'batch_size': 72}. Best is trial 14 with value: 0.8273178585804374.\n"
          ]
        },
        {
          "output_type": "stream",
          "name": "stdout",
          "text": [
            "932/932 [==============================] - 4s 4ms/step\n"
          ]
        },
        {
          "output_type": "stream",
          "name": "stderr",
          "text": [
            "[I 2024-06-21 18:13:47,169] Trial 48 finished with value: 0.794948342949148 and parameters: {'units_1': 36, 'dropout_1': 0.49968542168251734, 'units_2': 39, 'dropout_2': 0.26016274639657333, 'dense_units': 117, 'learning_rate': 0.0064747228043761235, 'batch_size': 96}. Best is trial 14 with value: 0.8273178585804374.\n"
          ]
        },
        {
          "output_type": "stream",
          "name": "stdout",
          "text": [
            "932/932 [==============================] - 4s 4ms/step\n"
          ]
        },
        {
          "output_type": "stream",
          "name": "stderr",
          "text": [
            "[I 2024-06-21 18:18:06,064] Trial 49 finished with value: 0.7859922178988327 and parameters: {'units_1': 49, 'dropout_1': 0.40440858266475915, 'units_2': 26, 'dropout_2': 0.21435466920223037, 'dense_units': 100, 'learning_rate': 0.007031071799681923, 'batch_size': 50}. Best is trial 14 with value: 0.8273178585804374.\n"
          ]
        }
      ]
    },
    {
      "cell_type": "code",
      "source": [
        "# Best trial\n",
        "best_trial = study.best_trial\n",
        "print(f\"Best trial: {best_trial.value}\")\n",
        "print(f\"Best hyperparameters: {best_trial.params}\")\n",
        "\n",
        "# Plot optimization history\n",
        "optuna.visualization.plot_optimization_history(study)\n",
        "plt.show()"
      ],
      "metadata": {
        "colab": {
          "base_uri": "https://localhost:8080/"
        },
        "id": "OvfZgHuzSU_K",
        "outputId": "252bcef6-2f44-41d2-8063-af7d038070cd"
      },
      "execution_count": 20,
      "outputs": [
        {
          "output_type": "stream",
          "name": "stdout",
          "text": [
            "Best trial: 0.8273178585804374\n",
            "Best hyperparameters: {'units_1': 32, 'dropout_1': 0.43372040369190307, 'units_2': 55, 'dropout_2': 0.2968639463356105, 'dense_units': 125, 'learning_rate': 0.0026907883594303916, 'batch_size': 57}\n"
          ]
        }
      ]
    },
    {
      "cell_type": "code",
      "source": [
        "# Train the best model with the optimal hyperparameters\n",
        "best_model = create_model(optuna.trial.FixedTrial(best_trial.params))\n",
        "history = best_model.fit(X_train, y_train_encoded, validation_data=(X_test, y_test_encoded), epochs=10, batch_size=best_trial.params['batch_size'], verbose=1)\n"
      ],
      "metadata": {
        "colab": {
          "base_uri": "https://localhost:8080/"
        },
        "id": "PEHTku4DKjKK",
        "outputId": "dffcbcec-fe5c-4afa-9ee9-97dc9c5e3797"
      },
      "execution_count": 21,
      "outputs": [
        {
          "output_type": "stream",
          "name": "stdout",
          "text": [
            "Epoch 1/10\n",
            "2616/2616 [==============================] - 28s 10ms/step - loss: 0.3837 - accuracy: 0.8490 - val_loss: 0.9319 - val_accuracy: 0.7319\n",
            "Epoch 2/10\n",
            "2616/2616 [==============================] - 24s 9ms/step - loss: 0.1553 - accuracy: 0.9449 - val_loss: 0.8255 - val_accuracy: 0.7371\n",
            "Epoch 3/10\n",
            "2616/2616 [==============================] - 24s 9ms/step - loss: 0.1105 - accuracy: 0.9620 - val_loss: 1.0513 - val_accuracy: 0.7231\n",
            "Epoch 4/10\n",
            "2616/2616 [==============================] - 24s 9ms/step - loss: 0.0750 - accuracy: 0.9745 - val_loss: 1.0170 - val_accuracy: 0.7794\n",
            "Epoch 5/10\n",
            "2616/2616 [==============================] - 24s 9ms/step - loss: 0.0598 - accuracy: 0.9795 - val_loss: 1.7507 - val_accuracy: 0.7017\n",
            "Epoch 6/10\n",
            "2616/2616 [==============================] - 24s 9ms/step - loss: 0.0529 - accuracy: 0.9822 - val_loss: 1.3075 - val_accuracy: 0.7771\n",
            "Epoch 7/10\n",
            "2616/2616 [==============================] - 24s 9ms/step - loss: 0.0422 - accuracy: 0.9859 - val_loss: 0.8924 - val_accuracy: 0.7892\n",
            "Epoch 8/10\n",
            "2616/2616 [==============================] - 24s 9ms/step - loss: 0.0405 - accuracy: 0.9863 - val_loss: 1.4982 - val_accuracy: 0.7026\n",
            "Epoch 9/10\n",
            "2616/2616 [==============================] - 24s 9ms/step - loss: 0.0345 - accuracy: 0.9884 - val_loss: 0.9369 - val_accuracy: 0.8198\n",
            "Epoch 10/10\n",
            "2616/2616 [==============================] - 24s 9ms/step - loss: 0.0325 - accuracy: 0.9891 - val_loss: 1.8950 - val_accuracy: 0.7437\n"
          ]
        }
      ]
    },
    {
      "cell_type": "code",
      "source": [
        "# Evaluate the best model\n",
        "y_pred_prob = best_model.predict(X_test)\n",
        "y_pred = np.argmax(y_pred_prob, axis=1)\n",
        "y_pred_labels = label_encoder.inverse_transform(y_pred)\n",
        "y_test_labels = label_encoder.inverse_transform(y_test_encoded)"
      ],
      "metadata": {
        "colab": {
          "base_uri": "https://localhost:8080/"
        },
        "id": "HVmGFwnUKmCB",
        "outputId": "ed8050f4-9e24-4444-d51b-d9d3715cca95"
      },
      "execution_count": 22,
      "outputs": [
        {
          "output_type": "stream",
          "name": "stdout",
          "text": [
            "932/932 [==============================] - 4s 4ms/step\n"
          ]
        }
      ]
    },
    {
      "cell_type": "code",
      "source": [
        "# Performance report\n",
        "print(\"Performance with Tuned Hyperparameters:\")\n",
        "print(f\"Accuracy: {accuracy_score(y_test_labels, y_pred_labels)}\")\n",
        "print(\"Classification Report:\")\n",
        "print(classification_report(y_test_labels, y_pred_labels))\n",
        "print(\"Confusion Matrix:\")\n",
        "print(confusion_matrix(y_test_labels, y_pred_labels))"
      ],
      "metadata": {
        "colab": {
          "base_uri": "https://localhost:8080/"
        },
        "id": "aGDpUkTuKpBa",
        "outputId": "96b4d90d-dc28-4202-bffd-a57b3637abc0"
      },
      "execution_count": 23,
      "outputs": [
        {
          "output_type": "stream",
          "name": "stdout",
          "text": [
            "Performance with Tuned Hyperparameters:\n",
            "Accuracy: 0.7437273581108279\n",
            "Classification Report:\n",
            "              precision    recall  f1-score   support\n",
            "\n",
            "          FB       0.85      0.87      0.86      5996\n",
            "       Insta       0.89      1.00      0.94      5951\n",
            "      Reddit       0.72      0.26      0.39      5955\n",
            "      TikTok       0.52      0.75      0.61      5955\n",
            "           X       0.79      0.84      0.82      5955\n",
            "\n",
            "    accuracy                           0.74     29812\n",
            "   macro avg       0.76      0.74      0.72     29812\n",
            "weighted avg       0.76      0.74      0.72     29812\n",
            "\n",
            "Confusion Matrix:\n",
            "[[5207  710    3    5   71]\n",
            " [   7 5939    0    5    0]\n",
            " [   3    6 1573 4055  318]\n",
            " [   0    0  600 4438  917]\n",
            " [ 878   48    1   13 5015]]\n"
          ]
        }
      ]
    },
    {
      "cell_type": "code",
      "source": [
        "# Plot the feature importances\n",
        "tf.keras.utils.plot_model(best_model, to_file='best_lstm_model.png', show_shapes=True, show_layer_names=True)\n",
        "\n",
        "# Plot training history\n",
        "plt.plot(history.history['accuracy'], label='accuracy')\n",
        "plt.plot(history.history['val_accuracy'], label = 'val_accuracy')\n",
        "plt.xlabel('Epoch')\n",
        "plt.ylabel('Accuracy')\n",
        "plt.ylim([0, 1])\n",
        "plt.legend(loc='lower right')\n",
        "plt.show()"
      ],
      "metadata": {
        "colab": {
          "base_uri": "https://localhost:8080/",
          "height": 455
        },
        "id": "uRcYnYwiKrtH",
        "outputId": "10ef5ecd-aeb9-438a-8c20-6b80a082097c"
      },
      "execution_count": 24,
      "outputs": [
        {
          "output_type": "display_data",
          "data": {
            "text/plain": [
              "<Figure size 640x480 with 1 Axes>"
            ],
            "image/png": "[encoded data removed]"
          },
          "metadata": {}
        }
      ]
    },
    {
      "cell_type": "markdown",
      "source": [
        "update architecture"
      ],
      "metadata": {
        "id": "RNp2Caizm0sG"
      }
    },
    {
      "cell_type": "code",
      "source": [
        "from tensorflow.keras.layers import Bidirectional, BatchNormalization\n",
        "from tensorflow.keras.callbacks import EarlyStopping"
      ],
      "metadata": {
        "id": "2uPjEzxKm5zy"
      },
      "execution_count": 25,
      "outputs": []
    },
    {
      "cell_type": "code",
      "source": [
        "# update architecture\n",
        "def create_model_v1(trial):\n",
        "    model = Sequential()\n",
        "    model.add(Bidirectional(LSTM(units=trial.suggest_int('units_1', 32, 128), return_sequences=True), input_shape=(X_train.shape[1], X_train.shape[2])))\n",
        "    model.add(BatchNormalization())\n",
        "    model.add(Dropout(trial.suggest_float('dropout_1', 0.2, 0.5)))\n",
        "    model.add(Bidirectional(LSTM(units=trial.suggest_int('units_2', 16, 64), return_sequences=True)))\n",
        "    model.add(BatchNormalization())\n",
        "    model.add(Dropout(trial.suggest_float('dropout_2', 0.2, 0.5)))\n",
        "    model.add(Bidirectional(LSTM(units=trial.suggest_int('units_3', 16, 64))))\n",
        "    model.add(BatchNormalization())\n",
        "    model.add(Dropout(trial.suggest_float('dropout_3', 0.2, 0.5)))\n",
        "    model.add(Dense(units=trial.suggest_int('dense_units', 32, 128), activation='relu'))\n",
        "    model.add(Dense(units=len(label_encoder.classes_), activation='softmax'))\n",
        "\n",
        "    model.compile(optimizer=Adam(learning_rate=trial.suggest_float('learning rate', 1e-4, 1e-2)),\n",
        "                  loss='sparse_categorical_crossentropy',\n",
        "                  metrics=['accuracy'])\n",
        "    return model\n"
      ],
      "metadata": {
        "id": "WITMmuiTm21g"
      },
      "execution_count": 26,
      "outputs": []
    },
    {
      "cell_type": "code",
      "source": [
        "# Define the objective function for Optuna\n",
        "def objective(trial):\n",
        "    model = create_model(trial)\n",
        "    early_stopping = EarlyStopping(monitor='val_loss', patience=5, restore_best_weights=True)\n",
        "    history = model.fit(X_train, y_train_encoded, validation_data=(X_test, y_test_encoded),\n",
        "                        epochs=50, batch_size=trial.suggest_int('batch_size', 32, 128),\n",
        "                        verbose=0, callbacks=[early_stopping])\n",
        "\n",
        "    y_pred_prob = model.predict(X_test)\n",
        "    y_pred = np.argmax(y_pred_prob, axis=1)\n",
        "    accuracy = accuracy_score(y_test_encoded, y_pred)\n",
        "\n",
        "    return accuracy"
      ],
      "metadata": {
        "id": "mAowMgSrno9o"
      },
      "execution_count": 27,
      "outputs": []
    },
    {
      "cell_type": "code",
      "source": [
        "# Create a study and optimize the objective function\n",
        "study = optuna.create_study(direction='maximize')\n",
        "study.optimize(objective, n_trials=50)"
      ],
      "metadata": {
        "colab": {
          "base_uri": "https://localhost:8080/"
        },
        "id": "9I9c1igdnsOn",
        "outputId": "3a039a36-68f4-49d1-afa3-774edb3d91af"
      },
      "execution_count": 28,
      "outputs": [
        {
          "output_type": "stream",
          "name": "stderr",
          "text": [
            "[I 2024-06-21 18:22:15,540] A new study created in memory with name: no-name-b2d708b0-dfc2-4582-b2d8-1f2845a68bcb\n"
          ]
        },
        {
          "output_type": "stream",
          "name": "stdout",
          "text": [
            "932/932 [==============================] - 4s 4ms/step\n"
          ]
        },
        {
          "output_type": "stream",
          "name": "stderr",
          "text": [
            "[I 2024-06-21 18:24:25,406] Trial 0 finished with value: 0.8398295988192674 and parameters: {'units_1': 87, 'dropout_1': 0.33692866819002243, 'units_2': 23, 'dropout_2': 0.3916541832003477, 'dense_units': 83, 'learning_rate': 0.005758000047761582, 'batch_size': 99}. Best is trial 0 with value: 0.8398295988192674.\n"
          ]
        },
        {
          "output_type": "stream",
          "name": "stdout",
          "text": [
            "932/932 [==============================] - 4s 4ms/step\n"
          ]
        },
        {
          "output_type": "stream",
          "name": "stderr",
          "text": [
            "[I 2024-06-21 18:26:26,742] Trial 1 finished with value: 0.8004159398899772 and parameters: {'units_1': 43, 'dropout_1': 0.4795173418279716, 'units_2': 33, 'dropout_2': 0.3013294105184401, 'dense_units': 109, 'learning_rate': 0.004800354722225288, 'batch_size': 124}. Best is trial 0 with value: 0.8398295988192674.\n"
          ]
        },
        {
          "output_type": "stream",
          "name": "stdout",
          "text": [
            "932/932 [==============================] - 4s 4ms/step\n"
          ]
        },
        {
          "output_type": "stream",
          "name": "stderr",
          "text": [
            "[I 2024-06-21 18:30:04,619] Trial 2 finished with value: 0.7948812558701194 and parameters: {'units_1': 116, 'dropout_1': 0.2169287892871622, 'units_2': 20, 'dropout_2': 0.29118709833055817, 'dense_units': 37, 'learning_rate': 0.003926484261235366, 'batch_size': 64}. Best is trial 0 with value: 0.8398295988192674.\n"
          ]
        },
        {
          "output_type": "stream",
          "name": "stdout",
          "text": [
            "932/932 [==============================] - 4s 4ms/step\n"
          ]
        },
        {
          "output_type": "stream",
          "name": "stderr",
          "text": [
            "[I 2024-06-21 18:33:13,459] Trial 3 finished with value: 0.6538977592915605 and parameters: {'units_1': 93, 'dropout_1': 0.4885702059529476, 'units_2': 60, 'dropout_2': 0.20776144726792536, 'dense_units': 128, 'learning_rate': 0.00014228000275172167, 'batch_size': 101}. Best is trial 0 with value: 0.8398295988192674.\n"
          ]
        },
        {
          "output_type": "stream",
          "name": "stdout",
          "text": [
            "932/932 [==============================] - 4s 4ms/step\n"
          ]
        },
        {
          "output_type": "stream",
          "name": "stderr",
          "text": [
            "[I 2024-06-21 18:35:12,656] Trial 4 finished with value: 0.7542264859788005 and parameters: {'units_1': 102, 'dropout_1': 0.47297357296754505, 'units_2': 17, 'dropout_2': 0.3071323939622294, 'dense_units': 50, 'learning_rate': 0.0016049025127158802, 'batch_size': 116}. Best is trial 0 with value: 0.8398295988192674.\n"
          ]
        },
        {
          "output_type": "stream",
          "name": "stdout",
          "text": [
            "932/932 [==============================] - 4s 4ms/step\n"
          ]
        },
        {
          "output_type": "stream",
          "name": "stderr",
          "text": [
            "[I 2024-06-21 18:38:07,509] Trial 5 finished with value: 0.7072319871192808 and parameters: {'units_1': 44, 'dropout_1': 0.4157642577438277, 'units_2': 60, 'dropout_2': 0.43722091076686387, 'dense_units': 53, 'learning_rate': 0.00500704839268762, 'batch_size': 111}. Best is trial 0 with value: 0.8398295988192674.\n"
          ]
        },
        {
          "output_type": "stream",
          "name": "stdout",
          "text": [
            "932/932 [==============================] - 4s 4ms/step\n"
          ]
        },
        {
          "output_type": "stream",
          "name": "stderr",
          "text": [
            "[I 2024-06-21 18:44:23,861] Trial 6 finished with value: 0.8016570508520059 and parameters: {'units_1': 74, 'dropout_1': 0.2249490050750475, 'units_2': 48, 'dropout_2': 0.32935959672058057, 'dense_units': 34, 'learning_rate': 0.0038197390333457593, 'batch_size': 57}. Best is trial 0 with value: 0.8398295988192674.\n"
          ]
        },
        {
          "output_type": "stream",
          "name": "stdout",
          "text": [
            "932/932 [==============================] - 4s 4ms/step\n"
          ]
        },
        {
          "output_type": "stream",
          "name": "stderr",
          "text": [
            "[I 2024-06-21 18:46:37,107] Trial 7 finished with value: 0.792633838722662 and parameters: {'units_1': 44, 'dropout_1': 0.23025262668187013, 'units_2': 52, 'dropout_2': 0.28760653466045394, 'dense_units': 33, 'learning_rate': 0.009417236603593377, 'batch_size': 72}. Best is trial 0 with value: 0.8398295988192674.\n"
          ]
        },
        {
          "output_type": "stream",
          "name": "stdout",
          "text": [
            "932/932 [==============================] - 4s 4ms/step\n"
          ]
        },
        {
          "output_type": "stream",
          "name": "stderr",
          "text": [
            "[I 2024-06-21 18:49:26,049] Trial 8 finished with value: 0.7697571447739165 and parameters: {'units_1': 42, 'dropout_1': 0.3761871271229969, 'units_2': 64, 'dropout_2': 0.48345068169456473, 'dense_units': 97, 'learning_rate': 0.004587088913423679, 'batch_size': 94}. Best is trial 0 with value: 0.8398295988192674.\n"
          ]
        },
        {
          "output_type": "stream",
          "name": "stdout",
          "text": [
            "932/932 [==============================] - 4s 4ms/step\n"
          ]
        },
        {
          "output_type": "stream",
          "name": "stderr",
          "text": [
            "[I 2024-06-21 18:50:54,692] Trial 9 finished with value: 0.6528243660271031 and parameters: {'units_1': 45, 'dropout_1': 0.37779178206450836, 'units_2': 26, 'dropout_2': 0.45809501205529, 'dense_units': 47, 'learning_rate': 0.0010879479989018112, 'batch_size': 94}. Best is trial 0 with value: 0.8398295988192674.\n"
          ]
        },
        {
          "output_type": "stream",
          "name": "stdout",
          "text": [
            "932/932 [==============================] - 4s 4ms/step\n"
          ]
        },
        {
          "output_type": "stream",
          "name": "stderr",
          "text": [
            "[I 2024-06-21 19:03:09,159] Trial 10 finished with value: 0.6637595599087616 and parameters: {'units_1': 71, 'dropout_1': 0.30526701618296637, 'units_2': 37, 'dropout_2': 0.40415013433363334, 'dense_units': 72, 'learning_rate': 0.007958822876978489, 'batch_size': 32}. Best is trial 0 with value: 0.8398295988192674.\n"
          ]
        },
        {
          "output_type": "stream",
          "name": "stdout",
          "text": [
            "932/932 [==============================] - 4s 4ms/step\n"
          ]
        },
        {
          "output_type": "stream",
          "name": "stderr",
          "text": [
            "[I 2024-06-21 19:08:39,692] Trial 11 finished with value: 0.7690191869046021 and parameters: {'units_1': 72, 'dropout_1': 0.28955072342763943, 'units_2': 47, 'dropout_2': 0.3758149455755521, 'dense_units': 76, 'learning_rate': 0.007011904902313727, 'batch_size': 51}. Best is trial 0 with value: 0.8398295988192674.\n"
          ]
        },
        {
          "output_type": "stream",
          "name": "stdout",
          "text": [
            "932/932 [==============================] - 4s 4ms/step\n"
          ]
        },
        {
          "output_type": "stream",
          "name": "stderr",
          "text": [
            "[I 2024-06-21 19:12:17,736] Trial 12 finished with value: 0.7851871729504898 and parameters: {'units_1': 86, 'dropout_1': 0.28386216369662753, 'units_2': 47, 'dropout_2': 0.34193789494736926, 'dense_units': 90, 'learning_rate': 0.0031994186288703402, 'batch_size': 54}. Best is trial 0 with value: 0.8398295988192674.\n"
          ]
        },
        {
          "output_type": "stream",
          "name": "stdout",
          "text": [
            "932/932 [==============================] - 4s 4ms/step\n"
          ]
        },
        {
          "output_type": "stream",
          "name": "stderr",
          "text": [
            "[I 2024-06-21 19:14:13,141] Trial 13 finished with value: 0.733664296256541 and parameters: {'units_1': 64, 'dropout_1': 0.2609482276296274, 'units_2': 28, 'dropout_2': 0.3621174518200527, 'dense_units': 66, 'learning_rate': 0.006243441869524255, 'batch_size': 81}. Best is trial 0 with value: 0.8398295988192674.\n"
          ]
        },
        {
          "output_type": "stream",
          "name": "stdout",
          "text": [
            "932/932 [==============================] - 4s 4ms/step\n"
          ]
        },
        {
          "output_type": "stream",
          "name": "stderr",
          "text": [
            "[I 2024-06-21 19:20:01,984] Trial 14 finished with value: 0.7572118609955723 and parameters: {'units_1': 108, 'dropout_1': 0.32130590299844397, 'units_2': 42, 'dropout_2': 0.22841710534379617, 'dense_units': 93, 'learning_rate': 0.00258307116515083, 'batch_size': 37}. Best is trial 0 with value: 0.8398295988192674.\n"
          ]
        },
        {
          "output_type": "stream",
          "name": "stdout",
          "text": [
            "932/932 [==============================] - 4s 4ms/step\n"
          ]
        },
        {
          "output_type": "stream",
          "name": "stderr",
          "text": [
            "[I 2024-06-21 19:22:13,668] Trial 15 finished with value: 0.780122098483832 and parameters: {'units_1': 61, 'dropout_1': 0.349214599543651, 'units_2': 52, 'dropout_2': 0.3982371537850617, 'dense_units': 61, 'learning_rate': 0.0060826255598961316, 'batch_size': 82}. Best is trial 0 with value: 0.8398295988192674.\n"
          ]
        },
        {
          "output_type": "stream",
          "name": "stdout",
          "text": [
            "932/932 [==============================] - 4s 4ms/step\n"
          ]
        },
        {
          "output_type": "stream",
          "name": "stderr",
          "text": [
            "[I 2024-06-21 19:28:08,157] Trial 16 finished with value: 0.6995505165705085 and parameters: {'units_1': 90, 'dropout_1': 0.2003207186038187, 'units_2': 32, 'dropout_2': 0.3351163345570506, 'dense_units': 82, 'learning_rate': 0.008154689327654516, 'batch_size': 54}. Best is trial 0 with value: 0.8398295988192674.\n"
          ]
        },
        {
          "output_type": "stream",
          "name": "stdout",
          "text": [
            "932/932 [==============================] - 4s 4ms/step\n"
          ]
        },
        {
          "output_type": "stream",
          "name": "stderr",
          "text": [
            "[I 2024-06-21 19:30:37,807] Trial 17 finished with value: 0.7633838722662015 and parameters: {'units_1': 125, 'dropout_1': 0.43475513910768065, 'units_2': 24, 'dropout_2': 0.2554160198975539, 'dense_units': 116, 'learning_rate': 0.0030856800738257527, 'batch_size': 63}. Best is trial 0 with value: 0.8398295988192674.\n"
          ]
        },
        {
          "output_type": "stream",
          "name": "stdout",
          "text": [
            "932/932 [==============================] - 4s 4ms/step\n"
          ]
        },
        {
          "output_type": "stream",
          "name": "stderr",
          "text": [
            "[I 2024-06-21 19:32:26,178] Trial 18 finished with value: 0.8043069904736347 and parameters: {'units_1': 79, 'dropout_1': 0.24900022718909687, 'units_2': 41, 'dropout_2': 0.417892786056438, 'dense_units': 105, 'learning_rate': 0.006201255621487925, 'batch_size': 90}. Best is trial 0 with value: 0.8398295988192674.\n"
          ]
        },
        {
          "output_type": "stream",
          "name": "stdout",
          "text": [
            "932/932 [==============================] - 4s 4ms/step\n"
          ]
        },
        {
          "output_type": "stream",
          "name": "stderr",
          "text": [
            "[I 2024-06-21 19:33:50,649] Trial 19 finished with value: 0.7915604454582047 and parameters: {'units_1': 99, 'dropout_1': 0.25030272625335304, 'units_2': 39, 'dropout_2': 0.42582550316069373, 'dense_units': 105, 'learning_rate': 0.009712096874389493, 'batch_size': 103}. Best is trial 0 with value: 0.8398295988192674.\n"
          ]
        },
        {
          "output_type": "stream",
          "name": "stdout",
          "text": [
            "932/932 [==============================] - 4s 4ms/step\n"
          ]
        },
        {
          "output_type": "stream",
          "name": "stderr",
          "text": [
            "[I 2024-06-21 19:35:40,062] Trial 20 finished with value: 0.8200053669663223 and parameters: {'units_1': 82, 'dropout_1': 0.3353831943177196, 'units_2': 33, 'dropout_2': 0.496372077724698, 'dense_units': 122, 'learning_rate': 0.005981822968187538, 'batch_size': 89}. Best is trial 0 with value: 0.8398295988192674.\n"
          ]
        },
        {
          "output_type": "stream",
          "name": "stdout",
          "text": [
            "932/932 [==============================] - 4s 4ms/step\n"
          ]
        },
        {
          "output_type": "stream",
          "name": "stderr",
          "text": [
            "[I 2024-06-21 19:38:21,964] Trial 21 finished with value: 0.7938749496846907 and parameters: {'units_1': 81, 'dropout_1': 0.33546294399316384, 'units_2': 32, 'dropout_2': 0.4908461756961333, 'dense_units': 128, 'learning_rate': 0.006055541148380592, 'batch_size': 89}. Best is trial 0 with value: 0.8398295988192674.\n"
          ]
        },
        {
          "output_type": "stream",
          "name": "stdout",
          "text": [
            "932/932 [==============================] - 4s 4ms/step\n"
          ]
        },
        {
          "output_type": "stream",
          "name": "stderr",
          "text": [
            "[I 2024-06-21 19:40:09,122] Trial 22 finished with value: 0.8019589427076345 and parameters: {'units_1': 61, 'dropout_1': 0.3824521405067302, 'units_2': 22, 'dropout_2': 0.446245860782882, 'dense_units': 118, 'learning_rate': 0.007045623667839505, 'batch_size': 105}. Best is trial 0 with value: 0.8398295988192674.\n"
          ]
        },
        {
          "output_type": "stream",
          "name": "stdout",
          "text": [
            "932/932 [==============================] - 4s 4ms/step\n"
          ]
        },
        {
          "output_type": "stream",
          "name": "stderr",
          "text": [
            "[I 2024-06-21 19:42:00,496] Trial 23 finished with value: 0.771434321749631 and parameters: {'units_1': 84, 'dropout_1': 0.2741256066175917, 'units_2': 29, 'dropout_2': 0.40380548819747636, 'dense_units': 104, 'learning_rate': 0.006981347125919232, 'batch_size': 88}. Best is trial 0 with value: 0.8398295988192674.\n"
          ]
        },
        {
          "output_type": "stream",
          "name": "stdout",
          "text": [
            "932/932 [==============================] - 4s 4ms/step\n"
          ]
        },
        {
          "output_type": "stream",
          "name": "stderr",
          "text": [
            "[I 2024-06-21 19:44:15,115] Trial 24 finished with value: 0.7953508654233195 and parameters: {'units_1': 97, 'dropout_1': 0.3201196303532432, 'units_2': 35, 'dropout_2': 0.46845758976973245, 'dense_units': 118, 'learning_rate': 0.00563268302558636, 'batch_size': 73}. Best is trial 0 with value: 0.8398295988192674.\n"
          ]
        },
        {
          "output_type": "stream",
          "name": "stdout",
          "text": [
            "932/932 [==============================] - 4s 4ms/step\n"
          ]
        },
        {
          "output_type": "stream",
          "name": "stderr",
          "text": [
            "[I 2024-06-21 19:46:52,300] Trial 25 finished with value: 0.7973634777941768 and parameters: {'units_1': 75, 'dropout_1': 0.4100430917636951, 'units_2': 42, 'dropout_2': 0.37273863783060396, 'dense_units': 83, 'learning_rate': 0.00781411664396929, 'batch_size': 96}. Best is trial 0 with value: 0.8398295988192674.\n"
          ]
        },
        {
          "output_type": "stream",
          "name": "stdout",
          "text": [
            "932/932 [==============================] - 4s 4ms/step\n"
          ]
        },
        {
          "output_type": "stream",
          "name": "stderr",
          "text": [
            "[I 2024-06-21 19:49:00,436] Trial 26 finished with value: 0.7900174426405474 and parameters: {'units_1': 53, 'dropout_1': 0.3601137937199276, 'units_2': 16, 'dropout_2': 0.49678801128067906, 'dense_units': 99, 'learning_rate': 0.005408899735312243, 'batch_size': 113}. Best is trial 0 with value: 0.8398295988192674.\n"
          ]
        },
        {
          "output_type": "stream",
          "name": "stdout",
          "text": [
            "932/932 [==============================] - 4s 4ms/step\n"
          ]
        },
        {
          "output_type": "stream",
          "name": "stderr",
          "text": [
            "[I 2024-06-21 19:50:11,411] Trial 27 finished with value: 0.6987790151616798 and parameters: {'units_1': 106, 'dropout_1': 0.29983628810397767, 'units_2': 30, 'dropout_2': 0.4232091931225391, 'dense_units': 111, 'learning_rate': 0.008642725986714991, 'batch_size': 127}. Best is trial 0 with value: 0.8398295988192674.\n"
          ]
        },
        {
          "output_type": "stream",
          "name": "stdout",
          "text": [
            "932/932 [==============================] - 4s 4ms/step\n"
          ]
        },
        {
          "output_type": "stream",
          "name": "stderr",
          "text": [
            "[I 2024-06-21 19:53:25,278] Trial 28 finished with value: 0.7856903260432041 and parameters: {'units_1': 89, 'dropout_1': 0.256626522447796, 'units_2': 38, 'dropout_2': 0.3911714575784502, 'dense_units': 89, 'learning_rate': 0.00669552160589632, 'batch_size': 76}. Best is trial 0 with value: 0.8398295988192674.\n"
          ]
        },
        {
          "output_type": "stream",
          "name": "stdout",
          "text": [
            "932/932 [==============================] - 4s 4ms/step\n"
          ]
        },
        {
          "output_type": "stream",
          "name": "stderr",
          "text": [
            "[I 2024-06-21 19:55:00,015] Trial 29 finished with value: 0.7655642023346303 and parameters: {'units_1': 68, 'dropout_1': 0.3430742319623524, 'units_2': 35, 'dropout_2': 0.4681593606015975, 'dense_units': 111, 'learning_rate': 0.004304204420514259, 'batch_size': 118}. Best is trial 0 with value: 0.8398295988192674.\n"
          ]
        },
        {
          "output_type": "stream",
          "name": "stdout",
          "text": [
            "932/932 [==============================] - 4s 4ms/step\n"
          ]
        },
        {
          "output_type": "stream",
          "name": "stderr",
          "text": [
            "[I 2024-06-21 19:56:35,350] Trial 30 finished with value: 0.8011538977592916 and parameters: {'units_1': 79, 'dropout_1': 0.44663733416944096, 'units_2': 20, 'dropout_2': 0.4220023477617422, 'dense_units': 122, 'learning_rate': 0.005553874601468683, 'batch_size': 89}. Best is trial 0 with value: 0.8398295988192674.\n"
          ]
        },
        {
          "output_type": "stream",
          "name": "stdout",
          "text": [
            "932/932 [==============================] - 4s 4ms/step\n"
          ]
        },
        {
          "output_type": "stream",
          "name": "stderr",
          "text": [
            "[I 2024-06-21 19:59:05,600] Trial 31 finished with value: 0.7868978934657185 and parameters: {'units_1': 59, 'dropout_1': 0.38067004017625267, 'units_2': 23, 'dropout_2': 0.4538345263565461, 'dense_units': 119, 'learning_rate': 0.007226690125641911, 'batch_size': 105}. Best is trial 0 with value: 0.8398295988192674.\n"
          ]
        },
        {
          "output_type": "stream",
          "name": "stdout",
          "text": [
            "932/932 [==============================] - 4s 4ms/step\n"
          ]
        },
        {
          "output_type": "stream",
          "name": "stderr",
          "text": [
            "[I 2024-06-21 20:00:25,070] Trial 32 finished with value: 0.7797195760096606 and parameters: {'units_1': 32, 'dropout_1': 0.39882521939202104, 'units_2': 21, 'dropout_2': 0.4403202028523189, 'dense_units': 109, 'learning_rate': 0.007456792879242059, 'batch_size': 104}. Best is trial 0 with value: 0.8398295988192674.\n"
          ]
        },
        {
          "output_type": "stream",
          "name": "stdout",
          "text": [
            "932/932 [==============================] - 4s 4ms/step\n"
          ]
        },
        {
          "output_type": "stream",
          "name": "stderr",
          "text": [
            "[I 2024-06-21 20:02:26,760] Trial 33 finished with value: 0.7856232389641755 and parameters: {'units_1': 55, 'dropout_1': 0.35974889509586394, 'units_2': 25, 'dropout_2': 0.47517847809780633, 'dense_units': 123, 'learning_rate': 0.006571928359528621, 'batch_size': 109}. Best is trial 0 with value: 0.8398295988192674.\n"
          ]
        },
        {
          "output_type": "stream",
          "name": "stdout",
          "text": [
            "932/932 [==============================] - 4s 4ms/step\n"
          ]
        },
        {
          "output_type": "stream",
          "name": "stderr",
          "text": [
            "[I 2024-06-21 20:03:57,904] Trial 34 finished with value: 0.7294713538172548 and parameters: {'units_1': 78, 'dropout_1': 0.31499262036733533, 'units_2': 19, 'dropout_2': 0.4538372881751247, 'dense_units': 101, 'learning_rate': 0.00870455023638144, 'batch_size': 98}. Best is trial 0 with value: 0.8398295988192674.\n"
          ]
        },
        {
          "output_type": "stream",
          "name": "stdout",
          "text": [
            "932/932 [==============================] - 4s 4ms/step\n"
          ]
        },
        {
          "output_type": "stream",
          "name": "stderr",
          "text": [
            "[I 2024-06-21 20:05:21,555] Trial 35 finished with value: 0.8178585804374078 and parameters: {'units_1': 93, 'dropout_1': 0.47138961479202135, 'units_2': 42, 'dropout_2': 0.4383083576533884, 'dense_units': 114, 'learning_rate': 0.005129786440027268, 'batch_size': 122}. Best is trial 0 with value: 0.8398295988192674.\n"
          ]
        },
        {
          "output_type": "stream",
          "name": "stdout",
          "text": [
            "932/932 [==============================] - 4s 4ms/step\n"
          ]
        },
        {
          "output_type": "stream",
          "name": "stderr",
          "text": [
            "[I 2024-06-21 20:06:45,755] Trial 36 finished with value: 0.7621763048436871 and parameters: {'units_1': 93, 'dropout_1': 0.46464630620161795, 'units_2': 41, 'dropout_2': 0.4277641751251301, 'dense_units': 128, 'learning_rate': 0.005097009366973577, 'batch_size': 120}. Best is trial 0 with value: 0.8398295988192674.\n"
          ]
        },
        {
          "output_type": "stream",
          "name": "stdout",
          "text": [
            "932/932 [==============================] - 4s 4ms/step\n"
          ]
        },
        {
          "output_type": "stream",
          "name": "stderr",
          "text": [
            "[I 2024-06-21 20:08:01,973] Trial 37 finished with value: 0.8161814034616933 and parameters: {'units_1': 117, 'dropout_1': 0.23839264664350618, 'units_2': 46, 'dropout_2': 0.3838328625851009, 'dense_units': 111, 'learning_rate': 0.004203995929168056, 'batch_size': 124}. Best is trial 0 with value: 0.8398295988192674.\n"
          ]
        },
        {
          "output_type": "stream",
          "name": "stdout",
          "text": [
            "932/932 [==============================] - 4s 4ms/step\n"
          ]
        },
        {
          "output_type": "stream",
          "name": "stderr",
          "text": [
            "[I 2024-06-21 20:10:49,222] Trial 38 finished with value: 0.7829732993425467 and parameters: {'units_1': 119, 'dropout_1': 0.43947178478887317, 'units_2': 44, 'dropout_2': 0.3815606425338824, 'dense_units': 114, 'learning_rate': 0.004083593251509083, 'batch_size': 122}. Best is trial 0 with value: 0.8398295988192674.\n"
          ]
        },
        {
          "output_type": "stream",
          "name": "stdout",
          "text": [
            "932/932 [==============================] - 4s 4ms/step\n"
          ]
        },
        {
          "output_type": "stream",
          "name": "stderr",
          "text": [
            "[I 2024-06-21 20:14:19,260] Trial 39 finished with value: 0.8137662686166645 and parameters: {'units_1': 112, 'dropout_1': 0.47413017061891866, 'units_2': 44, 'dropout_2': 0.314761565578683, 'dense_units': 94, 'learning_rate': 0.004716804935706596, 'batch_size': 127}. Best is trial 0 with value: 0.8398295988192674.\n"
          ]
        },
        {
          "output_type": "stream",
          "name": "stdout",
          "text": [
            "932/932 [==============================] - 4s 4ms/step\n"
          ]
        },
        {
          "output_type": "stream",
          "name": "stderr",
          "text": [
            "[I 2024-06-21 20:15:42,097] Trial 40 finished with value: 0.7705286461827452 and parameters: {'units_1': 125, 'dropout_1': 0.4957968228469983, 'units_2': 52, 'dropout_2': 0.3671501905259121, 'dense_units': 123, 'learning_rate': 0.0036743780503075245, 'batch_size': 114}. Best is trial 0 with value: 0.8398295988192674.\n"
          ]
        },
        {
          "output_type": "stream",
          "name": "stdout",
          "text": [
            "932/932 [==============================] - 4s 4ms/step\n"
          ]
        },
        {
          "output_type": "stream",
          "name": "stderr",
          "text": [
            "[I 2024-06-21 20:17:11,003] Trial 41 finished with value: 0.7847846504763183 and parameters: {'units_1': 113, 'dropout_1': 0.4623103953256153, 'units_2': 49, 'dropout_2': 0.2919006559004468, 'dense_units': 95, 'learning_rate': 0.004749829493419069, 'batch_size': 124}. Best is trial 0 with value: 0.8398295988192674.\n"
          ]
        },
        {
          "output_type": "stream",
          "name": "stdout",
          "text": [
            "932/932 [==============================] - 4s 4ms/step\n"
          ]
        },
        {
          "output_type": "stream",
          "name": "stderr",
          "text": [
            "[I 2024-06-21 20:18:25,842] Trial 42 finished with value: 0.7267543271165974 and parameters: {'units_1': 119, 'dropout_1': 0.47151085917626145, 'units_2': 45, 'dropout_2': 0.31839878008422506, 'dense_units': 88, 'learning_rate': 0.0050740203860355415, 'batch_size': 128}. Best is trial 0 with value: 0.8398295988192674.\n"
          ]
        },
        {
          "output_type": "stream",
          "name": "stdout",
          "text": [
            "932/932 [==============================] - 4s 4ms/step\n"
          ]
        },
        {
          "output_type": "stream",
          "name": "stderr",
          "text": [
            "[I 2024-06-21 20:20:09,897] Trial 43 finished with value: 0.8087011941500067 and parameters: {'units_1': 106, 'dropout_1': 0.4841779649536535, 'units_2': 50, 'dropout_2': 0.34788743040802295, 'dense_units': 75, 'learning_rate': 0.004620575795580354, 'batch_size': 110}. Best is trial 0 with value: 0.8398295988192674.\n"
          ]
        },
        {
          "output_type": "stream",
          "name": "stdout",
          "text": [
            "932/932 [==============================] - 4s 4ms/step\n"
          ]
        },
        {
          "output_type": "stream",
          "name": "stderr",
          "text": [
            "[I 2024-06-21 20:22:16,226] Trial 44 finished with value: 0.832013954112438 and parameters: {'units_1': 111, 'dropout_1': 0.45672484265798086, 'units_2': 54, 'dropout_2': 0.2760098373730812, 'dense_units': 108, 'learning_rate': 0.003458395554678175, 'batch_size': 117}. Best is trial 0 with value: 0.8398295988192674.\n"
          ]
        },
        {
          "output_type": "stream",
          "name": "stdout",
          "text": [
            "932/932 [==============================] - 4s 4ms/step\n"
          ]
        },
        {
          "output_type": "stream",
          "name": "stderr",
          "text": [
            "[I 2024-06-21 20:24:57,676] Trial 45 finished with value: 0.7610693680397156 and parameters: {'units_1': 100, 'dropout_1': 0.4249695922132243, 'units_2': 57, 'dropout_2': 0.26796470361752595, 'dense_units': 110, 'learning_rate': 0.0024799492235353425, 'batch_size': 117}. Best is trial 0 with value: 0.8398295988192674.\n"
          ]
        },
        {
          "output_type": "stream",
          "name": "stdout",
          "text": [
            "932/932 [==============================] - 4s 4ms/step\n"
          ]
        },
        {
          "output_type": "stream",
          "name": "stderr",
          "text": [
            "[I 2024-06-21 20:27:10,001] Trial 46 finished with value: 0.8091708037032067 and parameters: {'units_1': 94, 'dropout_1': 0.39421503410635317, 'units_2': 60, 'dropout_2': 0.35635171729984766, 'dense_units': 107, 'learning_rate': 0.003610413132799974, 'batch_size': 99}. Best is trial 0 with value: 0.8398295988192674.\n"
          ]
        },
        {
          "output_type": "stream",
          "name": "stdout",
          "text": [
            "932/932 [==============================] - 4s 4ms/step\n"
          ]
        },
        {
          "output_type": "stream",
          "name": "stderr",
          "text": [
            "[I 2024-06-21 20:29:29,504] Trial 47 finished with value: 0.7813632094458607 and parameters: {'units_1': 128, 'dropout_1': 0.4546933100174056, 'units_2': 56, 'dropout_2': 0.2060510491700174, 'dense_units': 40, 'learning_rate': 0.0022753925097898555, 'batch_size': 109}. Best is trial 0 with value: 0.8398295988192674.\n"
          ]
        },
        {
          "output_type": "stream",
          "name": "stdout",
          "text": [
            "932/932 [==============================] - 4s 4ms/step\n"
          ]
        },
        {
          "output_type": "stream",
          "name": "stderr",
          "text": [
            "[I 2024-06-21 20:31:50,099] Trial 48 finished with value: 0.852173621360526 and parameters: {'units_1': 103, 'dropout_1': 0.22533842840317808, 'units_2': 55, 'dropout_2': 0.22651653925108772, 'dense_units': 61, 'learning_rate': 0.0019277191666681854, 'batch_size': 84}. Best is trial 48 with value: 0.852173621360526.\n"
          ]
        },
        {
          "output_type": "stream",
          "name": "stdout",
          "text": [
            "932/932 [==============================] - 4s 4ms/step\n"
          ]
        },
        {
          "output_type": "stream",
          "name": "stderr",
          "text": [
            "[I 2024-06-21 20:33:39,195] Trial 49 finished with value: 0.6499396216288743 and parameters: {'units_1': 85, 'dropout_1': 0.20530487134000736, 'units_2': 55, 'dropout_2': 0.2502141417384582, 'dense_units': 56, 'learning_rate': 0.000723763646597528, 'batch_size': 82}. Best is trial 48 with value: 0.852173621360526.\n"
          ]
        }
      ]
    },
    {
      "cell_type": "code",
      "source": [
        "# Print best hyperparameters\n",
        "print('Best hyperparameters:', study.best_params)\n",
        "\n",
        "# Visualize the optimization history\n",
        "optuna.visualization.plot_optimization_history(study)\n",
        "plt.show()\n",
        "\n",
        "# Visualize the hyperparameter importance\n",
        "optuna.visualization.plot_param_importances(study)\n",
        "plt.show()"
      ],
      "metadata": {
        "colab": {
          "base_uri": "https://localhost:8080/"
        },
        "id": "wMSGEXpMn-we",
        "outputId": "e0c69c91-3b6c-4f73-9fab-06671b51c962"
      },
      "execution_count": 29,
      "outputs": [
        {
          "output_type": "stream",
          "name": "stdout",
          "text": [
            "Best hyperparameters: {'units_1': 103, 'dropout_1': 0.22533842840317808, 'units_2': 55, 'dropout_2': 0.22651653925108772, 'dense_units': 61, 'learning_rate': 0.0019277191666681854, 'batch_size': 84}\n"
          ]
        }
      ]
    },
    {
      "cell_type": "code",
      "source": [
        "# Train the best model using the best hyperparameters\n",
        "best_trial = study.best_trial\n",
        "best_model = create_model(best_trial)\n",
        "early_stopping = EarlyStopping(monitor='val_loss', patience=5, restore_best_weights=True)\n",
        "best_model.fit(X_train, y_train_encoded, validation_data=(X_test, y_test_encoded),\n",
        "               epochs=50, batch_size=best_trial.params['batch_size'],\n",
        "               verbose=1, callbacks=[early_stopping])"
      ],
      "metadata": {
        "colab": {
          "base_uri": "https://localhost:8080/"
        },
        "id": "lO81_UnloCm7",
        "outputId": "06f7c0f0-b660-4fc5-96aa-748feda18a69"
      },
      "execution_count": 30,
      "outputs": [
        {
          "output_type": "stream",
          "name": "stdout",
          "text": [
            "Epoch 1/50\n",
            "1775/1775 [==============================] - 21s 10ms/step - loss: 0.3351 - accuracy: 0.8672 - val_loss: 1.1196 - val_accuracy: 0.7494\n",
            "Epoch 2/50\n",
            "1775/1775 [==============================] - 17s 10ms/step - loss: 0.0786 - accuracy: 0.9731 - val_loss: 1.1152 - val_accuracy: 0.7839\n",
            "Epoch 3/50\n",
            "1775/1775 [==============================] - 17s 10ms/step - loss: 0.0499 - accuracy: 0.9827 - val_loss: 1.1111 - val_accuracy: 0.7800\n",
            "Epoch 4/50\n",
            "1775/1775 [==============================] - 17s 10ms/step - loss: 0.0393 - accuracy: 0.9865 - val_loss: 1.5403 - val_accuracy: 0.7703\n",
            "Epoch 5/50\n",
            "1775/1775 [==============================] - 17s 10ms/step - loss: 0.0336 - accuracy: 0.9886 - val_loss: 1.1755 - val_accuracy: 0.7846\n",
            "Epoch 6/50\n",
            "1775/1775 [==============================] - 17s 10ms/step - loss: 0.0282 - accuracy: 0.9904 - val_loss: 0.8721 - val_accuracy: 0.8059\n",
            "Epoch 7/50\n",
            "1775/1775 [==============================] - 18s 10ms/step - loss: 0.0261 - accuracy: 0.9913 - val_loss: 0.9653 - val_accuracy: 0.7998\n",
            "Epoch 8/50\n",
            "1775/1775 [==============================] - 18s 10ms/step - loss: 0.0212 - accuracy: 0.9929 - val_loss: 1.2829 - val_accuracy: 0.7790\n",
            "Epoch 9/50\n",
            "1775/1775 [==============================] - 17s 9ms/step - loss: 0.0200 - accuracy: 0.9933 - val_loss: 1.1247 - val_accuracy: 0.8033\n",
            "Epoch 10/50\n",
            "1775/1775 [==============================] - 17s 10ms/step - loss: 0.0188 - accuracy: 0.9940 - val_loss: 0.6299 - val_accuracy: 0.7549\n",
            "Epoch 11/50\n",
            "1775/1775 [==============================] - 17s 10ms/step - loss: 0.0165 - accuracy: 0.9944 - val_loss: 1.6163 - val_accuracy: 0.7986\n",
            "Epoch 12/50\n",
            "1775/1775 [==============================] - 17s 10ms/step - loss: 0.0146 - accuracy: 0.9953 - val_loss: 1.6145 - val_accuracy: 0.7828\n",
            "Epoch 13/50\n",
            "1775/1775 [==============================] - 17s 10ms/step - loss: 0.0146 - accuracy: 0.9954 - val_loss: 1.5941 - val_accuracy: 0.7753\n",
            "Epoch 14/50\n",
            "1775/1775 [==============================] - 18s 10ms/step - loss: 0.0150 - accuracy: 0.9953 - val_loss: 1.5432 - val_accuracy: 0.7720\n",
            "Epoch 15/50\n",
            "1775/1775 [==============================] - 18s 10ms/step - loss: 0.0109 - accuracy: 0.9964 - val_loss: 1.3099 - val_accuracy: 0.8030\n"
          ]
        },
        {
          "output_type": "execute_result",
          "data": {
            "text/plain": [
              "<keras.src.callbacks.History at 0x795b38a29570>"
            ]
          },
          "metadata": {},
          "execution_count": 30
        }
      ]
    },
    {
      "cell_type": "code",
      "source": [
        "# Evaluate the best model\n",
        "y_pred_prob = best_model.predict(X_test)\n",
        "y_pred = np.argmax(y_pred_prob, axis=1)\n",
        "accuracy = accuracy_score(y_test_encoded, y_pred)\n",
        "print(f\"Accuracy of the best model: {accuracy}\")\n",
        "\n",
        "# Print classification report\n",
        "print(\"Classification Report:\")\n",
        "print(classification_report(y_test_encoded, y_pred, target_names=label_encoder.classes_))\n",
        "\n",
        "# Plot confusion matrix\n",
        "conf_matrix = confusion_matrix(y_test_encoded, y_pred)\n",
        "plt.figure(figsize=(10, 8))\n",
        "sns.heatmap(conf_matrix, annot=True, fmt='d', cmap='Blues', xticklabels=label_encoder.classes_, yticklabels=label_encoder.classes_)\n",
        "plt.xlabel('Predicted')\n",
        "plt.ylabel('True')\n",
        "plt.title('Confusion Matrix')\n",
        "plt.show()"
      ],
      "metadata": {
        "id": "ep7XXvm-nwIv",
        "colab": {
          "base_uri": "https://localhost:8080/",
          "height": 978
        },
        "outputId": "32ebf68a-8c90-435c-c72c-e0e78f1677a9"
      },
      "execution_count": 31,
      "outputs": [
        {
          "output_type": "stream",
          "name": "stdout",
          "text": [
            "932/932 [==============================] - 4s 4ms/step\n",
            "Accuracy of the best model: 0.7548973567690863\n",
            "Classification Report:\n",
            "              precision    recall  f1-score   support\n",
            "\n",
            "          FB       0.97      0.98      0.98      5996\n",
            "       Insta       0.98      0.99      0.98      5951\n",
            "      Reddit       0.41      0.36      0.38      5955\n",
            "      TikTok       0.42      0.47      0.44      5955\n",
            "           X       0.99      0.97      0.98      5955\n",
            "\n",
            "    accuracy                           0.75     29812\n",
            "   macro avg       0.75      0.75      0.75     29812\n",
            "weighted avg       0.75      0.75      0.75     29812\n",
            "\n"
          ]
        },
        {
          "output_type": "display_data",
          "data": {
            "text/plain": [
              "<Figure size 1000x800 with 2 Axes>"
            ],
            "image/png": "[encoded data removed]"
          },
          "metadata": {}
        }
      ]
    },
    {
      "cell_type": "code",
      "source": [
        "from keras.callbacks import ReduceLROnPlateau\n",
        "\n",
        "# Reduce learning rate when a metric has stopped improving\n",
        "reduce_lr = ReduceLROnPlateau(monitor='val_loss', factor=0.2, patience=3, min_lr=0.001)\n",
        "\n",
        "# Early stopping callback with higher patience\n",
        "early_stopping = EarlyStopping(monitor='val_loss', patience=10, restore_best_weights=True)\n",
        "\n",
        "# Train the model with the best hyperparameters found\n",
        "best_model.fit(X_train, y_train_encoded, validation_data=(X_test, y_test_encoded),\n",
        "               epochs=50, batch_size=best_trial.params['batch_size'],\n",
        "               verbose=1, callbacks=[early_stopping, reduce_lr])\n"
      ],
      "metadata": {
        "id": "eP5fWWHEvsID",
        "colab": {
          "base_uri": "https://localhost:8080/"
        },
        "outputId": "726e08f0-befc-432c-aa71-f5d363d6bff6"
      },
      "execution_count": 32,
      "outputs": [
        {
          "output_type": "stream",
          "name": "stdout",
          "text": [
            "Epoch 1/50\n",
            "1775/1775 [==============================] - 17s 10ms/step - loss: 0.0172 - accuracy: 0.9945 - val_loss: 0.9229 - val_accuracy: 0.8200 - lr: 0.0019\n",
            "Epoch 2/50\n",
            "1775/1775 [==============================] - 18s 10ms/step - loss: 0.0161 - accuracy: 0.9948 - val_loss: 1.1417 - val_accuracy: 0.7901 - lr: 0.0019\n",
            "Epoch 3/50\n",
            "1775/1775 [==============================] - 18s 10ms/step - loss: 0.0125 - accuracy: 0.9961 - val_loss: 1.3462 - val_accuracy: 0.7919 - lr: 0.0019\n",
            "Epoch 4/50\n",
            "1775/1775 [==============================] - 18s 10ms/step - loss: 0.0142 - accuracy: 0.9955 - val_loss: 1.5690 - val_accuracy: 0.8029 - lr: 0.0019\n",
            "Epoch 5/50\n",
            "1775/1775 [==============================] - 18s 10ms/step - loss: 0.0059 - accuracy: 0.9979 - val_loss: 1.8538 - val_accuracy: 0.8043 - lr: 0.0010\n",
            "Epoch 6/50\n",
            "1775/1775 [==============================] - 17s 10ms/step - loss: 0.0065 - accuracy: 0.9983 - val_loss: 1.6458 - val_accuracy: 0.7988 - lr: 0.0010\n",
            "Epoch 7/50\n",
            "1775/1775 [==============================] - 17s 10ms/step - loss: 0.0053 - accuracy: 0.9981 - val_loss: 1.2422 - val_accuracy: 0.8095 - lr: 0.0010\n",
            "Epoch 8/50\n",
            "1775/1775 [==============================] - 17s 10ms/step - loss: 0.0042 - accuracy: 0.9986 - val_loss: 1.4973 - val_accuracy: 0.8033 - lr: 0.0010\n",
            "Epoch 9/50\n",
            "1775/1775 [==============================] - 18s 10ms/step - loss: 0.0045 - accuracy: 0.9985 - val_loss: 1.7924 - val_accuracy: 0.8026 - lr: 0.0010\n",
            "Epoch 10/50\n",
            "1775/1775 [==============================] - 18s 10ms/step - loss: 0.0040 - accuracy: 0.9987 - val_loss: 1.9234 - val_accuracy: 0.7876 - lr: 0.0010\n",
            "Epoch 11/50\n",
            "1775/1775 [==============================] - 18s 10ms/step - loss: 0.0043 - accuracy: 0.9987 - val_loss: 1.4521 - val_accuracy: 0.7968 - lr: 0.0010\n"
          ]
        },
        {
          "output_type": "execute_result",
          "data": {
            "text/plain": [
              "<keras.src.callbacks.History at 0x795b38576650>"
            ]
          },
          "metadata": {},
          "execution_count": 32
        }
      ]
    },
    {
      "cell_type": "code",
      "source": [
        "# Evaluate the best model\n",
        "y_pred_prob = best_model.predict(X_test)\n",
        "y_pred = np.argmax(y_pred_prob, axis=1)\n",
        "accuracy = accuracy_score(y_test_encoded, y_pred)\n",
        "print(f\"Accuracy of the best model: {accuracy}\")\n",
        "\n",
        "# Print classification report\n",
        "print(\"Classification Report:\")\n",
        "print(classification_report(y_test_encoded, y_pred, target_names=label_encoder.classes_))\n",
        "\n",
        "# Plot confusion matrix\n",
        "conf_matrix = confusion_matrix(y_test_encoded, y_pred)\n",
        "plt.figure(figsize=(10, 8))\n",
        "sns.heatmap(conf_matrix, annot=True, fmt='d', cmap='Blues', xticklabels=label_encoder.classes_, yticklabels=label_encoder.classes_)\n",
        "plt.xlabel('Predicted')\n",
        "plt.ylabel('True')\n",
        "plt.title('Confusion Matrix')\n",
        "plt.show()"
      ],
      "metadata": {
        "colab": {
          "base_uri": "https://localhost:8080/",
          "height": 978
        },
        "id": "TSV7XNRVvwng",
        "outputId": "965839c9-1c27-455e-a476-6f8e5e724034"
      },
      "execution_count": 33,
      "outputs": [
        {
          "output_type": "stream",
          "name": "stdout",
          "text": [
            "932/932 [==============================] - 4s 4ms/step\n",
            "Accuracy of the best model: 0.819971823426808\n",
            "Classification Report:\n",
            "              precision    recall  f1-score   support\n",
            "\n",
            "          FB       0.99      0.98      0.99      5996\n",
            "       Insta       0.99      1.00      1.00      5951\n",
            "      Reddit       0.58      0.49      0.53      5955\n",
            "      TikTok       0.56      0.64      0.59      5955\n",
            "           X       0.99      0.99      0.99      5955\n",
            "\n",
            "    accuracy                           0.82     29812\n",
            "   macro avg       0.82      0.82      0.82     29812\n",
            "weighted avg       0.82      0.82      0.82     29812\n",
            "\n"
          ]
        },
        {
          "output_type": "display_data",
          "data": {
            "text/plain": [
              "<Figure size 1000x800 with 2 Axes>"
            ],
            "image/png": "[encoded data removed]"
          },
          "metadata": {}
        }
      ]
    },
    {
      "cell_type": "code",
      "source": [
        "# Plot the feature importances\n",
        "tf.keras.utils.plot_model(best_model, to_file='best_lstm_model.png', show_shapes=True, show_layer_names=True)\n",
        "\n",
        "# Plot training history\n",
        "plt.plot(history.history['accuracy'], label='accuracy')\n",
        "plt.plot(history.history['val_accuracy'], label = 'val_accuracy')\n",
        "plt.xlabel('Epoch')\n",
        "plt.ylabel('Accuracy')\n",
        "plt.ylim([0, 1])\n",
        "plt.legend(loc='lower right')\n",
        "plt.show()"
      ],
      "metadata": {
        "colab": {
          "base_uri": "https://localhost:8080/",
          "height": 455
        },
        "id": "4QIpgmDwv-R_",
        "outputId": "975dafed-bc2e-4de0-ec83-460683f5db30"
      },
      "execution_count": 34,
      "outputs": [
        {
          "output_type": "display_data",
          "data": {
            "text/plain": [
              "<Figure size 640x480 with 1 Axes>"
            ],
            "image/png": "[encoded data removed]"
          },
          "metadata": {}
        }
      ]
    }
  ]
}