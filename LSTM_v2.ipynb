{
  "nbformat": 4,
  "nbformat_minor": 0,
  "metadata": {
    "colab": {
      "provenance": [],
      "machine_shape": "hm",
      "gpuType": "T4"
    },
    "kernelspec": {
      "name": "python3",
      "display_name": "Python 3"
    },
    "language_info": {
      "name": "python"
    },
    "accelerator": "GPU"
  },
  "cells": [
    {
      "cell_type": "code",
      "execution_count": 1,
      "metadata": {
        "colab": {
          "base_uri": "https://localhost:8080/"
        },
        "id": "XZmT5JWhGlXh",
        "outputId": "1e13d4e2-2920-4d67-d63c-71975e8d4f49"
      },
      "outputs": [
        {
          "output_type": "stream",
          "name": "stdout",
          "text": [
            "Mounted at /content/drive/\n"
          ]
        }
      ],
      "source": [
        "from google.colab import drive\n",
        "drive.mount('/content/drive/')"
      ]
    },
    {
      "cell_type": "code",
      "source": [
        "import os\n",
        "os.chdir('/content/drive/MyDrive/ml4qs/')"
      ],
      "metadata": {
        "id": "o_7DNlCyGq9y"
      },
      "execution_count": 2,
      "outputs": []
    },
    {
      "cell_type": "code",
      "source": [
        "!pip install optuna\n",
        "!pip install tensorflow\n"
      ],
      "metadata": {
        "colab": {
          "base_uri": "https://localhost:8080/"
        },
        "id": "_kTo2OCdG8Mn",
        "outputId": "f5b8a8fc-500a-4885-cf1b-263262a6bc3e"
      },
      "execution_count": 3,
      "outputs": [
        {
          "output_type": "stream",
          "name": "stdout",
          "text": [
            "Collecting optuna\n",
            "  Downloading optuna-3.6.1-py3-none-any.whl (380 kB)\n",
            "\u001b[2K     \u001b[90m━━━━━━━━━━━━━━━━━━━━━━━━━━━━━━━━━━━━━━━━\u001b[0m \u001b[32m380.1/380.1 kB\u001b[0m \u001b[31m7.3 MB/s\u001b[0m eta \u001b[36m0:00:00\u001b[0m\n",
            "\u001b[?25hCollecting alembic>=1.5.0 (from optuna)\n",
            "  Downloading alembic-1.13.1-py3-none-any.whl (233 kB)\n",
            "\u001b[2K     \u001b[90m━━━━━━━━━━━━━━━━━━━━━━━━━━━━━━━━━━━━━━━━\u001b[0m \u001b[32m233.4/233.4 kB\u001b[0m \u001b[31m10.7 MB/s\u001b[0m eta \u001b[36m0:00:00\u001b[0m\n",
            "\u001b[?25hCollecting colorlog (from optuna)\n",
            "  Downloading colorlog-6.8.2-py3-none-any.whl (11 kB)\n",
            "Requirement already satisfied: numpy in /usr/local/lib/python3.10/dist-packages (from optuna) (1.25.2)\n",
            "Requirement already satisfied: packaging>=20.0 in /usr/local/lib/python3.10/dist-packages (from optuna) (24.1)\n",
            "Requirement already satisfied: sqlalchemy>=1.3.0 in /usr/local/lib/python3.10/dist-packages (from optuna) (2.0.30)\n",
            "Requirement already satisfied: tqdm in /usr/local/lib/python3.10/dist-packages (from optuna) (4.66.4)\n",
            "Requirement already satisfied: PyYAML in /usr/local/lib/python3.10/dist-packages (from optuna) (6.0.1)\n",
            "Collecting Mako (from alembic>=1.5.0->optuna)\n",
            "  Downloading Mako-1.3.5-py3-none-any.whl (78 kB)\n",
            "\u001b[2K     \u001b[90m━━━━━━━━━━━━━━━━━━━━━━━━━━━━━━━━━━━━━━━━\u001b[0m \u001b[32m78.6/78.6 kB\u001b[0m \u001b[31m7.4 MB/s\u001b[0m eta \u001b[36m0:00:00\u001b[0m\n",
            "\u001b[?25hRequirement already satisfied: typing-extensions>=4 in /usr/local/lib/python3.10/dist-packages (from alembic>=1.5.0->optuna) (4.12.2)\n",
            "Requirement already satisfied: greenlet!=0.4.17 in /usr/local/lib/python3.10/dist-packages (from sqlalchemy>=1.3.0->optuna) (3.0.3)\n",
            "Requirement already satisfied: MarkupSafe>=0.9.2 in /usr/local/lib/python3.10/dist-packages (from Mako->alembic>=1.5.0->optuna) (2.1.5)\n",
            "Installing collected packages: Mako, colorlog, alembic, optuna\n",
            "Successfully installed Mako-1.3.5 alembic-1.13.1 colorlog-6.8.2 optuna-3.6.1\n",
            "Requirement already satisfied: tensorflow in /usr/local/lib/python3.10/dist-packages (2.15.0)\n",
            "Requirement already satisfied: absl-py>=1.0.0 in /usr/local/lib/python3.10/dist-packages (from tensorflow) (1.4.0)\n",
            "Requirement already satisfied: astunparse>=1.6.0 in /usr/local/lib/python3.10/dist-packages (from tensorflow) (1.6.3)\n",
            "Requirement already satisfied: flatbuffers>=23.5.26 in /usr/local/lib/python3.10/dist-packages (from tensorflow) (24.3.25)\n",
            "Requirement already satisfied: gast!=0.5.0,!=0.5.1,!=0.5.2,>=0.2.1 in /usr/local/lib/python3.10/dist-packages (from tensorflow) (0.5.4)\n",
            "Requirement already satisfied: google-pasta>=0.1.1 in /usr/local/lib/python3.10/dist-packages (from tensorflow) (0.2.0)\n",
            "Requirement already satisfied: h5py>=2.9.0 in /usr/local/lib/python3.10/dist-packages (from tensorflow) (3.9.0)\n",
            "Requirement already satisfied: libclang>=13.0.0 in /usr/local/lib/python3.10/dist-packages (from tensorflow) (18.1.1)\n",
            "Requirement already satisfied: ml-dtypes~=0.2.0 in /usr/local/lib/python3.10/dist-packages (from tensorflow) (0.2.0)\n",
            "Requirement already satisfied: numpy<2.0.0,>=1.23.5 in /usr/local/lib/python3.10/dist-packages (from tensorflow) (1.25.2)\n",
            "Requirement already satisfied: opt-einsum>=2.3.2 in /usr/local/lib/python3.10/dist-packages (from tensorflow) (3.3.0)\n",
            "Requirement already satisfied: packaging in /usr/local/lib/python3.10/dist-packages (from tensorflow) (24.1)\n",
            "Requirement already satisfied: protobuf!=4.21.0,!=4.21.1,!=4.21.2,!=4.21.3,!=4.21.4,!=4.21.5,<5.0.0dev,>=3.20.3 in /usr/local/lib/python3.10/dist-packages (from tensorflow) (3.20.3)\n",
            "Requirement already satisfied: setuptools in /usr/local/lib/python3.10/dist-packages (from tensorflow) (67.7.2)\n",
            "Requirement already satisfied: six>=1.12.0 in /usr/local/lib/python3.10/dist-packages (from tensorflow) (1.16.0)\n",
            "Requirement already satisfied: termcolor>=1.1.0 in /usr/local/lib/python3.10/dist-packages (from tensorflow) (2.4.0)\n",
            "Requirement already satisfied: typing-extensions>=3.6.6 in /usr/local/lib/python3.10/dist-packages (from tensorflow) (4.12.2)\n",
            "Requirement already satisfied: wrapt<1.15,>=1.11.0 in /usr/local/lib/python3.10/dist-packages (from tensorflow) (1.14.1)\n",
            "Requirement already satisfied: tensorflow-io-gcs-filesystem>=0.23.1 in /usr/local/lib/python3.10/dist-packages (from tensorflow) (0.37.0)\n",
            "Requirement already satisfied: grpcio<2.0,>=1.24.3 in /usr/local/lib/python3.10/dist-packages (from tensorflow) (1.64.1)\n",
            "Requirement already satisfied: tensorboard<2.16,>=2.15 in /usr/local/lib/python3.10/dist-packages (from tensorflow) (2.15.2)\n",
            "Requirement already satisfied: tensorflow-estimator<2.16,>=2.15.0 in /usr/local/lib/python3.10/dist-packages (from tensorflow) (2.15.0)\n",
            "Requirement already satisfied: keras<2.16,>=2.15.0 in /usr/local/lib/python3.10/dist-packages (from tensorflow) (2.15.0)\n",
            "Requirement already satisfied: wheel<1.0,>=0.23.0 in /usr/local/lib/python3.10/dist-packages (from astunparse>=1.6.0->tensorflow) (0.43.0)\n",
            "Requirement already satisfied: google-auth<3,>=1.6.3 in /usr/local/lib/python3.10/dist-packages (from tensorboard<2.16,>=2.15->tensorflow) (2.27.0)\n",
            "Requirement already satisfied: google-auth-oauthlib<2,>=0.5 in /usr/local/lib/python3.10/dist-packages (from tensorboard<2.16,>=2.15->tensorflow) (1.2.0)\n",
            "Requirement already satisfied: markdown>=2.6.8 in /usr/local/lib/python3.10/dist-packages (from tensorboard<2.16,>=2.15->tensorflow) (3.6)\n",
            "Requirement already satisfied: requests<3,>=2.21.0 in /usr/local/lib/python3.10/dist-packages (from tensorboard<2.16,>=2.15->tensorflow) (2.31.0)\n",
            "Requirement already satisfied: tensorboard-data-server<0.8.0,>=0.7.0 in /usr/local/lib/python3.10/dist-packages (from tensorboard<2.16,>=2.15->tensorflow) (0.7.2)\n",
            "Requirement already satisfied: werkzeug>=1.0.1 in /usr/local/lib/python3.10/dist-packages (from tensorboard<2.16,>=2.15->tensorflow) (3.0.3)\n",
            "Requirement already satisfied: cachetools<6.0,>=2.0.0 in /usr/local/lib/python3.10/dist-packages (from google-auth<3,>=1.6.3->tensorboard<2.16,>=2.15->tensorflow) (5.3.3)\n",
            "Requirement already satisfied: pyasn1-modules>=0.2.1 in /usr/local/lib/python3.10/dist-packages (from google-auth<3,>=1.6.3->tensorboard<2.16,>=2.15->tensorflow) (0.4.0)\n",
            "Requirement already satisfied: rsa<5,>=3.1.4 in /usr/local/lib/python3.10/dist-packages (from google-auth<3,>=1.6.3->tensorboard<2.16,>=2.15->tensorflow) (4.9)\n",
            "Requirement already satisfied: requests-oauthlib>=0.7.0 in /usr/local/lib/python3.10/dist-packages (from google-auth-oauthlib<2,>=0.5->tensorboard<2.16,>=2.15->tensorflow) (1.3.1)\n",
            "Requirement already satisfied: charset-normalizer<4,>=2 in /usr/local/lib/python3.10/dist-packages (from requests<3,>=2.21.0->tensorboard<2.16,>=2.15->tensorflow) (3.3.2)\n",
            "Requirement already satisfied: idna<4,>=2.5 in /usr/local/lib/python3.10/dist-packages (from requests<3,>=2.21.0->tensorboard<2.16,>=2.15->tensorflow) (3.7)\n",
            "Requirement already satisfied: urllib3<3,>=1.21.1 in /usr/local/lib/python3.10/dist-packages (from requests<3,>=2.21.0->tensorboard<2.16,>=2.15->tensorflow) (2.0.7)\n",
            "Requirement already satisfied: certifi>=2017.4.17 in /usr/local/lib/python3.10/dist-packages (from requests<3,>=2.21.0->tensorboard<2.16,>=2.15->tensorflow) (2024.6.2)\n",
            "Requirement already satisfied: MarkupSafe>=2.1.1 in /usr/local/lib/python3.10/dist-packages (from werkzeug>=1.0.1->tensorboard<2.16,>=2.15->tensorflow) (2.1.5)\n",
            "Requirement already satisfied: pyasn1<0.7.0,>=0.4.6 in /usr/local/lib/python3.10/dist-packages (from pyasn1-modules>=0.2.1->google-auth<3,>=1.6.3->tensorboard<2.16,>=2.15->tensorflow) (0.6.0)\n",
            "Requirement already satisfied: oauthlib>=3.0.0 in /usr/local/lib/python3.10/dist-packages (from requests-oauthlib>=0.7.0->google-auth-oauthlib<2,>=0.5->tensorboard<2.16,>=2.15->tensorflow) (3.2.2)\n"
          ]
        }
      ]
    },
    {
      "cell_type": "code",
      "source": [
        "import numpy as np\n",
        "import pandas as pd\n",
        "import matplotlib.pyplot as plt\n",
        "import seaborn as sns\n",
        "import random\n",
        "from sklearn.model_selection import train_test_split\n",
        "from sklearn.metrics import classification_report, confusion_matrix, accuracy_score\n",
        "from sklearn.preprocessing import StandardScaler, LabelEncoder\n",
        "import tensorflow as tf\n",
        "from tensorflow.keras.models import Sequential\n",
        "from tensorflow.keras.layers import Embedding, LSTM, Dense, Dropout\n",
        "from tensorflow.keras.optimizers import Adam\n",
        "import optuna"
      ],
      "metadata": {
        "id": "Xy46LHI7HkBc"
      },
      "execution_count": 4,
      "outputs": []
    },
    {
      "cell_type": "code",
      "source": [
        "# Load the dataset\n",
        "full_data = pd.read_parquet(\"full_dataset.parquet.gzip\")"
      ],
      "metadata": {
        "id": "ZDV-GiTRJ7ah"
      },
      "execution_count": 5,
      "outputs": []
    },
    {
      "cell_type": "code",
      "source": [
        "# Split the dataset into training and testing sets\n",
        "random.seed(51)\n",
        "testing_categories = [1, 2, 3, 4, 5, 6]\n",
        "random.shuffle(testing_categories)\n",
        "\n",
        "testing_set = [f\"{platform}{number}\" for platform, number in zip(full_data[\"SM_platform\"].unique(), testing_categories)]\n",
        "testing_df = full_data[full_data[\"source_name\"].isin(testing_set)]\n",
        "training_df = full_data[~full_data[\"source_name\"].isin(testing_set)]"
      ],
      "metadata": {
        "id": "0fIizKhFJ_c2"
      },
      "execution_count": 6,
      "outputs": []
    },
    {
      "cell_type": "code",
      "source": [
        "# Only select standardized columns\n",
        "columns_to_select = [col for col in full_data.columns if 'zscore' in col] + [\"SM_platform\", \"index\"] + [col for col in\n",
        "                                                                                                        full_data.columns\n",
        "                                                                                                        if 'pc' in col]\n",
        "training_df = training_df.loc[:, columns_to_select]\n",
        "testing_df = testing_df.loc[:, columns_to_select]"
      ],
      "metadata": {
        "id": "m2bxR8xFKGqm"
      },
      "execution_count": 7,
      "outputs": []
    },
    {
      "cell_type": "code",
      "source": [
        "# Separate features and target\n",
        "X_train = training_df.drop(columns=[\"SM_platform\"])\n",
        "y_train = training_df[\"SM_platform\"]\n",
        "X_test = testing_df.drop(columns=[\"SM_platform\"])\n",
        "y_test = testing_df[\"SM_platform\"]\n",
        "\n",
        "# Encode the target variable\n",
        "label_encoder = LabelEncoder()\n",
        "y_train_encoded = label_encoder.fit_transform(y_train)\n",
        "y_test_encoded = label_encoder.transform(y_test)\n",
        "\n",
        "# # Normalize features\n",
        "# scaler = StandardScaler()\n",
        "# X_train_scaled = scaler.fit_transform(X_train)\n",
        "# X_test_scaled = scaler.transform(X_test)\n",
        "\n",
        "# reshape data for LSTM (samples, time_steps, features)\n",
        "X_train = np.expand_dims(X_train.values, axis=2)\n",
        "X_test = np.expand_dims(X_test.values, axis=2)"
      ],
      "metadata": {
        "id": "HOpM46_6KJpo"
      },
      "execution_count": 13,
      "outputs": []
    },
    {
      "cell_type": "code",
      "source": [
        "# Create sequences for LSTM\n",
        "def create_sequences(data, target, sequence_length):\n",
        "    sequences = []\n",
        "    labels = []\n",
        "    for i in range(len(data) - sequence_length):\n",
        "        sequences.append(data[i:i + sequence_length])\n",
        "        labels.append(target[i + sequence_length])\n",
        "    return np.array(sequences), np.array(labels)\n",
        "\n",
        "\n",
        "sequence_length = 10  # Example sequence length\n",
        "X_train_seq, y_train_seq = create_sequences(X_train_scaled, y_train_encoded, sequence_length)\n",
        "X_test_seq, y_test_seq = create_sequences(X_test_scaled, y_test_encoded, sequence_length)"
      ],
      "metadata": {
        "id": "osolKvpRKRA0"
      },
      "execution_count": 10,
      "outputs": []
    },
    {
      "cell_type": "code",
      "source": [
        "# Define the LSTM model\n",
        "def create_model(trial):\n",
        "    model = Sequential()\n",
        "    model.add(LSTM(units=trial.suggest_int('units_1', 32, 128), return_sequences=True, input_shape=(X_train.shape[1], X_train.shape[2])))\n",
        "    model.add(Dropout(trial.suggest_float('dropout_1', 0.2, 0.5)))\n",
        "    model.add(LSTM(units=trial.suggest_int('units_2', 16, 64)))\n",
        "    model.add(Dropout(trial.suggest_float('dropout_2', 0.2, 0.5)))\n",
        "    model.add(Dense(units=trial.suggest_int('dense_units', 32, 128), activation='relu'))\n",
        "    model.add(Dense(units=len(label_encoder.classes_), activation='softmax'))\n",
        "\n",
        "    # Compile the model\n",
        "    model.compile(optimizer=Adam(learning_rate=trial.suggest_float('learning_rate', 1e-4, 1e-2)),\n",
        "                  loss='sparse_categorical_crossentropy',\n",
        "                  metrics=['accuracy'])\n",
        "    return model"
      ],
      "metadata": {
        "id": "nwT8PxFPKVPk"
      },
      "execution_count": 14,
      "outputs": []
    },
    {
      "cell_type": "code",
      "source": [
        "def objective(trial):\n",
        "    model = create_model(trial)\n",
        "    history = model.fit(X_train, y_train_encoded, validation_data=(X_test, y_test_encoded),\n",
        "                        epochs=10, batch_size=trial.suggest_int('batch_size', 32, 128), verbose=0)\n",
        "\n",
        "    y_pred_prob = model.predict(X_test)\n",
        "    y_pred = np.argmax(y_pred_prob, axis=1)\n",
        "    accuracy = accuracy_score(y_test_encoded, y_pred)\n",
        "\n",
        "    return accuracy"
      ],
      "metadata": {
        "id": "XW78JknCKYvR"
      },
      "execution_count": 15,
      "outputs": []
    },
    {
      "cell_type": "markdown",
      "source": [
        "default training"
      ],
      "metadata": {
        "id": "IyXP79EoLUdV"
      }
    },
    {
      "cell_type": "code",
      "source": [
        "# Define the LSTM model with default hyperparameters\n",
        "def create_default_model():\n",
        "    model = Sequential()\n",
        "    model.add(LSTM(units=100, return_sequences=True, input_shape=(X_train_seq.shape[1], X_train_seq.shape[2])))\n",
        "    model.add(Dropout(0.2))\n",
        "    model.add(LSTM(units=100, return_sequences=False))\n",
        "    model.add(Dropout(0.2))\n",
        "    model.add(Dense(units=25, activation='relu'))\n",
        "    model.add(Dense(units=len(label_encoder.classes_), activation='softmax'))\n",
        "\n",
        "    optimizer = Adam(learning_rate=1e-3)\n",
        "    model.compile(optimizer=optimizer, loss='sparse_categorical_crossentropy', metrics=['accuracy'])\n",
        "\n",
        "    return model"
      ],
      "metadata": {
        "id": "YHOctxRAL99q"
      },
      "execution_count": 14,
      "outputs": []
    },
    {
      "cell_type": "code",
      "source": [
        "# Train the model with default hyperparameters\n",
        "default_model = create_model()\n",
        "history = default_model.fit(X_train_seq, y_train_seq, epochs=50, batch_size=32, validation_split=0.2, verbose=1)"
      ],
      "metadata": {
        "colab": {
          "base_uri": "https://localhost:8080/"
        },
        "id": "Zq85jXjZLaMQ",
        "outputId": "6450b53e-6160-42b8-da2c-f812d652f1f6"
      },
      "execution_count": 15,
      "outputs": [
        {
          "output_type": "stream",
          "name": "stdout",
          "text": [
            "Epoch 1/50\n",
            "4425/4425 [==============================] - 31s 6ms/step - loss: 0.0270 - accuracy: 0.9921 - val_loss: 11.9349 - val_accuracy: 0.0529\n",
            "Epoch 2/50\n",
            "4425/4425 [==============================] - 25s 6ms/step - loss: 0.0065 - accuracy: 0.9982 - val_loss: 13.8987 - val_accuracy: 0.0293\n",
            "Epoch 3/50\n",
            "4425/4425 [==============================] - 25s 6ms/step - loss: 0.0041 - accuracy: 0.9991 - val_loss: 18.6766 - val_accuracy: 0.0426\n",
            "Epoch 4/50\n",
            "4425/4425 [==============================] - 25s 6ms/step - loss: 0.0039 - accuracy: 0.9992 - val_loss: 22.0848 - val_accuracy: 0.0117\n",
            "Epoch 5/50\n",
            "4425/4425 [==============================] - 25s 6ms/step - loss: 0.0033 - accuracy: 0.9992 - val_loss: 27.8058 - val_accuracy: 0.0282\n",
            "Epoch 6/50\n",
            "4425/4425 [==============================] - 25s 6ms/step - loss: 0.0028 - accuracy: 0.9993 - val_loss: 30.3497 - val_accuracy: 0.0218\n",
            "Epoch 7/50\n",
            "4425/4425 [==============================] - 25s 6ms/step - loss: 0.0019 - accuracy: 0.9996 - val_loss: 31.3043 - val_accuracy: 0.0177\n",
            "Epoch 8/50\n",
            "4425/4425 [==============================] - 25s 6ms/step - loss: 0.0015 - accuracy: 0.9997 - val_loss: 35.4086 - val_accuracy: 0.0315\n",
            "Epoch 9/50\n",
            "4425/4425 [==============================] - 25s 6ms/step - loss: 0.0019 - accuracy: 0.9996 - val_loss: 36.0390 - val_accuracy: 0.0264\n",
            "Epoch 10/50\n",
            "4425/4425 [==============================] - 25s 6ms/step - loss: 0.0013 - accuracy: 0.9997 - val_loss: 34.8198 - val_accuracy: 0.0421\n",
            "Epoch 11/50\n",
            "4425/4425 [==============================] - 25s 6ms/step - loss: 0.0014 - accuracy: 0.9997 - val_loss: 35.0062 - val_accuracy: 0.0315\n",
            "Epoch 12/50\n",
            "4425/4425 [==============================] - 25s 6ms/step - loss: 0.0016 - accuracy: 0.9997 - val_loss: 35.8785 - val_accuracy: 0.0218\n",
            "Epoch 13/50\n",
            "4425/4425 [==============================] - 25s 6ms/step - loss: 0.0016 - accuracy: 0.9997 - val_loss: 39.6662 - val_accuracy: 0.0240\n",
            "Epoch 14/50\n",
            "4425/4425 [==============================] - 25s 6ms/step - loss: 6.0820e-04 - accuracy: 0.9998 - val_loss: 41.0702 - val_accuracy: 0.0225\n",
            "Epoch 15/50\n",
            "4425/4425 [==============================] - 25s 6ms/step - loss: 0.0015 - accuracy: 0.9997 - val_loss: 36.8552 - val_accuracy: 0.0472\n",
            "Epoch 16/50\n",
            "4425/4425 [==============================] - 24s 6ms/step - loss: 6.7689e-04 - accuracy: 0.9998 - val_loss: 37.8813 - val_accuracy: 0.0309\n",
            "Epoch 17/50\n",
            "4425/4425 [==============================] - 24s 6ms/step - loss: 5.8006e-04 - accuracy: 0.9999 - val_loss: 42.1289 - val_accuracy: 0.0252\n",
            "Epoch 18/50\n",
            "4425/4425 [==============================] - 25s 6ms/step - loss: 0.0013 - accuracy: 0.9998 - val_loss: 43.8547 - val_accuracy: 0.0304\n",
            "Epoch 19/50\n",
            "4425/4425 [==============================] - 24s 5ms/step - loss: 6.1591e-04 - accuracy: 0.9999 - val_loss: 42.4106 - val_accuracy: 0.0235\n",
            "Epoch 20/50\n",
            "4425/4425 [==============================] - 25s 6ms/step - loss: 4.5613e-04 - accuracy: 0.9999 - val_loss: 46.0223 - val_accuracy: 0.0406\n",
            "Epoch 21/50\n",
            "4425/4425 [==============================] - 25s 6ms/step - loss: 0.0011 - accuracy: 0.9998 - val_loss: 39.7692 - val_accuracy: 0.0312\n",
            "Epoch 22/50\n",
            "4425/4425 [==============================] - 24s 5ms/step - loss: 5.2426e-04 - accuracy: 0.9998 - val_loss: 45.7445 - val_accuracy: 0.0201\n",
            "Epoch 23/50\n",
            "4425/4425 [==============================] - 25s 6ms/step - loss: 8.1529e-04 - accuracy: 0.9999 - val_loss: 40.6933 - val_accuracy: 0.0359\n",
            "Epoch 24/50\n",
            "4425/4425 [==============================] - 25s 6ms/step - loss: 4.0503e-04 - accuracy: 0.9999 - val_loss: 42.7429 - val_accuracy: 0.0277\n",
            "Epoch 25/50\n",
            "4425/4425 [==============================] - 25s 6ms/step - loss: 7.3394e-04 - accuracy: 0.9998 - val_loss: 37.2210 - val_accuracy: 0.0307\n",
            "Epoch 26/50\n",
            "4425/4425 [==============================] - 25s 6ms/step - loss: 6.6710e-04 - accuracy: 0.9999 - val_loss: 44.4639 - val_accuracy: 0.0352\n",
            "Epoch 27/50\n",
            "4425/4425 [==============================] - 24s 6ms/step - loss: 6.5027e-04 - accuracy: 0.9999 - val_loss: 33.9476 - val_accuracy: 0.0307\n",
            "Epoch 28/50\n",
            "4425/4425 [==============================] - 24s 6ms/step - loss: 6.5420e-04 - accuracy: 0.9999 - val_loss: 38.8369 - val_accuracy: 0.0209\n",
            "Epoch 29/50\n",
            "4425/4425 [==============================] - 25s 6ms/step - loss: 8.5721e-05 - accuracy: 1.0000 - val_loss: 44.3076 - val_accuracy: 0.0266\n",
            "Epoch 30/50\n",
            "4425/4425 [==============================] - 25s 6ms/step - loss: 9.6360e-04 - accuracy: 0.9998 - val_loss: 39.4742 - val_accuracy: 0.0222\n",
            "Epoch 31/50\n",
            "4425/4425 [==============================] - 25s 6ms/step - loss: 4.3961e-04 - accuracy: 0.9999 - val_loss: 39.4541 - val_accuracy: 0.0263\n",
            "Epoch 32/50\n",
            "4425/4425 [==============================] - 25s 6ms/step - loss: 3.4275e-04 - accuracy: 0.9999 - val_loss: 40.1044 - val_accuracy: 0.0235\n",
            "Epoch 33/50\n",
            "4425/4425 [==============================] - 25s 6ms/step - loss: 4.9121e-04 - accuracy: 0.9999 - val_loss: 49.1307 - val_accuracy: 0.0169\n",
            "Epoch 34/50\n",
            "4425/4425 [==============================] - 25s 6ms/step - loss: 8.6857e-04 - accuracy: 0.9999 - val_loss: 41.8087 - val_accuracy: 0.0298\n",
            "Epoch 35/50\n",
            "4425/4425 [==============================] - 25s 6ms/step - loss: 5.7481e-04 - accuracy: 0.9999 - val_loss: 41.9219 - val_accuracy: 0.0427\n",
            "Epoch 36/50\n",
            "4425/4425 [==============================] - 25s 6ms/step - loss: 3.3349e-04 - accuracy: 1.0000 - val_loss: 42.3473 - val_accuracy: 0.0339\n",
            "Epoch 37/50\n",
            "4425/4425 [==============================] - 25s 6ms/step - loss: 4.3802e-04 - accuracy: 0.9999 - val_loss: 47.4756 - val_accuracy: 0.0199\n",
            "Epoch 38/50\n",
            "4425/4425 [==============================] - 25s 6ms/step - loss: 0.0012 - accuracy: 0.9998 - val_loss: 40.7879 - val_accuracy: 0.0290\n",
            "Epoch 39/50\n",
            "4425/4425 [==============================] - 25s 6ms/step - loss: 1.8900e-04 - accuracy: 1.0000 - val_loss: 43.2510 - val_accuracy: 0.0198\n",
            "Epoch 40/50\n",
            "4425/4425 [==============================] - 25s 6ms/step - loss: 5.2825e-04 - accuracy: 0.9999 - val_loss: 46.5353 - val_accuracy: 0.0322\n",
            "Epoch 41/50\n",
            "4425/4425 [==============================] - 25s 6ms/step - loss: 0.0012 - accuracy: 0.9999 - val_loss: 44.0902 - val_accuracy: 0.0292\n",
            "Epoch 42/50\n",
            "4425/4425 [==============================] - 25s 6ms/step - loss: 9.5154e-06 - accuracy: 1.0000 - val_loss: 46.1787 - val_accuracy: 0.0311\n",
            "Epoch 43/50\n",
            "4425/4425 [==============================] - 25s 6ms/step - loss: 8.2868e-04 - accuracy: 0.9999 - val_loss: 44.0365 - val_accuracy: 0.0382\n",
            "Epoch 44/50\n",
            "4425/4425 [==============================] - 25s 6ms/step - loss: 2.2950e-04 - accuracy: 0.9999 - val_loss: 47.6730 - val_accuracy: 0.0421\n",
            "Epoch 45/50\n",
            "4425/4425 [==============================] - 25s 6ms/step - loss: 3.1920e-04 - accuracy: 0.9999 - val_loss: 49.4925 - val_accuracy: 0.0459\n",
            "Epoch 46/50\n",
            "4425/4425 [==============================] - 25s 6ms/step - loss: 4.6640e-04 - accuracy: 1.0000 - val_loss: 56.2654 - val_accuracy: 0.0438\n",
            "Epoch 47/50\n",
            "4425/4425 [==============================] - 24s 6ms/step - loss: 8.3353e-04 - accuracy: 0.9999 - val_loss: 48.8737 - val_accuracy: 0.0326\n",
            "Epoch 48/50\n",
            "4425/4425 [==============================] - 24s 5ms/step - loss: 9.0173e-05 - accuracy: 1.0000 - val_loss: 49.2889 - val_accuracy: 0.0333\n",
            "Epoch 49/50\n",
            "4425/4425 [==============================] - 25s 6ms/step - loss: 6.2774e-04 - accuracy: 0.9999 - val_loss: 52.4408 - val_accuracy: 0.0440\n",
            "Epoch 50/50\n",
            "4425/4425 [==============================] - 25s 6ms/step - loss: 5.5911e-05 - accuracy: 1.0000 - val_loss: 48.9647 - val_accuracy: 0.0509\n"
          ]
        }
      ]
    },
    {
      "cell_type": "code",
      "source": [
        "# Evaluate the model\n",
        "test_loss, test_accuracy = default_model.evaluate(X_test_seq, y_test_seq)\n",
        "print(f'Test Accuracy: {test_accuracy:.4f}')"
      ],
      "metadata": {
        "colab": {
          "base_uri": "https://localhost:8080/"
        },
        "id": "HK1isRx6LrM9",
        "outputId": "d86f8df0-0ba9-4f57-d2d8-f2448ab98ed5"
      },
      "execution_count": 16,
      "outputs": [
        {
          "output_type": "stream",
          "name": "stdout",
          "text": [
            "1118/1118 [==============================] - 3s 3ms/step - loss: 15.5960 - accuracy: 0.5352\n",
            "Test Accuracy: 0.5352\n"
          ]
        }
      ]
    },
    {
      "cell_type": "code",
      "source": [
        "# Predict and generate confusion matrix\n",
        "y_pred = default_model.predict(X_test_seq)\n",
        "y_pred_classes = np.argmax(y_pred, axis=1)"
      ],
      "metadata": {
        "colab": {
          "base_uri": "https://localhost:8080/"
        },
        "id": "IntqjXXgLtyl",
        "outputId": "15a72856-965e-49ee-eb72-e6f71dedfeeb"
      },
      "execution_count": 17,
      "outputs": [
        {
          "output_type": "stream",
          "name": "stdout",
          "text": [
            "1118/1118 [==============================] - 3s 2ms/step\n"
          ]
        }
      ]
    },
    {
      "cell_type": "code",
      "source": [
        "# Confusion Matrix\n",
        "conf_matrix = confusion_matrix(y_test_seq, y_pred_classes)\n",
        "print('Confusion Matrix:')\n",
        "print(conf_matrix)"
      ],
      "metadata": {
        "colab": {
          "base_uri": "https://localhost:8080/"
        },
        "id": "5zG_q7jhLwk3",
        "outputId": "7844b5ef-a10e-4ad7-c4e9-02b3a156986e"
      },
      "execution_count": 18,
      "outputs": [
        {
          "output_type": "stream",
          "name": "stdout",
          "text": [
            "Confusion Matrix:\n",
            "[[5985    1    0    0    0    0]\n",
            " [   9 5942    0    0    0    0]\n",
            " [   1 5951    3    0    0    0]\n",
            " [   0    7    0 5947    1    0]\n",
            " [   0    0    1 4695 1259    0]\n",
            " [   0    0 5952    3    0    0]]\n"
          ]
        }
      ]
    },
    {
      "cell_type": "code",
      "source": [
        "# Classification Report\n",
        "class_report = classification_report(y_test_seq, y_pred_classes, target_names=label_encoder.classes_)\n",
        "print('Classification Report:')\n",
        "print(class_report)"
      ],
      "metadata": {
        "colab": {
          "base_uri": "https://localhost:8080/"
        },
        "id": "50jX06JFLzfH",
        "outputId": "aad5b750-096d-4e70-c867-cfd83a33edc4"
      },
      "execution_count": 19,
      "outputs": [
        {
          "output_type": "stream",
          "name": "stdout",
          "text": [
            "Classification Report:\n",
            "              precision    recall  f1-score   support\n",
            "\n",
            "          FB       1.00      1.00      1.00      5986\n",
            "       Insta       0.50      1.00      0.67      5951\n",
            "         Red       0.00      0.00      0.00      5955\n",
            "      Reddit       0.56      1.00      0.72      5955\n",
            "      TikTok       1.00      0.21      0.35      5955\n",
            "           X       0.00      0.00      0.00      5955\n",
            "\n",
            "    accuracy                           0.54     35757\n",
            "   macro avg       0.51      0.53      0.46     35757\n",
            "weighted avg       0.51      0.54      0.46     35757\n",
            "\n"
          ]
        },
        {
          "output_type": "stream",
          "name": "stderr",
          "text": [
            "/usr/local/lib/python3.10/dist-packages/sklearn/metrics/_classification.py:1344: UndefinedMetricWarning: Precision and F-score are ill-defined and being set to 0.0 in labels with no predicted samples. Use `zero_division` parameter to control this behavior.\n",
            "  _warn_prf(average, modifier, msg_start, len(result))\n",
            "/usr/local/lib/python3.10/dist-packages/sklearn/metrics/_classification.py:1344: UndefinedMetricWarning: Precision and F-score are ill-defined and being set to 0.0 in labels with no predicted samples. Use `zero_division` parameter to control this behavior.\n",
            "  _warn_prf(average, modifier, msg_start, len(result))\n",
            "/usr/local/lib/python3.10/dist-packages/sklearn/metrics/_classification.py:1344: UndefinedMetricWarning: Precision and F-score are ill-defined and being set to 0.0 in labels with no predicted samples. Use `zero_division` parameter to control this behavior.\n",
            "  _warn_prf(average, modifier, msg_start, len(result))\n"
          ]
        }
      ]
    },
    {
      "cell_type": "code",
      "source": [
        "# Plot the confusion matrix\n",
        "plt.figure(figsize=(10, 8))\n",
        "sns.heatmap(conf_matrix, annot=True, fmt='d', cmap='Blues', xticklabels=label_encoder.classes_, yticklabels=label_encoder.classes_)\n",
        "plt.xlabel('Predicted')\n",
        "plt.ylabel('Actual')\n",
        "plt.title('Confusion Matrix')\n",
        "plt.show()"
      ],
      "metadata": {
        "colab": {
          "base_uri": "https://localhost:8080/",
          "height": 718
        },
        "id": "EVZcIBTnL18c",
        "outputId": "a291f45d-c52f-4767-d4a7-5695a18afd2a"
      },
      "execution_count": 20,
      "outputs": [
        {
          "output_type": "display_data",
          "data": {
            "text/plain": [
              "<Figure size 1000x800 with 2 Axes>"
            ],
            "image/png": "[encoded data removed]"
          },
          "metadata": {}
        }
      ]
    },
    {
      "cell_type": "markdown",
      "source": [
        "hyperparameter tuning with optuna"
      ],
      "metadata": {
        "id": "VqGn3B4pLWHx"
      }
    },
    {
      "cell_type": "code",
      "source": [
        "# Run Optuna optimization\n",
        "study = optuna.create_study(direction='maximize')\n",
        "study.optimize(objective, n_trials=20)"
      ],
      "metadata": {
        "colab": {
          "base_uri": "https://localhost:8080/"
        },
        "id": "V_8YyJH2Kgjo",
        "outputId": "1602a0fd-2e2f-4110-e84a-5c48f6bcff3c"
      },
      "execution_count": 16,
      "outputs": [
        {
          "output_type": "stream",
          "name": "stderr",
          "text": [
            "[I 2024-06-17 13:00:31,701] A new study created in memory with name: no-name-8321ffe3-3378-4a55-b466-86f5f9d1cd2d\n"
          ]
        },
        {
          "output_type": "stream",
          "name": "stdout",
          "text": [
            "1118/1118 [==============================] - 4s 3ms/step\n"
          ]
        },
        {
          "output_type": "stream",
          "name": "stderr",
          "text": [
            "[I 2024-06-17 13:06:06,341] Trial 0 finished with value: 0.6713730533732212 and parameters: {'units_1': 71, 'dropout_1': 0.49022053218146133, 'units_2': 37, 'dropout_2': 0.46368134615056555, 'dense_units': 102, 'learning_rate': 0.0038394144414305355, 'batch_size': 46}. Best is trial 0 with value: 0.6713730533732212.\n"
          ]
        },
        {
          "output_type": "stream",
          "name": "stdout",
          "text": [
            "1118/1118 [==============================] - 5s 3ms/step\n"
          ]
        },
        {
          "output_type": "stream",
          "name": "stderr",
          "text": [
            "[I 2024-06-17 13:11:58,451] Trial 1 finished with value: 0.6296306651382559 and parameters: {'units_1': 42, 'dropout_1': 0.24099796956805322, 'units_2': 61, 'dropout_2': 0.29177571745437514, 'dense_units': 62, 'learning_rate': 0.0017002458726699025, 'batch_size': 42}. Best is trial 0 with value: 0.6713730533732212.\n"
          ]
        },
        {
          "output_type": "stream",
          "name": "stdout",
          "text": [
            "1118/1118 [==============================] - 4s 3ms/step\n"
          ]
        },
        {
          "output_type": "stream",
          "name": "stderr",
          "text": [
            "[I 2024-06-17 13:18:59,044] Trial 2 finished with value: 0.626527245785221 and parameters: {'units_1': 53, 'dropout_1': 0.46298693043266376, 'units_2': 56, 'dropout_2': 0.4143623030508512, 'dense_units': 53, 'learning_rate': 0.006320556546461697, 'batch_size': 35}. Best is trial 0 with value: 0.6713730533732212.\n"
          ]
        },
        {
          "output_type": "stream",
          "name": "stdout",
          "text": [
            "1118/1118 [==============================] - 4s 3ms/step\n"
          ]
        },
        {
          "output_type": "stream",
          "name": "stderr",
          "text": [
            "[I 2024-06-17 13:26:24,781] Trial 3 finished with value: 0.5860430005312159 and parameters: {'units_1': 84, 'dropout_1': 0.266337303262814, 'units_2': 21, 'dropout_2': 0.30139164155346443, 'dense_units': 100, 'learning_rate': 0.009117335528683698, 'batch_size': 33}. Best is trial 0 with value: 0.6713730533732212.\n"
          ]
        },
        {
          "output_type": "stream",
          "name": "stdout",
          "text": [
            "1118/1118 [==============================] - 5s 4ms/step\n"
          ]
        },
        {
          "output_type": "stream",
          "name": "stderr",
          "text": [
            "[I 2024-06-17 13:29:40,276] Trial 4 finished with value: 0.629518830206615 and parameters: {'units_1': 40, 'dropout_1': 0.436757505237221, 'units_2': 39, 'dropout_2': 0.4482689604888783, 'dense_units': 78, 'learning_rate': 0.004055366333979134, 'batch_size': 79}. Best is trial 0 with value: 0.6713730533732212.\n"
          ]
        },
        {
          "output_type": "stream",
          "name": "stdout",
          "text": [
            "1118/1118 [==============================] - 5s 4ms/step\n"
          ]
        },
        {
          "output_type": "stream",
          "name": "stderr",
          "text": [
            "[I 2024-06-17 13:34:07,648] Trial 5 finished with value: 0.6132468476528644 and parameters: {'units_1': 91, 'dropout_1': 0.2271893012592324, 'units_2': 41, 'dropout_2': 0.22064441941072377, 'dense_units': 56, 'learning_rate': 0.002544011666274773, 'batch_size': 58}. Best is trial 0 with value: 0.6713730533732212.\n"
          ]
        },
        {
          "output_type": "stream",
          "name": "stdout",
          "text": [
            "1118/1118 [==============================] - 5s 4ms/step\n"
          ]
        },
        {
          "output_type": "stream",
          "name": "stderr",
          "text": [
            "[I 2024-06-17 13:37:14,047] Trial 6 finished with value: 0.6096960885732658 and parameters: {'units_1': 57, 'dropout_1': 0.2811812075396108, 'units_2': 27, 'dropout_2': 0.2026841543122045, 'dense_units': 45, 'learning_rate': 0.0002463268543210356, 'batch_size': 84}. Best is trial 0 with value: 0.6713730533732212.\n"
          ]
        },
        {
          "output_type": "stream",
          "name": "stdout",
          "text": [
            "1118/1118 [==============================] - 4s 3ms/step\n"
          ]
        },
        {
          "output_type": "stream",
          "name": "stderr",
          "text": [
            "[I 2024-06-17 13:40:19,393] Trial 7 finished with value: 0.6179439147817821 and parameters: {'units_1': 57, 'dropout_1': 0.21028976234409213, 'units_2': 30, 'dropout_2': 0.22044267451784177, 'dense_units': 114, 'learning_rate': 0.004829434418260175, 'batch_size': 83}. Best is trial 0 with value: 0.6713730533732212.\n"
          ]
        },
        {
          "output_type": "stream",
          "name": "stdout",
          "text": [
            "1118/1118 [==============================] - 4s 3ms/step\n"
          ]
        },
        {
          "output_type": "stream",
          "name": "stderr",
          "text": [
            "[I 2024-06-17 13:43:25,259] Trial 8 finished with value: 0.6026225291469791 and parameters: {'units_1': 88, 'dropout_1': 0.4670691877109649, 'units_2': 41, 'dropout_2': 0.44367398635535815, 'dense_units': 125, 'learning_rate': 0.0009915023836769706, 'batch_size': 86}. Best is trial 0 with value: 0.6713730533732212.\n"
          ]
        },
        {
          "output_type": "stream",
          "name": "stdout",
          "text": [
            "1118/1118 [==============================] - 5s 4ms/step\n"
          ]
        },
        {
          "output_type": "stream",
          "name": "stderr",
          "text": [
            "[I 2024-06-17 13:46:14,128] Trial 9 finished with value: 0.6436100315933682 and parameters: {'units_1': 94, 'dropout_1': 0.49033048962583725, 'units_2': 30, 'dropout_2': 0.4875091531011966, 'dense_units': 124, 'learning_rate': 0.00445722648280751, 'batch_size': 104}. Best is trial 0 with value: 0.6713730533732212.\n"
          ]
        },
        {
          "output_type": "stream",
          "name": "stdout",
          "text": [
            "1118/1118 [==============================] - 4s 3ms/step\n"
          ]
        },
        {
          "output_type": "stream",
          "name": "stderr",
          "text": [
            "[I 2024-06-17 13:50:54,397] Trial 10 finished with value: 0.6111779014175077 and parameters: {'units_1': 122, 'dropout_1': 0.365464821657574, 'units_2': 52, 'dropout_2': 0.3725093399238344, 'dense_units': 94, 'learning_rate': 0.007397082412704859, 'batch_size': 57}. Best is trial 0 with value: 0.6713730533732212.\n"
          ]
        },
        {
          "output_type": "stream",
          "name": "stdout",
          "text": [
            "1118/1118 [==============================] - 5s 3ms/step\n"
          ]
        },
        {
          "output_type": "stream",
          "name": "stderr",
          "text": [
            "[I 2024-06-17 13:53:01,532] Trial 11 finished with value: 0.6699751167277099 and parameters: {'units_1': 107, 'dropout_1': 0.49898893457704924, 'units_2': 33, 'dropout_2': 0.48595465537798294, 'dense_units': 127, 'learning_rate': 0.002934422306945119, 'batch_size': 127}. Best is trial 0 with value: 0.6713730533732212.\n"
          ]
        },
        {
          "output_type": "stream",
          "name": "stdout",
          "text": [
            "1118/1118 [==============================] - 4s 3ms/step\n"
          ]
        },
        {
          "output_type": "stream",
          "name": "stderr",
          "text": [
            "[I 2024-06-17 13:55:21,698] Trial 12 finished with value: 0.689294601168675 and parameters: {'units_1': 115, 'dropout_1': 0.40829908810704535, 'units_2': 47, 'dropout_2': 0.48694322072166685, 'dense_units': 104, 'learning_rate': 0.0030802433675626998, 'batch_size': 122}. Best is trial 12 with value: 0.689294601168675.\n"
          ]
        },
        {
          "output_type": "stream",
          "name": "stdout",
          "text": [
            "1118/1118 [==============================] - 5s 4ms/step\n"
          ]
        },
        {
          "output_type": "stream",
          "name": "stderr",
          "text": [
            "[I 2024-06-17 13:57:33,413] Trial 13 finished with value: 0.632007157435625 and parameters: {'units_1': 71, 'dropout_1': 0.3879795083113973, 'units_2': 47, 'dropout_2': 0.39123069466826993, 'dense_units': 98, 'learning_rate': 0.006226957033641388, 'batch_size': 128}. Best is trial 12 with value: 0.689294601168675.\n"
          ]
        },
        {
          "output_type": "stream",
          "name": "stdout",
          "text": [
            "1118/1118 [==============================] - 4s 3ms/step\n"
          ]
        },
        {
          "output_type": "stream",
          "name": "stderr",
          "text": [
            "[I 2024-06-17 13:59:55,177] Trial 14 finished with value: 0.6117929935415327 and parameters: {'units_1': 127, 'dropout_1': 0.40975995095442275, 'units_2': 48, 'dropout_2': 0.44842344000580225, 'dense_units': 81, 'learning_rate': 0.003140508868993616, 'batch_size': 110}. Best is trial 12 with value: 0.689294601168675.\n"
          ]
        },
        {
          "output_type": "stream",
          "name": "stdout",
          "text": [
            "1118/1118 [==============================] - 4s 3ms/step\n"
          ]
        },
        {
          "output_type": "stream",
          "name": "stderr",
          "text": [
            "[I 2024-06-17 14:03:44,451] Trial 15 finished with value: 0.6359772975088769 and parameters: {'units_1': 74, 'dropout_1': 0.3287797043802874, 'units_2': 64, 'dropout_2': 0.4998510905807287, 'dense_units': 109, 'learning_rate': 0.005568652495682769, 'batch_size': 61}. Best is trial 12 with value: 0.689294601168675.\n"
          ]
        },
        {
          "output_type": "stream",
          "name": "stdout",
          "text": [
            "1118/1118 [==============================] - 4s 3ms/step\n"
          ]
        },
        {
          "output_type": "stream",
          "name": "stderr",
          "text": [
            "[I 2024-06-17 14:06:20,382] Trial 16 finished with value: 0.5968071127016523 and parameters: {'units_1': 107, 'dropout_1': 0.32808525243559333, 'units_2': 37, 'dropout_2': 0.333386166277575, 'dense_units': 83, 'learning_rate': 0.0036651211758774237, 'batch_size': 103}. Best is trial 12 with value: 0.689294601168675.\n"
          ]
        },
        {
          "output_type": "stream",
          "name": "stdout",
          "text": [
            "1118/1118 [==============================] - 4s 3ms/step\n"
          ]
        },
        {
          "output_type": "stream",
          "name": "stderr",
          "text": [
            "[I 2024-06-17 14:10:02,970] Trial 17 finished with value: 0.6045516817177845 and parameters: {'units_1': 116, 'dropout_1': 0.4258951689463639, 'units_2': 20, 'dropout_2': 0.4154762756827699, 'dense_units': 113, 'learning_rate': 0.001937509020917157, 'batch_size': 71}. Best is trial 12 with value: 0.689294601168675.\n"
          ]
        },
        {
          "output_type": "stream",
          "name": "stdout",
          "text": [
            "1118/1118 [==============================] - 4s 3ms/step\n"
          ]
        },
        {
          "output_type": "stream",
          "name": "stderr",
          "text": [
            "[I 2024-06-17 14:14:56,736] Trial 18 finished with value: 0.635613833981044 and parameters: {'units_1': 103, 'dropout_1': 0.4530764358854303, 'units_2': 45, 'dropout_2': 0.4653781543682287, 'dense_units': 90, 'learning_rate': 0.008463037881235586, 'batch_size': 47}. Best is trial 12 with value: 0.689294601168675.\n"
          ]
        },
        {
          "output_type": "stream",
          "name": "stdout",
          "text": [
            "1118/1118 [==============================] - 4s 3ms/step\n"
          ]
        },
        {
          "output_type": "stream",
          "name": "stderr",
          "text": [
            "[I 2024-06-17 14:17:31,733] Trial 19 finished with value: 0.576704783739201 and parameters: {'units_1': 68, 'dropout_1': 0.39351181885608044, 'units_2': 54, 'dropout_2': 0.35267998503066045, 'dense_units': 72, 'learning_rate': 0.005548789465412736, 'batch_size': 94}. Best is trial 12 with value: 0.689294601168675.\n"
          ]
        }
      ]
    },
    {
      "cell_type": "code",
      "source": [
        "# Best trial\n",
        "best_trial = study.best_trial\n",
        "print(f\"Best trial: {best_trial.value}\")\n",
        "print(f\"Best hyperparameters: {best_trial.params}\")\n",
        "\n",
        "# Plot optimization history\n",
        "optuna.visualization.plot_optimization_history(study)\n",
        "plt.show()"
      ],
      "metadata": {
        "colab": {
          "base_uri": "https://localhost:8080/"
        },
        "id": "OvfZgHuzSU_K",
        "outputId": "02e84975-5e3b-4067-f05f-85fdc6aa3eda"
      },
      "execution_count": 17,
      "outputs": [
        {
          "output_type": "stream",
          "name": "stdout",
          "text": [
            "Best trial: 0.689294601168675\n",
            "Best hyperparameters: {'units_1': 115, 'dropout_1': 0.40829908810704535, 'units_2': 47, 'dropout_2': 0.48694322072166685, 'dense_units': 104, 'learning_rate': 0.0030802433675626998, 'batch_size': 122}\n"
          ]
        }
      ]
    },
    {
      "cell_type": "code",
      "source": [
        "# Train the best model with the optimal hyperparameters\n",
        "best_model = create_model(optuna.trial.FixedTrial(best_trial.params))\n",
        "history = best_model.fit(X_train, y_train_encoded, validation_data=(X_test, y_test_encoded), epochs=10, batch_size=best_trial.params['batch_size'], verbose=1)\n"
      ],
      "metadata": {
        "colab": {
          "base_uri": "https://localhost:8080/"
        },
        "id": "PEHTku4DKjKK",
        "outputId": "02084822-eac1-47ac-a14c-d5e824e2d1fe"
      },
      "execution_count": 18,
      "outputs": [
        {
          "output_type": "stream",
          "name": "stdout",
          "text": [
            "Epoch 1/10\n",
            "1451/1451 [==============================] - 18s 10ms/step - loss: 0.3138 - accuracy: 0.8740 - val_loss: 2.3098 - val_accuracy: 0.5913\n",
            "Epoch 2/10\n",
            "1451/1451 [==============================] - 14s 9ms/step - loss: 0.1247 - accuracy: 0.9521 - val_loss: 2.7780 - val_accuracy: 0.5775\n",
            "Epoch 3/10\n",
            "1451/1451 [==============================] - 14s 9ms/step - loss: 0.0905 - accuracy: 0.9671 - val_loss: 2.9861 - val_accuracy: 0.6039\n",
            "Epoch 4/10\n",
            "1451/1451 [==============================] - 13s 9ms/step - loss: 0.0762 - accuracy: 0.9738 - val_loss: 2.0088 - val_accuracy: 0.6763\n",
            "Epoch 5/10\n",
            "1451/1451 [==============================] - 13s 9ms/step - loss: 0.0637 - accuracy: 0.9780 - val_loss: 2.1452 - val_accuracy: 0.6517\n",
            "Epoch 6/10\n",
            "1451/1451 [==============================] - 13s 9ms/step - loss: 0.0606 - accuracy: 0.9784 - val_loss: 3.3597 - val_accuracy: 0.6190\n",
            "Epoch 7/10\n",
            "1451/1451 [==============================] - 13s 9ms/step - loss: 0.0519 - accuracy: 0.9817 - val_loss: 3.2638 - val_accuracy: 0.5937\n",
            "Epoch 8/10\n",
            "1451/1451 [==============================] - 13s 9ms/step - loss: 0.0499 - accuracy: 0.9822 - val_loss: 3.1535 - val_accuracy: 0.6217\n",
            "Epoch 9/10\n",
            "1451/1451 [==============================] - 13s 9ms/step - loss: 0.0457 - accuracy: 0.9841 - val_loss: 3.2162 - val_accuracy: 0.6402\n",
            "Epoch 10/10\n",
            "1451/1451 [==============================] - 13s 9ms/step - loss: 0.0393 - accuracy: 0.9860 - val_loss: 4.0409 - val_accuracy: 0.6614\n"
          ]
        }
      ]
    },
    {
      "cell_type": "code",
      "source": [
        "# Evaluate the best model\n",
        "y_pred_prob = best_model.predict(X_test)\n",
        "y_pred = np.argmax(y_pred_prob, axis=1)\n",
        "y_pred_labels = label_encoder.inverse_transform(y_pred)\n",
        "y_test_labels = label_encoder.inverse_transform(y_test_encoded)"
      ],
      "metadata": {
        "colab": {
          "base_uri": "https://localhost:8080/"
        },
        "id": "HVmGFwnUKmCB",
        "outputId": "6f23c505-81b0-47ca-9977-5d179b858cb8"
      },
      "execution_count": 19,
      "outputs": [
        {
          "output_type": "stream",
          "name": "stdout",
          "text": [
            "1118/1118 [==============================] - 4s 3ms/step\n"
          ]
        }
      ]
    },
    {
      "cell_type": "code",
      "source": [
        "# Performance report\n",
        "print(\"Performance with Tuned Hyperparameters:\")\n",
        "print(f\"Accuracy: {accuracy_score(y_test_labels, y_pred_labels)}\")\n",
        "print(\"Classification Report:\")\n",
        "print(classification_report(y_test_labels, y_pred_labels))\n",
        "print(\"Confusion Matrix:\")\n",
        "print(confusion_matrix(y_test_labels, y_pred_labels))"
      ],
      "metadata": {
        "colab": {
          "base_uri": "https://localhost:8080/"
        },
        "id": "aGDpUkTuKpBa",
        "outputId": "7964adc5-25fc-4c88-9569-74c310fdecbc"
      },
      "execution_count": 20,
      "outputs": [
        {
          "output_type": "stream",
          "name": "stdout",
          "text": [
            "Performance with Tuned Hyperparameters:\n",
            "Accuracy: 0.6614197444571812\n",
            "Classification Report:\n",
            "              precision    recall  f1-score   support\n",
            "\n",
            "          FB       0.97      0.98      0.97      5996\n",
            "       Insta       0.50      1.00      0.67      5951\n",
            "         Red       0.00      0.00      0.00      5955\n",
            "      Reddit       0.54      1.00      0.70      5955\n",
            "      TikTok       0.98      0.16      0.27      5955\n",
            "           X       0.98      0.83      0.90      5955\n",
            "\n",
            "    accuracy                           0.66     35767\n",
            "   macro avg       0.66      0.66      0.59     35767\n",
            "weighted avg       0.66      0.66      0.59     35767\n",
            "\n",
            "Confusion Matrix:\n",
            "[[5857    6   54    0    0   79]\n",
            " [   4 5939    1    0    0    7]\n",
            " [   5 5918    1    2   13   16]\n",
            " [   0    0    0 5953    2    0]\n",
            " [   0   22    1 4983  949    0]\n",
            " [ 193    0  802    0    2 4958]]\n"
          ]
        }
      ]
    },
    {
      "cell_type": "code",
      "source": [
        "# Plot the feature importances\n",
        "tf.keras.utils.plot_model(best_model, to_file='best_lstm_model.png', show_shapes=True, show_layer_names=True)\n",
        "\n",
        "# Plot training history\n",
        "plt.plot(history.history['accuracy'], label='accuracy')\n",
        "plt.plot(history.history['val_accuracy'], label = 'val_accuracy')\n",
        "plt.xlabel('Epoch')\n",
        "plt.ylabel('Accuracy')\n",
        "plt.ylim([0, 1])\n",
        "plt.legend(loc='lower right')\n",
        "plt.show()"
      ],
      "metadata": {
        "colab": {
          "base_uri": "https://localhost:8080/",
          "height": 455
        },
        "id": "uRcYnYwiKrtH",
        "outputId": "74cbb6a4-3feb-4334-8563-ea8856d42b97"
      },
      "execution_count": 21,
      "outputs": [
        {
          "output_type": "display_data",
          "data": {
            "text/plain": [
              "<Figure size 640x480 with 1 Axes>"
            ],
            "image/png": "[encoded data removed]"
          },
          "metadata": {}
        }
      ]
    },
    {
      "cell_type": "markdown",
      "source": [
        "update architecture"
      ],
      "metadata": {
        "id": "RNp2Caizm0sG"
      }
    },
    {
      "cell_type": "code",
      "source": [
        "from tensorflow.keras.layers import Bidirectional, BatchNormalization\n",
        "from tensorflow.keras.callbacks import EarlyStopping"
      ],
      "metadata": {
        "id": "2uPjEzxKm5zy"
      },
      "execution_count": 22,
      "outputs": []
    },
    {
      "cell_type": "code",
      "source": [
        "# update architecture\n",
        "def create_model_v1(trial):\n",
        "    model = Sequential()\n",
        "    model.add(Bidirectional(LSTM(units=trial.suggest_int('units_1', 32, 128), return_sequences=True), input_shape=(X_train.shape[1], X_train.shape[2])))\n",
        "    model.add(BatchNormalization())\n",
        "    model.add(Dropout(trial.suggest_float('dropout_1', 0.2, 0.5)))\n",
        "    model.add(Bidirectional(LSTM(units=trial.suggest_int('units_2', 16, 64), return_sequences=True)))\n",
        "    model.add(BatchNormalization())\n",
        "    model.add(Dropout(trial.suggest_float('dropout_2', 0.2, 0.5)))\n",
        "    model.add(Bidirectional(LSTM(units=trial.suggest_int('units_3', 16, 64))))\n",
        "    model.add(BatchNormalization())\n",
        "    model.add(Dropout(trial.suggest_float('dropout_3', 0.2, 0.5)))\n",
        "    model.add(Dense(units=trial.suggest_int('dense_units', 32, 128), activation='relu'))\n",
        "    model.add(Dense(units=len(label_encoder.classes_), activation='softmax'))\n",
        "\n",
        "    model.compile(optimizer=Adam(learning_rate=trial.suggest_float('learning rate', 1e-4, 1e-2)),\n",
        "                  loss='sparse_categorical_crossentropy',\n",
        "                  metrics=['accuracy'])\n",
        "    return model\n"
      ],
      "metadata": {
        "id": "WITMmuiTm21g"
      },
      "execution_count": 23,
      "outputs": []
    },
    {
      "cell_type": "code",
      "source": [
        "# Define the objective function for Optuna\n",
        "def objective(trial):\n",
        "    model = create_model(trial)\n",
        "    early_stopping = EarlyStopping(monitor='val_loss', patience=5, restore_best_weights=True)\n",
        "    history = model.fit(X_train, y_train_encoded, validation_data=(X_test, y_test_encoded),\n",
        "                        epochs=50, batch_size=trial.suggest_int('batch_size', 32, 128),\n",
        "                        verbose=0, callbacks=[early_stopping])\n",
        "\n",
        "    y_pred_prob = model.predict(X_test)\n",
        "    y_pred = np.argmax(y_pred_prob, axis=1)\n",
        "    accuracy = accuracy_score(y_test_encoded, y_pred)\n",
        "\n",
        "    return accuracy"
      ],
      "metadata": {
        "id": "mAowMgSrno9o"
      },
      "execution_count": 24,
      "outputs": []
    },
    {
      "cell_type": "code",
      "source": [
        "# Create a study and optimize the objective function\n",
        "study = optuna.create_study(direction='maximize')\n",
        "study.optimize(objective, n_trials=50)"
      ],
      "metadata": {
        "colab": {
          "base_uri": "https://localhost:8080/"
        },
        "id": "9I9c1igdnsOn",
        "outputId": "c7f72dc0-9ae8-4e1a-e0aa-179990464cd0"
      },
      "execution_count": 25,
      "outputs": [
        {
          "metadata": {
            "tags": null
          },
          "name": "stderr",
          "output_type": "stream",
          "text": [
            "[I 2024-06-17 14:35:35,035] A new study created in memory with name: no-name-7bdf6469-3336-4405-ae06-fa38d98da262\n"
          ]
        },
        {
          "metadata": {
            "tags": null
          },
          "name": "stdout",
          "output_type": "stream",
          "text": [
            "1118/1118 [==============================] - 4s 3ms/step\n"
          ]
        },
        {
          "metadata": {
            "tags": null
          },
          "name": "stderr",
          "output_type": "stream",
          "text": [
            "[I 2024-06-17 14:42:55,315] Trial 0 finished with value: 0.6391925517935527 and parameters: {'units_1': 84, 'dropout_1': 0.45409559448662495, 'units_2': 29, 'dropout_2': 0.46485718098614, 'dense_units': 118, 'learning_rate': 0.007252788654604704, 'batch_size': 51}. Best is trial 0 with value: 0.6391925517935527.\n"
          ]
        },
        {
          "metadata": {
            "tags": null
          },
          "name": "stdout",
          "output_type": "stream",
          "text": [
            "1118/1118 [==============================] - 4s 3ms/step\n"
          ]
        },
        {
          "metadata": {
            "tags": null
          },
          "name": "stderr",
          "output_type": "stream",
          "text": [
            "[I 2024-06-17 14:46:09,143] Trial 1 finished with value: 0.5973103698940364 and parameters: {'units_1': 46, 'dropout_1': 0.46430014679264203, 'units_2': 27, 'dropout_2': 0.42915411619149113, 'dense_units': 73, 'learning_rate': 0.0051390116761836505, 'batch_size': 74}. Best is trial 0 with value: 0.6391925517935527.\n"
          ]
        },
        {
          "metadata": {
            "tags": null
          },
          "name": "stdout",
          "output_type": "stream",
          "text": [
            "1118/1118 [==============================] - 4s 3ms/step\n"
          ]
        },
        {
          "metadata": {
            "tags": null
          },
          "name": "stderr",
          "output_type": "stream",
          "text": [
            "[I 2024-06-17 14:50:22,647] Trial 2 finished with value: 0.6228087343081612 and parameters: {'units_1': 33, 'dropout_1': 0.26608844213878974, 'units_2': 52, 'dropout_2': 0.2538145320481757, 'dense_units': 47, 'learning_rate': 0.00011351206847035019, 'batch_size': 61}. Best is trial 0 with value: 0.6391925517935527.\n"
          ]
        },
        {
          "metadata": {
            "tags": null
          },
          "name": "stdout",
          "output_type": "stream",
          "text": [
            "1118/1118 [==============================] - 4s 3ms/step\n"
          ]
        },
        {
          "metadata": {
            "tags": null
          },
          "name": "stderr",
          "output_type": "stream",
          "text": [
            "[I 2024-06-17 14:55:53,063] Trial 3 finished with value: 0.5871893085805351 and parameters: {'units_1': 90, 'dropout_1': 0.24910962443489942, 'units_2': 56, 'dropout_2': 0.3933110941615352, 'dense_units': 82, 'learning_rate': 0.00998259652407331, 'batch_size': 90}. Best is trial 0 with value: 0.6391925517935527.\n"
          ]
        },
        {
          "metadata": {
            "tags": null
          },
          "name": "stdout",
          "output_type": "stream",
          "text": [
            "1118/1118 [==============================] - 4s 3ms/step\n"
          ]
        },
        {
          "metadata": {
            "tags": null
          },
          "name": "stderr",
          "output_type": "stream",
          "text": [
            "[I 2024-06-17 14:58:00,746] Trial 4 finished with value: 0.6319232812368943 and parameters: {'units_1': 82, 'dropout_1': 0.41750448531569495, 'units_2': 18, 'dropout_2': 0.25875467306125177, 'dense_units': 47, 'learning_rate': 0.008556733785586785, 'batch_size': 104}. Best is trial 0 with value: 0.6391925517935527.\n"
          ]
        },
        {
          "metadata": {
            "tags": null
          },
          "name": "stdout",
          "output_type": "stream",
          "text": [
            "1118/1118 [==============================] - 4s 3ms/step\n"
          ]
        },
        {
          "metadata": {
            "tags": null
          },
          "name": "stderr",
          "output_type": "stream",
          "text": [
            "[I 2024-06-17 14:59:16,225] Trial 5 finished with value: 0.6103950568960215 and parameters: {'units_1': 64, 'dropout_1': 0.2260789054284474, 'units_2': 58, 'dropout_2': 0.48502455159636626, 'dense_units': 60, 'learning_rate': 0.003032439690360748, 'batch_size': 125}. Best is trial 0 with value: 0.6391925517935527.\n"
          ]
        },
        {
          "metadata": {
            "tags": null
          },
          "name": "stdout",
          "output_type": "stream",
          "text": [
            "1118/1118 [==============================] - 4s 3ms/step\n"
          ]
        },
        {
          "metadata": {
            "tags": null
          },
          "name": "stderr",
          "output_type": "stream",
          "text": [
            "[I 2024-06-17 15:04:01,146] Trial 6 finished with value: 0.635362205384852 and parameters: {'units_1': 73, 'dropout_1': 0.2718596667212639, 'units_2': 43, 'dropout_2': 0.28180744699511856, 'dense_units': 78, 'learning_rate': 0.007225016390516823, 'batch_size': 65}. Best is trial 0 with value: 0.6391925517935527.\n"
          ]
        },
        {
          "metadata": {
            "tags": null
          },
          "name": "stdout",
          "output_type": "stream",
          "text": [
            "1118/1118 [==============================] - 4s 3ms/step\n"
          ]
        },
        {
          "metadata": {
            "tags": null
          },
          "name": "stderr",
          "output_type": "stream",
          "text": [
            "[I 2024-06-17 15:05:45,962] Trial 7 finished with value: 0.6320351161685352 and parameters: {'units_1': 114, 'dropout_1': 0.4206825095935547, 'units_2': 52, 'dropout_2': 0.22826115638163222, 'dense_units': 69, 'learning_rate': 0.006571087322675916, 'batch_size': 92}. Best is trial 0 with value: 0.6391925517935527.\n"
          ]
        },
        {
          "metadata": {
            "tags": null
          },
          "name": "stdout",
          "output_type": "stream",
          "text": [
            "1118/1118 [==============================] - 4s 3ms/step\n"
          ]
        },
        {
          "metadata": {
            "tags": null
          },
          "name": "stderr",
          "output_type": "stream",
          "text": [
            "[I 2024-06-17 15:17:22,801] Trial 8 finished with value: 0.63013392233064 and parameters: {'units_1': 36, 'dropout_1': 0.2290444476563253, 'units_2': 24, 'dropout_2': 0.38120628809169277, 'dense_units': 66, 'learning_rate': 0.005932560492611213, 'batch_size': 33}. Best is trial 0 with value: 0.6391925517935527.\n"
          ]
        },
        {
          "metadata": {
            "tags": null
          },
          "name": "stdout",
          "output_type": "stream",
          "text": [
            "1118/1118 [==============================] - 4s 3ms/step\n"
          ]
        },
        {
          "metadata": {
            "tags": null
          },
          "name": "stderr",
          "output_type": "stream",
          "text": [
            "[I 2024-06-17 15:27:15,675] Trial 9 finished with value: 0.554421673609752 and parameters: {'units_1': 127, 'dropout_1': 0.36789037480413744, 'units_2': 45, 'dropout_2': 0.40936105769530917, 'dense_units': 81, 'learning_rate': 0.006320586581018627, 'batch_size': 66}. Best is trial 0 with value: 0.6391925517935527.\n"
          ]
        },
        {
          "metadata": {
            "tags": null
          },
          "name": "stdout",
          "output_type": "stream",
          "text": [
            "1118/1118 [==============================] - 4s 3ms/step\n"
          ]
        },
        {
          "metadata": {
            "tags": null
          },
          "name": "stderr",
          "output_type": "stream",
          "text": [
            "[I 2024-06-17 15:32:47,031] Trial 10 finished with value: 0.6388011295328095 and parameters: {'units_1': 100, 'dropout_1': 0.49777777715565363, 'units_2': 33, 'dropout_2': 0.48098049892726635, 'dense_units': 123, 'learning_rate': 0.0028915150211807385, 'batch_size': 34}. Best is trial 0 with value: 0.6391925517935527.\n"
          ]
        },
        {
          "metadata": {
            "tags": null
          },
          "name": "stdout",
          "output_type": "stream",
          "text": [
            "1118/1118 [==============================] - 4s 3ms/step\n"
          ]
        },
        {
          "metadata": {
            "tags": null
          },
          "name": "stderr",
          "output_type": "stream",
          "text": [
            "[I 2024-06-17 15:37:11,184] Trial 11 finished with value: 0.6864987278776525 and parameters: {'units_1': 99, 'dropout_1': 0.4996486964959063, 'units_2': 33, 'dropout_2': 0.4924249789968579, 'dense_units': 126, 'learning_rate': 0.002948393948166245, 'batch_size': 32}. Best is trial 11 with value: 0.6864987278776525.\n"
          ]
        },
        {
          "metadata": {
            "tags": null
          },
          "name": "stdout",
          "output_type": "stream",
          "text": [
            "1118/1118 [==============================] - 4s 3ms/step\n"
          ]
        },
        {
          "metadata": {
            "tags": null
          },
          "name": "stderr",
          "output_type": "stream",
          "text": [
            "[I 2024-06-17 15:42:51,686] Trial 12 finished with value: 0.6013923448989292 and parameters: {'units_1': 102, 'dropout_1': 0.4913867951598609, 'units_2': 37, 'dropout_2': 0.45492051207387185, 'dense_units': 122, 'learning_rate': 0.002899699236296985, 'batch_size': 49}. Best is trial 11 with value: 0.6864987278776525.\n"
          ]
        },
        {
          "metadata": {
            "tags": null
          },
          "name": "stdout",
          "output_type": "stream",
          "text": [
            "1118/1118 [==============================] - 4s 3ms/step\n"
          ]
        },
        {
          "metadata": {
            "tags": null
          },
          "name": "stderr",
          "output_type": "stream",
          "text": [
            "[I 2024-06-17 15:45:48,580] Trial 13 finished with value: 0.6103950568960215 and parameters: {'units_1': 63, 'dropout_1': 0.43208071186055885, 'units_2': 31, 'dropout_2': 0.3446814245443257, 'dense_units': 104, 'learning_rate': 0.0041392655449429844, 'batch_size': 49}. Best is trial 11 with value: 0.6864987278776525.\n"
          ]
        },
        {
          "metadata": {
            "tags": null
          },
          "name": "stdout",
          "output_type": "stream",
          "text": [
            "1118/1118 [==============================] - 4s 3ms/step\n"
          ]
        },
        {
          "metadata": {
            "tags": null
          },
          "name": "stderr",
          "output_type": "stream",
          "text": [
            "[I 2024-06-17 15:48:49,413] Trial 14 finished with value: 0.581317974669388 and parameters: {'units_1': 97, 'dropout_1': 0.35084181889611565, 'units_2': 17, 'dropout_2': 0.33923059965092395, 'dense_units': 109, 'learning_rate': 0.0007303400518638564, 'batch_size': 47}. Best is trial 11 with value: 0.6864987278776525.\n"
          ]
        },
        {
          "metadata": {
            "tags": null
          },
          "name": "stdout",
          "output_type": "stream",
          "text": [
            "1118/1118 [==============================] - 4s 3ms/step\n"
          ]
        },
        {
          "metadata": {
            "tags": null
          },
          "name": "stderr",
          "output_type": "stream",
          "text": [
            "[I 2024-06-17 15:53:55,995] Trial 15 finished with value: 0.6280370173623732 and parameters: {'units_1': 116, 'dropout_1': 0.45997898117708463, 'units_2': 38, 'dropout_2': 0.494477764779362, 'dense_units': 98, 'learning_rate': 0.0078016979143983815, 'batch_size': 42}. Best is trial 11 with value: 0.6864987278776525.\n"
          ]
        },
        {
          "metadata": {
            "tags": null
          },
          "name": "stdout",
          "output_type": "stream",
          "text": [
            "1118/1118 [==============================] - 4s 3ms/step\n"
          ]
        },
        {
          "metadata": {
            "tags": null
          },
          "name": "stderr",
          "output_type": "stream",
          "text": [
            "[I 2024-06-17 15:56:53,031] Trial 16 finished with value: 0.6424916822769592 and parameters: {'units_1': 81, 'dropout_1': 0.38301899686797514, 'units_2': 23, 'dropout_2': 0.4442990357954746, 'dense_units': 127, 'learning_rate': 0.001290134152674348, 'batch_size': 57}. Best is trial 11 with value: 0.6864987278776525.\n"
          ]
        },
        {
          "metadata": {
            "tags": null
          },
          "name": "stdout",
          "output_type": "stream",
          "text": [
            "1118/1118 [==============================] - 4s 3ms/step\n"
          ]
        },
        {
          "metadata": {
            "tags": null
          },
          "name": "stderr",
          "output_type": "stream",
          "text": [
            "[I 2024-06-17 15:59:29,453] Trial 17 finished with value: 0.7366846534515056 and parameters: {'units_1': 71, 'dropout_1': 0.31454786070811924, 'units_2': 22, 'dropout_2': 0.43675530213986086, 'dense_units': 92, 'learning_rate': 0.0016309458618835575, 'batch_size': 57}. Best is trial 17 with value: 0.7366846534515056.\n"
          ]
        },
        {
          "metadata": {
            "tags": null
          },
          "name": "stdout",
          "output_type": "stream",
          "text": [
            "1118/1118 [==============================] - 4s 3ms/step\n"
          ]
        },
        {
          "metadata": {
            "tags": null
          },
          "name": "stderr",
          "output_type": "stream",
          "text": [
            "[I 2024-06-17 16:01:25,484] Trial 18 finished with value: 0.5912712835854279 and parameters: {'units_1': 70, 'dropout_1': 0.3100418640484436, 'units_2': 64, 'dropout_2': 0.3200786405624914, 'dense_units': 92, 'learning_rate': 0.0017160010783423764, 'batch_size': 77}. Best is trial 17 with value: 0.7366846534515056.\n"
          ]
        },
        {
          "metadata": {
            "tags": null
          },
          "name": "stdout",
          "output_type": "stream",
          "text": [
            "1118/1118 [==============================] - 4s 3ms/step\n"
          ]
        },
        {
          "metadata": {
            "tags": null
          },
          "name": "stderr",
          "output_type": "stream",
          "text": [
            "[I 2024-06-17 16:06:39,731] Trial 19 finished with value: 0.6594067156876451 and parameters: {'units_1': 54, 'dropout_1': 0.32090387236486784, 'units_2': 21, 'dropout_2': 0.37425266216164665, 'dense_units': 90, 'learning_rate': 0.0039628722676602265, 'batch_size': 40}. Best is trial 17 with value: 0.7366846534515056.\n"
          ]
        },
        {
          "metadata": {
            "tags": null
          },
          "name": "stdout",
          "output_type": "stream",
          "text": [
            "1118/1118 [==============================] - 4s 3ms/step\n"
          ]
        },
        {
          "metadata": {
            "tags": null
          },
          "name": "stderr",
          "output_type": "stream",
          "text": [
            "[I 2024-06-17 16:11:43,124] Trial 20 finished with value: 0.596136103111807 and parameters: {'units_1': 108, 'dropout_1': 0.30898614521378087, 'units_2': 34, 'dropout_2': 0.42407366621022596, 'dense_units': 111, 'learning_rate': 0.0022625720958741494, 'batch_size': 32}. Best is trial 17 with value: 0.7366846534515056.\n"
          ]
        },
        {
          "metadata": {
            "tags": null
          },
          "name": "stdout",
          "output_type": "stream",
          "text": [
            "1118/1118 [==============================] - 4s 3ms/step\n"
          ]
        },
        {
          "metadata": {
            "tags": null
          },
          "name": "stderr",
          "output_type": "stream",
          "text": [
            "[I 2024-06-17 16:15:41,655] Trial 21 finished with value: 0.5927810551625801 and parameters: {'units_1': 53, 'dropout_1': 0.31524310174104236, 'units_2': 22, 'dropout_2': 0.37408242726047297, 'dense_units': 93, 'learning_rate': 0.004135200446245557, 'batch_size': 41}. Best is trial 17 with value: 0.7366846534515056.\n"
          ]
        },
        {
          "metadata": {
            "tags": null
          },
          "name": "stdout",
          "output_type": "stream",
          "text": [
            "1118/1118 [==============================] - 4s 3ms/step\n"
          ]
        },
        {
          "metadata": {
            "tags": null
          },
          "name": "stderr",
          "output_type": "stream",
          "text": [
            "[I 2024-06-17 16:20:44,176] Trial 22 finished with value: 0.6468532446109543 and parameters: {'units_1': 54, 'dropout_1': 0.33533031595725404, 'units_2': 20, 'dropout_2': 0.3060664379132183, 'dense_units': 87, 'learning_rate': 0.0039889711777923754, 'batch_size': 41}. Best is trial 17 with value: 0.7366846534515056.\n"
          ]
        },
        {
          "metadata": {
            "tags": null
          },
          "name": "stdout",
          "output_type": "stream",
          "text": [
            "1118/1118 [==============================] - 4s 3ms/step\n"
          ]
        },
        {
          "metadata": {
            "tags": null
          },
          "name": "stderr",
          "output_type": "stream",
          "text": [
            "[I 2024-06-17 16:24:05,616] Trial 23 finished with value: 0.6000223669863282 and parameters: {'units_1': 44, 'dropout_1': 0.2958196416586501, 'units_2': 27, 'dropout_2': 0.36771880205169916, 'dense_units': 35, 'learning_rate': 0.004764520230324086, 'batch_size': 56}. Best is trial 17 with value: 0.7366846534515056.\n"
          ]
        },
        {
          "metadata": {
            "tags": null
          },
          "name": "stdout",
          "output_type": "stream",
          "text": [
            "1118/1118 [==============================] - 4s 3ms/step\n"
          ]
        },
        {
          "metadata": {
            "tags": null
          },
          "name": "stderr",
          "output_type": "stream",
          "text": [
            "[I 2024-06-17 16:27:45,664] Trial 24 finished with value: 0.6525288673917298 and parameters: {'units_1': 71, 'dropout_1': 0.3907085927570045, 'units_2': 25, 'dropout_2': 0.4173463418079865, 'dense_units': 104, 'learning_rate': 0.0020831185744656193, 'batch_size': 39}. Best is trial 17 with value: 0.7366846534515056.\n"
          ]
        },
        {
          "metadata": {
            "tags": null
          },
          "name": "stdout",
          "output_type": "stream",
          "text": [
            "1118/1118 [==============================] - 4s 3ms/step\n"
          ]
        },
        {
          "metadata": {
            "tags": null
          },
          "name": "stderr",
          "output_type": "stream",
          "text": [
            "[I 2024-06-17 16:29:50,392] Trial 25 finished with value: 0.7066290155730143 and parameters: {'units_1': 59, 'dropout_1': 0.20213263440906776, 'units_2': 16, 'dropout_2': 0.46025220248107046, 'dense_units': 113, 'learning_rate': 0.0034734145223804715, 'batch_size': 70}. Best is trial 17 with value: 0.7366846534515056.\n"
          ]
        },
        {
          "metadata": {
            "tags": null
          },
          "name": "stdout",
          "output_type": "stream",
          "text": [
            "1118/1118 [==============================] - 4s 3ms/step\n"
          ]
        },
        {
          "metadata": {
            "tags": null
          },
          "name": "stderr",
          "output_type": "stream",
          "text": [
            "[I 2024-06-17 16:32:15,180] Trial 26 finished with value: 0.6365923896329019 and parameters: {'units_1': 91, 'dropout_1': 0.20856415833525974, 'units_2': 16, 'dropout_2': 0.46412462394391457, 'dense_units': 115, 'learning_rate': 0.0033650291771538305, 'batch_size': 71}. Best is trial 17 with value: 0.7366846534515056.\n"
          ]
        },
        {
          "metadata": {
            "tags": null
          },
          "name": "stdout",
          "output_type": "stream",
          "text": [
            "1118/1118 [==============================] - 4s 3ms/step\n"
          ]
        },
        {
          "metadata": {
            "tags": null
          },
          "name": "stderr",
          "output_type": "stream",
          "text": [
            "[I 2024-06-17 16:33:59,825] Trial 27 finished with value: 0.6911678362736601 and parameters: {'units_1': 59, 'dropout_1': 0.27343451390489815, 'units_2': 42, 'dropout_2': 0.49694924256866735, 'dense_units': 101, 'learning_rate': 0.0010634550426381149, 'batch_size': 85}. Best is trial 17 with value: 0.7366846534515056.\n"
          ]
        },
        {
          "metadata": {
            "tags": null
          },
          "name": "stdout",
          "output_type": "stream",
          "text": [
            "1118/1118 [==============================] - 4s 3ms/step\n"
          ]
        },
        {
          "metadata": {
            "tags": null
          },
          "name": "stderr",
          "output_type": "stream",
          "text": [
            "[I 2024-06-17 16:35:40,520] Trial 28 finished with value: 0.6195934800234854 and parameters: {'units_1': 61, 'dropout_1': 0.2045091532578304, 'units_2': 45, 'dropout_2': 0.4414296200752369, 'dense_units': 104, 'learning_rate': 0.0009002044763029961, 'batch_size': 88}. Best is trial 17 with value: 0.7366846534515056.\n"
          ]
        },
        {
          "metadata": {
            "tags": null
          },
          "name": "stdout",
          "output_type": "stream",
          "text": [
            "1118/1118 [==============================] - 4s 3ms/step\n"
          ]
        },
        {
          "metadata": {
            "tags": null
          },
          "name": "stderr",
          "output_type": "stream",
          "text": [
            "[I 2024-06-17 16:37:28,576] Trial 29 finished with value: 0.6492017781754131 and parameters: {'units_1': 75, 'dropout_1': 0.2822332236620048, 'units_2': 42, 'dropout_2': 0.47086600593033034, 'dense_units': 98, 'learning_rate': 0.0001938967399792216, 'batch_size': 82}. Best is trial 17 with value: 0.7366846534515056.\n"
          ]
        },
        {
          "metadata": {
            "tags": null
          },
          "name": "stdout",
          "output_type": "stream",
          "text": [
            "1118/1118 [==============================] - 4s 3ms/step\n"
          ]
        },
        {
          "metadata": {
            "tags": null
          },
          "name": "stderr",
          "output_type": "stream",
          "text": [
            "[I 2024-06-17 16:38:57,143] Trial 30 finished with value: 0.635865462577236 and parameters: {'units_1': 48, 'dropout_1': 0.24631487705101773, 'units_2': 48, 'dropout_2': 0.40292974297661444, 'dense_units': 115, 'learning_rate': 0.0016871434715614137, 'batch_size': 100}. Best is trial 17 with value: 0.7366846534515056.\n"
          ]
        },
        {
          "metadata": {
            "tags": null
          },
          "name": "stdout",
          "output_type": "stream",
          "text": [
            "1118/1118 [==============================] - 4s 3ms/step\n"
          ]
        },
        {
          "metadata": {
            "tags": null
          },
          "name": "stderr",
          "output_type": "stream",
          "text": [
            "[I 2024-06-17 16:40:59,095] Trial 31 finished with value: 0.6097520060390863 and parameters: {'units_1': 66, 'dropout_1': 0.3436900662678587, 'units_2': 31, 'dropout_2': 0.4932837644399515, 'dense_units': 128, 'learning_rate': 0.0019798919843452747, 'batch_size': 84}. Best is trial 17 with value: 0.7366846534515056.\n"
          ]
        },
        {
          "metadata": {
            "tags": null
          },
          "name": "stdout",
          "output_type": "stream",
          "text": [
            "1118/1118 [==============================] - 4s 3ms/step\n"
          ]
        },
        {
          "metadata": {
            "tags": null
          },
          "name": "stderr",
          "output_type": "stream",
          "text": [
            "[I 2024-06-17 16:43:07,582] Trial 32 finished with value: 0.6433024855313557 and parameters: {'units_1': 89, 'dropout_1': 0.25557655755133246, 'units_2': 36, 'dropout_2': 0.46203385849626577, 'dense_units': 120, 'learning_rate': 0.002570665280715261, 'batch_size': 70}. Best is trial 17 with value: 0.7366846534515056.\n"
          ]
        },
        {
          "metadata": {
            "tags": null
          },
          "name": "stdout",
          "output_type": "stream",
          "text": [
            "1118/1118 [==============================] - 4s 3ms/step\n"
          ]
        },
        {
          "metadata": {
            "tags": null
          },
          "name": "stderr",
          "output_type": "stream",
          "text": [
            "[I 2024-06-17 16:46:04,205] Trial 33 finished with value: 0.6152039589565801 and parameters: {'units_1': 59, 'dropout_1': 0.28559473647724565, 'units_2': 27, 'dropout_2': 0.49831393241111305, 'dense_units': 99, 'learning_rate': 0.0011905346110685213, 'batch_size': 55}. Best is trial 17 with value: 0.7366846534515056.\n"
          ]
        },
        {
          "metadata": {
            "tags": null
          },
          "name": "stdout",
          "output_type": "stream",
          "text": [
            "1118/1118 [==============================] - 4s 3ms/step\n"
          ]
        },
        {
          "metadata": {
            "tags": null
          },
          "name": "stderr",
          "output_type": "stream",
          "text": [
            "[I 2024-06-17 16:47:34,813] Trial 34 finished with value: 0.7446249335980093 and parameters: {'units_1': 76, 'dropout_1': 0.3637910310386666, 'units_2': 30, 'dropout_2': 0.4442254127014773, 'dense_units': 111, 'learning_rate': 0.004947064826778765, 'batch_size': 103}. Best is trial 34 with value: 0.7446249335980093.\n"
          ]
        },
        {
          "metadata": {
            "tags": null
          },
          "name": "stdout",
          "output_type": "stream",
          "text": [
            "1118/1118 [==============================] - 4s 3ms/step\n"
          ]
        },
        {
          "metadata": {
            "tags": null
          },
          "name": "stderr",
          "output_type": "stream",
          "text": [
            "[I 2024-06-17 16:50:01,545] Trial 35 finished with value: 0.6387452120669891 and parameters: {'units_1': 78, 'dropout_1': 0.37662003084641815, 'units_2': 18, 'dropout_2': 0.4341600628816817, 'dense_units': 109, 'learning_rate': 0.005659210083926656, 'batch_size': 111}. Best is trial 34 with value: 0.7446249335980093.\n"
          ]
        },
        {
          "metadata": {
            "tags": null
          },
          "name": "stdout",
          "output_type": "stream",
          "text": [
            "1118/1118 [==============================] - 4s 3ms/step\n"
          ]
        },
        {
          "metadata": {
            "tags": null
          },
          "name": "stderr",
          "output_type": "stream",
          "text": [
            "[I 2024-06-17 16:51:34,210] Trial 36 finished with value: 0.6743087203287947 and parameters: {'units_1': 68, 'dropout_1': 0.3558867185042963, 'units_2': 29, 'dropout_2': 0.44912136678351544, 'dense_units': 86, 'learning_rate': 0.005312628103035676, 'batch_size': 97}. Best is trial 34 with value: 0.7446249335980093.\n"
          ]
        },
        {
          "metadata": {
            "tags": null
          },
          "name": "stdout",
          "output_type": "stream",
          "text": [
            "1118/1118 [==============================] - 4s 3ms/step\n"
          ]
        },
        {
          "metadata": {
            "tags": null
          },
          "name": "stderr",
          "output_type": "stream",
          "text": [
            "[I 2024-06-17 16:52:59,420] Trial 37 finished with value: 0.6903849917521738 and parameters: {'units_1': 40, 'dropout_1': 0.40209147756010494, 'units_2': 40, 'dropout_2': 0.4729901871791008, 'dense_units': 115, 'learning_rate': 0.004713025657754099, 'batch_size': 106}. Best is trial 34 with value: 0.7446249335980093.\n"
          ]
        },
        {
          "metadata": {
            "tags": null
          },
          "name": "stdout",
          "output_type": "stream",
          "text": [
            "1118/1118 [==============================] - 4s 3ms/step\n"
          ]
        },
        {
          "metadata": {
            "tags": null
          },
          "name": "stderr",
          "output_type": "stream",
          "text": [
            "[I 2024-06-17 16:55:06,716] Trial 38 finished with value: 0.5888109150893281 and parameters: {'units_1': 49, 'dropout_1': 0.23329074275859857, 'units_2': 19, 'dropout_2': 0.3936187986558904, 'dense_units': 96, 'learning_rate': 0.0035757156698123143, 'batch_size': 125}. Best is trial 34 with value: 0.7446249335980093.\n"
          ]
        },
        {
          "metadata": {
            "tags": null
          },
          "name": "stdout",
          "output_type": "stream",
          "text": [
            "1118/1118 [==============================] - 4s 3ms/step\n"
          ]
        },
        {
          "metadata": {
            "tags": null
          },
          "name": "stderr",
          "output_type": "stream",
          "text": [
            "[I 2024-06-17 16:56:27,256] Trial 39 finished with value: 0.6059216596303856 and parameters: {'units_1': 86, 'dropout_1': 0.27641138840341395, 'units_2': 49, 'dropout_2': 0.428976384234318, 'dense_units': 77, 'learning_rate': 0.0005419811740050827, 'batch_size': 117}. Best is trial 34 with value: 0.7446249335980093.\n"
          ]
        },
        {
          "metadata": {
            "tags": null
          },
          "name": "stdout",
          "output_type": "stream",
          "text": [
            "1118/1118 [==============================] - 4s 3ms/step\n"
          ]
        },
        {
          "metadata": {
            "tags": null
          },
          "name": "stderr",
          "output_type": "stream",
          "text": [
            "[I 2024-06-17 16:59:06,513] Trial 40 finished with value: 0.6320630749014454 and parameters: {'units_1': 58, 'dropout_1': 0.32761041502587795, 'units_2': 25, 'dropout_2': 0.4786032482241139, 'dense_units': 106, 'learning_rate': 0.0013682109358734307, 'batch_size': 63}. Best is trial 34 with value: 0.7446249335980093.\n"
          ]
        },
        {
          "metadata": {
            "tags": null
          },
          "name": "stdout",
          "output_type": "stream",
          "text": [
            "1118/1118 [==============================] - 4s 3ms/step\n"
          ]
        },
        {
          "metadata": {
            "tags": null
          },
          "name": "stderr",
          "output_type": "stream",
          "text": [
            "[I 2024-06-17 17:01:06,070] Trial 41 finished with value: 0.6186988005703582 and parameters: {'units_1': 42, 'dropout_1': 0.41074903787197153, 'units_2': 40, 'dropout_2': 0.4724503247975, 'dense_units': 115, 'learning_rate': 0.004926044846342335, 'batch_size': 109}. Best is trial 34 with value: 0.7446249335980093.\n"
          ]
        },
        {
          "metadata": {
            "tags": null
          },
          "name": "stdout",
          "output_type": "stream",
          "text": [
            "1118/1118 [==============================] - 4s 3ms/step\n"
          ]
        },
        {
          "metadata": {
            "tags": null
          },
          "name": "stderr",
          "output_type": "stream",
          "text": [
            "[I 2024-06-17 17:02:24,774] Trial 42 finished with value: 0.6574775631168396 and parameters: {'units_1': 39, 'dropout_1': 0.3997985259741475, 'units_2': 40, 'dropout_2': 0.4576083275124185, 'dense_units': 117, 'learning_rate': 0.005298416819591832, 'batch_size': 116}. Best is trial 34 with value: 0.7446249335980093.\n"
          ]
        },
        {
          "metadata": {
            "tags": null
          },
          "name": "stdout",
          "output_type": "stream",
          "text": [
            "1118/1118 [==============================] - 4s 3ms/step\n"
          ]
        },
        {
          "metadata": {
            "tags": null
          },
          "name": "stderr",
          "output_type": "stream",
          "text": [
            "[I 2024-06-17 17:04:07,794] Trial 43 finished with value: 0.7050353677971314 and parameters: {'units_1': 76, 'dropout_1': 0.2952722183184059, 'units_2': 55, 'dropout_2': 0.4397687979031949, 'dense_units': 112, 'learning_rate': 0.009930971584773754, 'batch_size': 96}. Best is trial 34 with value: 0.7446249335980093.\n"
          ]
        },
        {
          "output_type": "stream",
          "name": "stdout",
          "text": [
            "1118/1118 [==============================] - 4s 3ms/step\n"
          ]
        },
        {
          "output_type": "stream",
          "name": "stderr",
          "text": [
            "[I 2024-06-17 17:06:16,680] Trial 44 finished with value: 0.6062851231582185 and parameters: {'units_1': 79, 'dropout_1': 0.2964093926603605, 'units_2': 57, 'dropout_2': 0.4054053808771309, 'dense_units': 100, 'learning_rate': 0.009402687208457609, 'batch_size': 95}. Best is trial 34 with value: 0.7446249335980093.\n"
          ]
        },
        {
          "output_type": "stream",
          "name": "stdout",
          "text": [
            "1118/1118 [==============================] - 4s 3ms/step\n"
          ]
        },
        {
          "output_type": "stream",
          "name": "stderr",
          "text": [
            "[I 2024-06-17 17:08:01,301] Trial 45 finished with value: 0.537227052869964 and parameters: {'units_1': 73, 'dropout_1': 0.25946200896732796, 'units_2': 61, 'dropout_2': 0.4384923585147212, 'dense_units': 109, 'learning_rate': 0.007042305220195945, 'batch_size': 87}. Best is trial 34 with value: 0.7446249335980093.\n"
          ]
        },
        {
          "output_type": "stream",
          "name": "stdout",
          "text": [
            "1118/1118 [==============================] - 4s 3ms/step\n"
          ]
        },
        {
          "output_type": "stream",
          "name": "stderr",
          "text": [
            "[I 2024-06-17 17:13:15,823] Trial 46 finished with value: 0.5400508848938966 and parameters: {'units_1': 65, 'dropout_1': 0.36646836061464616, 'units_2': 54, 'dropout_2': 0.42416364171760473, 'dense_units': 56, 'learning_rate': 0.007991512934789615, 'batch_size': 76}. Best is trial 34 with value: 0.7446249335980093.\n"
          ]
        },
        {
          "output_type": "stream",
          "name": "stdout",
          "text": [
            "1118/1118 [==============================] - 4s 3ms/step\n"
          ]
        },
        {
          "output_type": "stream",
          "name": "stderr",
          "text": [
            "[I 2024-06-17 17:19:11,418] Trial 47 finished with value: 0.6232001565689043 and parameters: {'units_1': 84, 'dropout_1': 0.24136780573562702, 'units_2': 50, 'dropout_2': 0.48309145287145205, 'dense_units': 111, 'learning_rate': 0.00950037674751129, 'batch_size': 92}. Best is trial 34 with value: 0.7446249335980093.\n"
          ]
        },
        {
          "output_type": "stream",
          "name": "stdout",
          "text": [
            "1118/1118 [==============================] - 4s 3ms/step\n"
          ]
        },
        {
          "output_type": "stream",
          "name": "stderr",
          "text": [
            "[I 2024-06-17 17:20:42,297] Trial 48 finished with value: 0.6704504151871837 and parameters: {'units_1': 75, 'dropout_1': 0.21381761634311874, 'units_2': 16, 'dropout_2': 0.23580508515283152, 'dense_units': 122, 'learning_rate': 0.006403896022390761, 'batch_size': 100}. Best is trial 34 with value: 0.7446249335980093.\n"
          ]
        },
        {
          "output_type": "stream",
          "name": "stdout",
          "text": [
            "1118/1118 [==============================] - 4s 3ms/step\n"
          ]
        },
        {
          "output_type": "stream",
          "name": "stderr",
          "text": [
            "[I 2024-06-17 17:25:25,829] Trial 49 finished with value: 0.6876170771940615 and parameters: {'units_1': 68, 'dropout_1': 0.22336805798332665, 'units_2': 54, 'dropout_2': 0.4530250851136151, 'dense_units': 102, 'learning_rate': 0.0033575640654797483, 'batch_size': 69}. Best is trial 34 with value: 0.7446249335980093.\n"
          ]
        }
      ]
    },
    {
      "cell_type": "code",
      "source": [
        "# Print best hyperparameters\n",
        "print('Best hyperparameters:', study.best_params)\n",
        "\n",
        "# Visualize the optimization history\n",
        "optuna.visualization.plot_optimization_history(study)\n",
        "plt.show()\n",
        "\n",
        "# Visualize the hyperparameter importance\n",
        "optuna.visualization.plot_param_importances(study)\n",
        "plt.show()"
      ],
      "metadata": {
        "colab": {
          "base_uri": "https://localhost:8080/"
        },
        "id": "wMSGEXpMn-we",
        "outputId": "d2370b0f-2d3e-48c6-d0b2-3ccb53c4876a"
      },
      "execution_count": 26,
      "outputs": [
        {
          "output_type": "stream",
          "name": "stdout",
          "text": [
            "Best hyperparameters: {'units_1': 76, 'dropout_1': 0.3637910310386666, 'units_2': 30, 'dropout_2': 0.4442254127014773, 'dense_units': 111, 'learning_rate': 0.004947064826778765, 'batch_size': 103}\n"
          ]
        }
      ]
    },
    {
      "cell_type": "code",
      "source": [
        "# Train the best model using the best hyperparameters\n",
        "best_trial = study.best_trial\n",
        "best_model = create_model(best_trial)\n",
        "early_stopping = EarlyStopping(monitor='val_loss', patience=5, restore_best_weights=True)\n",
        "best_model.fit(X_train, y_train_encoded, validation_data=(X_test, y_test_encoded),\n",
        "               epochs=50, batch_size=best_trial.params['batch_size'],\n",
        "               verbose=1, callbacks=[early_stopping])"
      ],
      "metadata": {
        "colab": {
          "base_uri": "https://localhost:8080/"
        },
        "id": "lO81_UnloCm7",
        "outputId": "ae98cbfc-bf9d-4774-c06a-c551d66afe83"
      },
      "execution_count": 29,
      "outputs": [
        {
          "output_type": "stream",
          "name": "stdout",
          "text": [
            "Epoch 1/50\n",
            "1719/1719 [==============================] - 19s 9ms/step - loss: 0.3681 - accuracy: 0.8447 - val_loss: 3.0726 - val_accuracy: 0.6079\n",
            "Epoch 2/50\n",
            "1719/1719 [==============================] - 15s 9ms/step - loss: 0.1287 - accuracy: 0.9517 - val_loss: 3.0394 - val_accuracy: 0.6269\n",
            "Epoch 3/50\n",
            "1719/1719 [==============================] - 15s 9ms/step - loss: 0.1016 - accuracy: 0.9638 - val_loss: 2.8200 - val_accuracy: 0.5954\n",
            "Epoch 4/50\n",
            "1719/1719 [==============================] - 15s 9ms/step - loss: 0.0917 - accuracy: 0.9681 - val_loss: 2.7749 - val_accuracy: 0.6358\n",
            "Epoch 5/50\n",
            "1719/1719 [==============================] - 15s 9ms/step - loss: 0.0864 - accuracy: 0.9697 - val_loss: 2.9417 - val_accuracy: 0.6173\n",
            "Epoch 6/50\n",
            "1719/1719 [==============================] - 15s 9ms/step - loss: 0.0726 - accuracy: 0.9750 - val_loss: 2.5148 - val_accuracy: 0.6238\n",
            "Epoch 7/50\n",
            "1719/1719 [==============================] - 15s 9ms/step - loss: 0.0689 - accuracy: 0.9758 - val_loss: 4.5894 - val_accuracy: 0.5923\n",
            "Epoch 8/50\n",
            "1719/1719 [==============================] - 15s 9ms/step - loss: 0.0661 - accuracy: 0.9774 - val_loss: 3.8323 - val_accuracy: 0.5962\n",
            "Epoch 9/50\n",
            "1719/1719 [==============================] - 15s 9ms/step - loss: 0.0736 - accuracy: 0.9761 - val_loss: 2.6665 - val_accuracy: 0.6390\n",
            "Epoch 10/50\n",
            "1719/1719 [==============================] - 15s 8ms/step - loss: 0.0597 - accuracy: 0.9795 - val_loss: 4.0570 - val_accuracy: 0.6587\n",
            "Epoch 11/50\n",
            "1719/1719 [==============================] - 15s 9ms/step - loss: 0.0629 - accuracy: 0.9787 - val_loss: 3.9572 - val_accuracy: 0.5962\n"
          ]
        },
        {
          "output_type": "execute_result",
          "data": {
            "text/plain": [
              "<keras.src.callbacks.History at 0x7bb82320d090>"
            ]
          },
          "metadata": {},
          "execution_count": 29
        }
      ]
    },
    {
      "cell_type": "code",
      "source": [
        "# Evaluate the best model\n",
        "y_pred_prob = best_model.predict(X_test)\n",
        "y_pred = np.argmax(y_pred_prob, axis=1)\n",
        "accuracy = accuracy_score(y_test_encoded, y_pred)\n",
        "print(f\"Accuracy of the best model: {accuracy}\")\n",
        "\n",
        "# Print classification report\n",
        "print(\"Classification Report:\")\n",
        "print(classification_report(y_test_encoded, y_pred, target_names=label_encoder.classes_))\n",
        "\n",
        "# Plot confusion matrix\n",
        "conf_matrix = confusion_matrix(y_test_encoded, y_pred)\n",
        "plt.figure(figsize=(10, 8))\n",
        "sns.heatmap(conf_matrix, annot=True, fmt='d', cmap='Blues', xticklabels=label_encoder.classes_, yticklabels=label_encoder.classes_)\n",
        "plt.xlabel('Predicted')\n",
        "plt.ylabel('True')\n",
        "plt.title('Confusion Matrix')\n",
        "plt.show()"
      ],
      "metadata": {
        "colab": {
          "base_uri": "https://localhost:8080/",
          "height": 996
        },
        "id": "ep7XXvm-nwIv",
        "outputId": "eb059061-8857-4156-92d4-8c6b2ecc3fe7"
      },
      "execution_count": 30,
      "outputs": [
        {
          "output_type": "stream",
          "name": "stdout",
          "text": [
            "1118/1118 [==============================] - 5s 4ms/step\n",
            "Accuracy of the best model: 0.623787289960019\n",
            "Classification Report:\n",
            "              precision    recall  f1-score   support\n",
            "\n",
            "          FB       0.95      0.87      0.91      5996\n",
            "       Insta       0.50      1.00      0.66      5951\n",
            "         Red       0.00      0.00      0.00      5955\n",
            "      Reddit       0.52      0.94      0.67      5955\n",
            "      TikTok       0.62      0.13      0.21      5955\n",
            "           X       0.88      0.80      0.84      5955\n",
            "\n",
            "    accuracy                           0.62     35767\n",
            "   macro avg       0.58      0.62      0.55     35767\n",
            "weighted avg       0.58      0.62      0.55     35767\n",
            "\n"
          ]
        },
        {
          "output_type": "display_data",
          "data": {
            "text/plain": [
              "<Figure size 1000x800 with 2 Axes>"
            ],
            "image/png": "[encoded data removed]"
          },
          "metadata": {}
        }
      ]
    },
    {
      "cell_type": "code",
      "source": [
        "from keras.callbacks import ReduceLROnPlateau\n",
        "\n",
        "# Reduce learning rate when a metric has stopped improving\n",
        "reduce_lr = ReduceLROnPlateau(monitor='val_loss', factor=0.2, patience=3, min_lr=0.001)\n",
        "\n",
        "# Early stopping callback with higher patience\n",
        "early_stopping = EarlyStopping(monitor='val_loss', patience=10, restore_best_weights=True)\n",
        "\n",
        "# Train the model with the best hyperparameters found\n",
        "best_model.fit(X_train, y_train_encoded, validation_data=(X_test, y_test_encoded),\n",
        "               epochs=50, batch_size=best_trial.params['batch_size'],\n",
        "               verbose=1, callbacks=[early_stopping, reduce_lr])\n"
      ],
      "metadata": {
        "colab": {
          "base_uri": "https://localhost:8080/"
        },
        "id": "eP5fWWHEvsID",
        "outputId": "93364f64-1896-4b1a-c7a2-86c76070899a"
      },
      "execution_count": 31,
      "outputs": [
        {
          "output_type": "stream",
          "name": "stdout",
          "text": [
            "Epoch 1/50\n",
            "1719/1719 [==============================] - 15s 9ms/step - loss: 0.0770 - accuracy: 0.9740 - val_loss: 2.7718 - val_accuracy: 0.6194 - lr: 0.0049\n",
            "Epoch 2/50\n",
            "1719/1719 [==============================] - 15s 9ms/step - loss: 0.0657 - accuracy: 0.9773 - val_loss: 3.3950 - val_accuracy: 0.6385 - lr: 0.0049\n",
            "Epoch 3/50\n",
            "1719/1719 [==============================] - 15s 9ms/step - loss: 0.0663 - accuracy: 0.9774 - val_loss: 2.9731 - val_accuracy: 0.6452 - lr: 0.0049\n",
            "Epoch 4/50\n",
            "1719/1719 [==============================] - 14s 8ms/step - loss: 0.0594 - accuracy: 0.9794 - val_loss: 2.8438 - val_accuracy: 0.6182 - lr: 0.0049\n",
            "Epoch 5/50\n",
            "1719/1719 [==============================] - 16s 9ms/step - loss: 0.0316 - accuracy: 0.9888 - val_loss: 3.3946 - val_accuracy: 0.6295 - lr: 0.0010\n",
            "Epoch 6/50\n",
            "1719/1719 [==============================] - 14s 8ms/step - loss: 0.0267 - accuracy: 0.9903 - val_loss: 3.3605 - val_accuracy: 0.6421 - lr: 0.0010\n",
            "Epoch 7/50\n",
            "1719/1719 [==============================] - 14s 8ms/step - loss: 0.0242 - accuracy: 0.9913 - val_loss: 3.5409 - val_accuracy: 0.6234 - lr: 0.0010\n",
            "Epoch 8/50\n",
            "1719/1719 [==============================] - 14s 8ms/step - loss: 0.0212 - accuracy: 0.9924 - val_loss: 3.7484 - val_accuracy: 0.6011 - lr: 0.0010\n",
            "Epoch 9/50\n",
            "1719/1719 [==============================] - 14s 8ms/step - loss: 0.0199 - accuracy: 0.9927 - val_loss: 3.8195 - val_accuracy: 0.6269 - lr: 0.0010\n",
            "Epoch 10/50\n",
            "1719/1719 [==============================] - 14s 8ms/step - loss: 0.0192 - accuracy: 0.9932 - val_loss: 3.7813 - val_accuracy: 0.6208 - lr: 0.0010\n",
            "Epoch 11/50\n",
            "1719/1719 [==============================] - 14s 8ms/step - loss: 0.0182 - accuracy: 0.9933 - val_loss: 4.7919 - val_accuracy: 0.6085 - lr: 0.0010\n"
          ]
        },
        {
          "output_type": "execute_result",
          "data": {
            "text/plain": [
              "<keras.src.callbacks.History at 0x7bb823186b30>"
            ]
          },
          "metadata": {},
          "execution_count": 31
        }
      ]
    },
    {
      "cell_type": "code",
      "source": [
        "# Evaluate the best model\n",
        "y_pred_prob = best_model.predict(X_test)\n",
        "y_pred = np.argmax(y_pred_prob, axis=1)\n",
        "accuracy = accuracy_score(y_test_encoded, y_pred)\n",
        "print(f\"Accuracy of the best model: {accuracy}\")\n",
        "\n",
        "# Print classification report\n",
        "print(\"Classification Report:\")\n",
        "print(classification_report(y_test_encoded, y_pred, target_names=label_encoder.classes_))\n",
        "\n",
        "# Plot confusion matrix\n",
        "conf_matrix = confusion_matrix(y_test_encoded, y_pred)\n",
        "plt.figure(figsize=(10, 8))\n",
        "sns.heatmap(conf_matrix, annot=True, fmt='d', cmap='Blues', xticklabels=label_encoder.classes_, yticklabels=label_encoder.classes_)\n",
        "plt.xlabel('Predicted')\n",
        "plt.ylabel('True')\n",
        "plt.title('Confusion Matrix')\n",
        "plt.show()"
      ],
      "metadata": {
        "colab": {
          "base_uri": "https://localhost:8080/",
          "height": 996
        },
        "id": "TSV7XNRVvwng",
        "outputId": "c60367c1-a0ef-4073-bdf9-31778e902824"
      },
      "execution_count": 32,
      "outputs": [
        {
          "output_type": "stream",
          "name": "stdout",
          "text": [
            "1118/1118 [==============================] - 4s 4ms/step\n",
            "Accuracy of the best model: 0.6193977688931137\n",
            "Classification Report:\n",
            "              precision    recall  f1-score   support\n",
            "\n",
            "          FB       0.99      0.85      0.92      5996\n",
            "       Insta       0.49      1.00      0.66      5951\n",
            "         Red       0.00      0.00      0.00      5955\n",
            "      Reddit       0.61      0.99      0.75      5955\n",
            "      TikTok       0.97      0.35      0.52      5955\n",
            "           X       0.86      0.52      0.65      5955\n",
            "\n",
            "    accuracy                           0.62     35767\n",
            "   macro avg       0.65      0.62      0.58     35767\n",
            "weighted avg       0.65      0.62      0.58     35767\n",
            "\n"
          ]
        },
        {
          "output_type": "display_data",
          "data": {
            "text/plain": [
              "<Figure size 1000x800 with 2 Axes>"
            ],
            "image/png": "[encoded data removed]"
          },
          "metadata": {}
        }
      ]
    },
    {
      "cell_type": "code",
      "source": [
        "# Plot the feature importances\n",
        "tf.keras.utils.plot_model(best_model, to_file='best_lstm_model.png', show_shapes=True, show_layer_names=True)\n",
        "\n",
        "# Plot training history\n",
        "plt.plot(history.history['accuracy'], label='accuracy')\n",
        "plt.plot(history.history['val_accuracy'], label = 'val_accuracy')\n",
        "plt.xlabel('Epoch')\n",
        "plt.ylabel('Accuracy')\n",
        "plt.ylim([0, 1])\n",
        "plt.legend(loc='lower right')\n",
        "plt.show()"
      ],
      "metadata": {
        "colab": {
          "base_uri": "https://localhost:8080/",
          "height": 455
        },
        "id": "4QIpgmDwv-R_",
        "outputId": "16b20d7b-97ca-4526-dddb-2c3b0031b579"
      },
      "execution_count": 33,
      "outputs": [
        {
          "output_type": "display_data",
          "data": {
            "text/plain": [
              "<Figure size 640x480 with 1 Axes>"
            ],
            "image/png": "[encoded data removed]"
          },
          "metadata": {}
        }
      ]
    }
  ]
}